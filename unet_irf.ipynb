{
 "cells": [
  {
   "cell_type": "markdown",
   "id": "bffddeef",
   "metadata": {},
   "source": [
    "# U-Net Runs"
   ]
  },
  {
   "cell_type": "markdown",
   "id": "2b7e0ac1",
   "metadata": {},
   "source": [
    "## Table of Contents\n",
    "* [Iteration 19](#iteration19)"
   ]
  },
  {
   "cell_type": "markdown",
   "id": "6b8a021e",
   "metadata": {},
   "source": [
    "## Iteration 19 <a id=\"iteration19\"></a>"
   ]
  },
  {
   "cell_type": "markdown",
   "id": "537db6b0",
   "metadata": {},
   "source": [
    "*Run 063*\n",
    "- Train Folds: 3, 4, 5\n",
    "- Validation Fold: 2\n",
    "- Test Fold: 2\n",
    "- Unused Fold: 1"
   ]
  },
  {
   "cell_type": "code",
   "execution_count": null,
   "id": "4035a61e",
   "metadata": {},
   "outputs": [],
   "source": [
    "from train import train_model\n",
    "\n",
    "train_model(\n",
    "    run_name=\"Run063\",\n",
    "    model_name=\"UNet3\",\n",
    "    device=\"GPU\",\n",
    "    split=\"competitive_fold_selection.csv\",\n",
    "    epochs=200,\n",
    "    batch_size=32,\n",
    "    learning_rate=2e-5,\n",
    "    optimizer_name=\"Adam\",\n",
    "    momentum=0.999,\n",
    "    weight_decay=0.0001,\n",
    "    gradient_clipping=1.0,\n",
    "    scheduler=False, \n",
    "    patch_type=\"vertical\",\n",
    "    number_of_classes=2,\n",
    "    number_of_channels=1,\n",
    "    fold_test=1,\n",
    "    fold_val=2,\n",
    "    tuning=True,\n",
    "    patch_shape=(256,128), \n",
    "    n_pos=12, \n",
    "    n_neg=0, \n",
    "    pos=1, \n",
    "    neg=0,\n",
    "    amp=True,\n",
    "    assyncronous_patch_extraction=True,\n",
    "    patch_dropping=True,\n",
    "    drop_prob=0.75,\n",
    "    patience=25,\n",
    "    num_patches=7,\n",
    "    patience_after_n=100,\n",
    "    fluid=\"IRF\"\n",
    ")"
   ]
  },
  {
   "cell_type": "markdown",
   "id": "4121bb4d",
   "metadata": {},
   "source": [
    "Training"
   ]
  },
  {
   "cell_type": "markdown",
   "id": "ea3fe660",
   "metadata": {},
   "source": [
    "Plotting Logs"
   ]
  },
  {
   "cell_type": "code",
   "execution_count": null,
   "id": "af8c0894",
   "metadata": {},
   "outputs": [],
   "source": [
    "from plot_logs import plot_logs\n",
    "\n",
    "plot_logs(imgs_folder=\"unet_vertical_imgs\", run_name=\"Run063\")"
   ]
  },
  {
   "cell_type": "markdown",
   "id": "02a88e88",
   "metadata": {},
   "source": [
    "Testing"
   ]
  },
  {
   "cell_type": "code",
   "execution_count": null,
   "id": "cf0d6f62",
   "metadata": {},
   "outputs": [],
   "source": [
    "from test_model import test_model\n",
    "\n",
    "test_model(\n",
    "    fold_test=2,\n",
    "    model_name=\"UNet3\",\n",
    "    weights_name=\"Run063_UNet_best_model.pth\",\n",
    "    number_of_channels=1,\n",
    "    number_of_classes=2,\n",
    "    device_name=\"GPU\",\n",
    "    batch_size=1,\n",
    "    patch_type=\"vertical\",\n",
    "    save_images=True,\n",
    "    resize_images=True\n",
    ")"
   ]
  },
  {
   "cell_type": "markdown",
   "id": "79882c03",
   "metadata": {},
   "source": [
    "Show Test Results"
   ]
  },
  {
   "cell_type": "code",
   "execution_count": null,
   "id": "a36cd056",
   "metadata": {},
   "outputs": [],
   "source": [
    "from pandas import read_csv\n",
    "\n",
    "class_df = read_csv(\"results\\\\Run063_class_dice_resized.csv\")\n",
    "class_df"
   ]
  },
  {
   "cell_type": "code",
   "execution_count": null,
   "id": "7f79f113",
   "metadata": {},
   "outputs": [],
   "source": [
    "from pandas import read_csv\n",
    "\n",
    "vendor_df = read_csv(\"results\\\\Run063_vendor_dice_resized.csv\")\n",
    "vendor_df"
   ]
  },
  {
   "cell_type": "markdown",
   "id": "afa5d2aa",
   "metadata": {},
   "source": [
    "Measures to Prevent Running Out Of Memory Between Runs"
   ]
  },
  {
   "cell_type": "markdown",
   "id": "863f68ff",
   "metadata": {},
   "source": [
    "Clear Cache"
   ]
  },
  {
   "cell_type": "code",
   "execution_count": null,
   "id": "eda4da78",
   "metadata": {},
   "outputs": [],
   "source": [
    "import torch\n",
    "import warnings\n",
    "\n",
    "warnings.simplefilter(\"ignore\", FutureWarning)\n",
    "torch.cuda.empty_cache()\n",
    "torch.cuda.reset_max_memory_allocated()"
   ]
  },
  {
   "cell_type": "markdown",
   "id": "657e5705",
   "metadata": {},
   "source": [
    "Restart Kernel"
   ]
  },
  {
   "cell_type": "code",
   "execution_count": null,
   "id": "761c25bd",
   "metadata": {},
   "outputs": [],
   "source": [
    "import IPython\n",
    "\n",
    "IPython.display.clear_output(wait=True)"
   ]
  },
  {
   "cell_type": "markdown",
   "id": "25dd0705",
   "metadata": {},
   "source": [
    "*Run 064*\n",
    "- Train Folds: 2, 4, 5\n",
    "- Validation Fold: 3\n",
    "- Test Fold: 3\n",
    "- Unused Fold: 1"
   ]
  },
  {
   "cell_type": "markdown",
   "id": "8fded63f",
   "metadata": {},
   "source": [
    "Training"
   ]
  },
  {
   "cell_type": "code",
   "execution_count": null,
   "id": "0a7cf3c1",
   "metadata": {},
   "outputs": [],
   "source": [
    "from train import train_model\n",
    "\n",
    "train_model(\n",
    "    run_name=\"Run064\",\n",
    "    model_name=\"UNet3\",\n",
    "    device=\"GPU\",\n",
    "    split=\"competitive_fold_selection.csv\",\n",
    "    epochs=200,\n",
    "    batch_size=32,\n",
    "    learning_rate=2e-5,\n",
    "    optimizer_name=\"Adam\",\n",
    "    momentum=0.999,\n",
    "    weight_decay=0.0001,\n",
    "    gradient_clipping=1.0,\n",
    "    scheduler=False, \n",
    "    patch_type=\"vertical\",\n",
    "    number_of_classes=2,\n",
    "    number_of_channels=1,\n",
    "    fold_test=1,\n",
    "    fold_val=3,\n",
    "    tuning=True,\n",
    "    patch_shape=(256,128),\n",
    "    n_pos=12, \n",
    "    n_neg=0, \n",
    "    pos=1,\n",
    "    neg=0,\n",
    "    amp=True,\n",
    "    assyncronous_patch_extraction=True,\n",
    "    patch_dropping=True,\n",
    "    drop_prob=0.75,\n",
    "    patience=25,\n",
    "    num_patches=7,\n",
    "    patience_after_n=100,\n",
    "    fluid=\"IRF\"\n",
    ")"
   ]
  },
  {
   "cell_type": "markdown",
   "id": "13cc9e18",
   "metadata": {},
   "source": [
    "Plotting Logs"
   ]
  },
  {
   "cell_type": "code",
   "execution_count": null,
   "id": "8672abff",
   "metadata": {},
   "outputs": [],
   "source": [
    "from plot_logs import plot_logs\n",
    "\n",
    "plot_logs(imgs_folder=\"unet_vertical_imgs\", run_name=\"Run064\")"
   ]
  },
  {
   "cell_type": "markdown",
   "id": "7c4ab5ff",
   "metadata": {},
   "source": [
    "Testing"
   ]
  },
  {
   "cell_type": "code",
   "execution_count": null,
   "id": "00419df7",
   "metadata": {},
   "outputs": [],
   "source": [
    "from test_model import test_model\n",
    "\n",
    "test_model(\n",
    "    fold_test=3,\n",
    "    model_name=\"UNet3\",\n",
    "    weights_name=\"Run064_UNet_best_model.pth\",\n",
    "    number_of_channels=1,\n",
    "    number_of_classes=2,\n",
    "    device_name=\"GPU\",\n",
    "    batch_size=1,\n",
    "    patch_type=\"vertical\",\n",
    "    save_images=True,\n",
    "    resize_images=True\n",
    ")"
   ]
  },
  {
   "cell_type": "markdown",
   "id": "8bc69d47",
   "metadata": {},
   "source": [
    "Show Test Results"
   ]
  },
  {
   "cell_type": "code",
   "execution_count": null,
   "id": "d5bde8bb",
   "metadata": {},
   "outputs": [],
   "source": [
    "from pandas import read_csv\n",
    "\n",
    "class_df = read_csv(\"results\\\\Run064_class_dice_resized.csv\")\n",
    "class_df"
   ]
  },
  {
   "cell_type": "code",
   "execution_count": null,
   "id": "a8aa2e57",
   "metadata": {},
   "outputs": [],
   "source": [
    "from pandas import read_csv\n",
    "\n",
    "vendor_df = read_csv(\"results\\\\Run064_vendor_dice_resized.csv\")\n",
    "vendor_df"
   ]
  },
  {
   "cell_type": "markdown",
   "id": "4ce01ffe",
   "metadata": {},
   "source": [
    "Measures to Prevent Running Out Of Memory Between Runs"
   ]
  },
  {
   "cell_type": "markdown",
   "id": "784fe794",
   "metadata": {},
   "source": [
    "Clear Cache"
   ]
  },
  {
   "cell_type": "code",
   "execution_count": null,
   "id": "8ae81480",
   "metadata": {},
   "outputs": [],
   "source": [
    "import torch\n",
    "import warnings\n",
    "\n",
    "warnings.simplefilter(\"ignore\", FutureWarning)\n",
    "torch.cuda.empty_cache()\n",
    "torch.cuda.reset_max_memory_allocated()"
   ]
  },
  {
   "cell_type": "markdown",
   "id": "f5fe1d02",
   "metadata": {},
   "source": [
    "Restart Kernel"
   ]
  },
  {
   "cell_type": "code",
   "execution_count": null,
   "id": "1e9fd50b",
   "metadata": {},
   "outputs": [],
   "source": [
    "import IPython\n",
    "\n",
    "IPython.display.clear_output(wait=True)"
   ]
  },
  {
   "cell_type": "markdown",
   "id": "90978c66",
   "metadata": {},
   "source": [
    "*Run 065*\n",
    "- Train Folds: 2, 3, 5\n",
    "- Validation Fold: 4\n",
    "- Test Fold: 4\n",
    "- Unused Fold: 1"
   ]
  },
  {
   "cell_type": "markdown",
   "id": "fa55c6fd",
   "metadata": {},
   "source": [
    "Training"
   ]
  },
  {
   "cell_type": "code",
   "execution_count": null,
   "id": "c714645e",
   "metadata": {},
   "outputs": [],
   "source": [
    "from train import train_model\n",
    "\n",
    "train_model(\n",
    "    run_name=\"Run065\",\n",
    "    model_name=\"UNet3\",\n",
    "    device=\"GPU\",\n",
    "    split=\"competitive_fold_selection.csv\",\n",
    "    epochs=200,\n",
    "    batch_size=32,\n",
    "    learning_rate=2e-5,\n",
    "    optimizer_name=\"Adam\",\n",
    "    momentum=0.999,\n",
    "    weight_decay=0.0001,\n",
    "    gradient_clipping=1.0,\n",
    "    scheduler=False, \n",
    "    patch_type=\"vertical\",\n",
    "    number_of_classes=2,\n",
    "    number_of_channels=1,\n",
    "    fold_test=1,\n",
    "    fold_val=4,\n",
    "    tuning=True,\n",
    "    patch_shape=(256,128), \n",
    "    n_pos=12, \n",
    "    n_neg=0, \n",
    "    pos=1, \n",
    "    neg=0,\n",
    "    amp=True,\n",
    "    assyncronous_patch_extraction=True,\n",
    "    patch_dropping=True,\n",
    "    drop_prob=0.75,\n",
    "    patience=25,\n",
    "    num_patches=7,\n",
    "    patience_after_n=100,\n",
    "    fluid=\"IRF\"\n",
    ")"
   ]
  },
  {
   "cell_type": "markdown",
   "id": "b97cb905",
   "metadata": {},
   "source": [
    "Plotting Logs"
   ]
  },
  {
   "cell_type": "code",
   "execution_count": null,
   "id": "55b51822",
   "metadata": {},
   "outputs": [],
   "source": [
    "from plot_logs import plot_logs\n",
    "\n",
    "plot_logs(imgs_folder=\"unet_vertical_imgs\", run_name=\"Run065\")"
   ]
  },
  {
   "cell_type": "markdown",
   "id": "48a58ed2",
   "metadata": {},
   "source": [
    "Testing"
   ]
  },
  {
   "cell_type": "code",
   "execution_count": null,
   "id": "6f1418b5",
   "metadata": {},
   "outputs": [],
   "source": [
    "from test_model import test_model\n",
    "\n",
    "test_model(\n",
    "    fold_test=4,\n",
    "    model_name=\"UNet3\",\n",
    "    weights_name=\"Run065_UNet_best_model.pth\",\n",
    "    number_of_channels=1,\n",
    "    number_of_classes=2,\n",
    "    device_name=\"GPU\",\n",
    "    batch_size=1,\n",
    "    patch_type=\"vertical\",\n",
    "    save_images=True,\n",
    "    resize_images=True\n",
    ")"
   ]
  },
  {
   "cell_type": "markdown",
   "id": "a78afd93",
   "metadata": {},
   "source": [
    "Show Test Results"
   ]
  },
  {
   "cell_type": "code",
   "execution_count": null,
   "id": "027ec653",
   "metadata": {},
   "outputs": [],
   "source": [
    "from pandas import read_csv\n",
    "\n",
    "class_df = read_csv(\"results\\\\Run025_class_dice_resized.csv\")\n",
    "class_df"
   ]
  },
  {
   "cell_type": "code",
   "execution_count": null,
   "id": "9ce017fa",
   "metadata": {},
   "outputs": [],
   "source": [
    "from pandas import read_csv\n",
    "\n",
    "vendor_df = read_csv(\"results\\\\Run025_vendor_dice_resized.csv\")\n",
    "vendor_df"
   ]
  },
  {
   "cell_type": "markdown",
   "id": "7bbcb3ba",
   "metadata": {},
   "source": [
    "Measures to Prevent Running Out Of Memory Between Runs"
   ]
  },
  {
   "cell_type": "markdown",
   "id": "18887a97",
   "metadata": {},
   "source": [
    "Clear Cache"
   ]
  },
  {
   "cell_type": "code",
   "execution_count": null,
   "id": "5fc86a75",
   "metadata": {},
   "outputs": [],
   "source": [
    "import torch\n",
    "import warnings\n",
    "\n",
    "warnings.simplefilter(\"ignore\", FutureWarning)\n",
    "torch.cuda.empty_cache()\n",
    "torch.cuda.reset_max_memory_allocated()"
   ]
  },
  {
   "cell_type": "markdown",
   "id": "433aef81",
   "metadata": {},
   "source": [
    "Restart Kernel"
   ]
  },
  {
   "cell_type": "code",
   "execution_count": null,
   "id": "798fd737",
   "metadata": {},
   "outputs": [],
   "source": [
    "import IPython\n",
    "\n",
    "IPython.display.clear_output(wait=True)"
   ]
  },
  {
   "cell_type": "markdown",
   "id": "65d50b30",
   "metadata": {},
   "source": [
    "*Run 066*\n",
    "- Train Folds: 2, 3, 4\n",
    "- Validation Fold: 5\n",
    "- Test Fold: 5\n",
    "- Unused Fold: 1"
   ]
  },
  {
   "cell_type": "markdown",
   "id": "d2bd0e2b",
   "metadata": {},
   "source": [
    "Training"
   ]
  },
  {
   "cell_type": "code",
   "execution_count": null,
   "id": "f44b03ba",
   "metadata": {},
   "outputs": [],
   "source": [
    "from train import train_model\n",
    "\n",
    "train_model(\n",
    "    run_name=\"Run066\",\n",
    "    model_name=\"UNet3\",\n",
    "    device=\"GPU\",\n",
    "    split=\"competitive_fold_selection.csv\",\n",
    "    epochs=200,\n",
    "    batch_size=32,\n",
    "    learning_rate=2e-5,\n",
    "    optimizer_name=\"Adam\",\n",
    "    momentum=0.999,\n",
    "    weight_decay=0.0001,\n",
    "    gradient_clipping=1.0,\n",
    "    scheduler=False, \n",
    "    patch_type=\"vertical\",\n",
    "    number_of_classes=2,\n",
    "    number_of_channels=1,\n",
    "    fold_test=1,\n",
    "    fold_val=0,\n",
    "    tuning=True,\n",
    "    patch_shape=(256,128), \n",
    "    n_pos=12, \n",
    "    n_neg=0, \n",
    "    pos=1, \n",
    "    neg=0,\n",
    "    amp=True,\n",
    "    assyncronous_patch_extraction=True,\n",
    "    patch_dropping=True,\n",
    "    drop_prob=0.75,\n",
    "    patience=25,\n",
    "    num_patches=7,\n",
    "    patience_after_n=100,\n",
    "    fluid=\"IRF\"\n",
    ")"
   ]
  },
  {
   "cell_type": "markdown",
   "id": "eed76109",
   "metadata": {},
   "source": [
    "Plotting Logs"
   ]
  },
  {
   "cell_type": "code",
   "execution_count": null,
   "id": "24562ef9",
   "metadata": {},
   "outputs": [],
   "source": [
    "from plot_logs import plot_logs\n",
    "\n",
    "plot_logs(imgs_folder=\"unet_vertical_imgs\", run_name=\"Run066\")"
   ]
  },
  {
   "cell_type": "markdown",
   "id": "b8a90afc",
   "metadata": {},
   "source": [
    "Testing"
   ]
  },
  {
   "cell_type": "code",
   "execution_count": null,
   "id": "0902d356",
   "metadata": {},
   "outputs": [],
   "source": [
    "from test_model import test_model\n",
    "\n",
    "test_model(\n",
    "    fold_test=0,\n",
    "    model_name=\"UNet3\",\n",
    "    weights_name=\"Run066_UNet_best_model.pth\",\n",
    "    number_of_channels=1,\n",
    "    number_of_classes=2,\n",
    "    device_name=\"GPU\",\n",
    "    batch_size=1,\n",
    "    patch_type=\"vertical\",\n",
    "    save_images=True,\n",
    "    resize_images=True\n",
    ")"
   ]
  },
  {
   "cell_type": "markdown",
   "id": "12ceea1c",
   "metadata": {},
   "source": [
    "Show Test Results"
   ]
  },
  {
   "cell_type": "code",
   "execution_count": null,
   "id": "6b96c92d",
   "metadata": {},
   "outputs": [],
   "source": [
    "from pandas import read_csv\n",
    "\n",
    "class_df = read_csv(\"results\\\\Run066_class_dice_resized.csv\")\n",
    "class_df"
   ]
  },
  {
   "cell_type": "code",
   "execution_count": null,
   "id": "eb8531a6",
   "metadata": {},
   "outputs": [],
   "source": [
    "from pandas import read_csv\n",
    "\n",
    "vendor_df = read_csv(\"results\\\\Run066_vendor_dice_resized.csv\")\n",
    "vendor_df"
   ]
  },
  {
   "cell_type": "markdown",
   "id": "1165fae2",
   "metadata": {},
   "source": [
    "Compare Folds Results"
   ]
  },
  {
   "cell_type": "code",
   "execution_count": null,
   "id": "a8add67f",
   "metadata": {},
   "outputs": [],
   "source": [
    "from test_model import folds_results\n",
    "\n",
    "folds_results(first_run_name=\"Run063\", iteration=19, k=5, resized_images=True)"
   ]
  },
  {
   "cell_type": "code",
   "execution_count": null,
   "id": "adebb1f2",
   "metadata": {},
   "outputs": [],
   "source": [
    "from pandas import read_csv\n",
    "\n",
    "vendor_df = read_csv(\"results\\\\Iteration19_vendors_results_resized.csv\")\n",
    "vendor_df"
   ]
  },
  {
   "cell_type": "code",
   "execution_count": null,
   "id": "28bdd81a",
   "metadata": {},
   "outputs": [],
   "source": [
    "from pandas import read_csv\n",
    "\n",
    "class_df = read_csv(\"results\\\\Iteration19_classes_results_resized.csv\")\n",
    "class_df"
   ]
  }
 ],
 "metadata": {
  "kernelspec": {
   "display_name": "d_torch",
   "language": "python",
   "name": "python3"
  },
  "language_info": {
   "codemirror_mode": {
    "name": "ipython",
    "version": 3
   },
   "file_extension": ".py",
   "mimetype": "text/x-python",
   "name": "python",
   "nbconvert_exporter": "python",
   "pygments_lexer": "ipython3",
   "version": "3.9.21"
  }
 },
 "nbformat": 4,
 "nbformat_minor": 5
}
