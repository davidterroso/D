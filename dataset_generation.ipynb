{
 "cells": [
  {
   "cell_type": "code",
   "execution_count": null,
   "id": "e67adce9",
   "metadata": {},
   "outputs": [],
   "source": [
    "from test_gan import test_gan\n",
    "\n",
    "test_gan(\n",
    "    fold_test=1,\n",
    "    model_name=\"GAN\",\n",
    "    oct_device=\"all\",\n",
    "    weights_name=\"Run021_generator_epoch190.pth\",\n",
    "    final_test=True\n",
    ")"
   ]
  },
  {
   "cell_type": "code",
   "execution_count": null,
   "id": "6a240c83",
   "metadata": {},
   "outputs": [],
   "source": [
    "from test_gan import test_gan\n",
    "\n",
    "test_gan(\n",
    "    fold_test=1,\n",
    "    model_name=\"GAN\",\n",
    "    oct_device=\"all\",\n",
    "    weights_name=\"Run021_generator_epoch190.pth\",\n",
    "    final_test=True,\n",
    "    mode=\"infer\"\n",
    ")"
   ]
  },
  {
   "cell_type": "code",
   "execution_count": null,
   "id": "aa1c271c",
   "metadata": {},
   "outputs": [],
   "source": [
    "from test_model import test_model\n",
    "\n",
    "test_model(\n",
    "    fold_test=1,\n",
    "    model_name=\"UNet\",\n",
    "    weights_name=\"Run058_UNet_best_model.pth\",\n",
    "    number_of_channels=1,\n",
    "    number_of_classes=4,\n",
    "    device_name=\"GPU\",\n",
    "    batch_size=1,\n",
    "    patch_type=\"vertical\",\n",
    "    save_images=True,\n",
    "    resize_images=True,\n",
    "    final_test=True,\n",
    "    dataset=\"InterGen\",\n",
    "    path_images=\"D:\\DavidTerroso\\Images\\OCT_images\\generation\\predictions\\Run021_final_infer\"\n",
    ")"
   ]
  },
  {
   "cell_type": "code",
   "execution_count": null,
   "id": "9364d05e",
   "metadata": {},
   "outputs": [],
   "source": [
    "from test_model import test_model\n",
    "\n",
    "test_model(\n",
    "    fold_test=1,\n",
    "    model_name=\"UNet\",\n",
    "    weights_name=\"Run058_UNet_best_model.pth\",\n",
    "    number_of_channels=1,\n",
    "    number_of_classes=4,\n",
    "    device_name=\"GPU\",\n",
    "    batch_size=1,\n",
    "    patch_type=\"vertical\",\n",
    "    save_images=True,\n",
    "    resize_images=True,\n",
    "    final_test=True,\n",
    "    dataset=\"generated\",\n",
    "    path_images=\"D:\\DavidTerroso\\Images\\OCT_images\\generation\\predictions\\Run021_190_1\"\n",
    ")"
   ]
  },
  {
   "cell_type": "code",
   "execution_count": null,
   "id": "8b9474f4",
   "metadata": {},
   "outputs": [],
   "source": [
    "from estimate_volume import estimate_volume\n",
    "\n",
    "estimate_volume(folder_path=r\"D:\\DavidTerroso\\Images\\OCT_images\\segmentation\\predictions\\Run058_resized_final_generated_masks\\\\\", dataset_type=\"normal\")\n"
   ]
  },
  {
   "cell_type": "code",
   "execution_count": null,
   "id": "d8d216cb",
   "metadata": {},
   "outputs": [],
   "source": [
    "from estimate_volume import estimate_volume\n",
    "\n",
    "estimate_volume(folder_path=r\"D:\\DavidTerroso\\Images\\OCT_images\\segmentation\\predictions\\Run058_resized_final_intergen_masks\\\\\", dataset_type=\"double\")\n"
   ]
  }
 ],
 "metadata": {
  "kernelspec": {
   "display_name": "d_torch",
   "language": "python",
   "name": "python3"
  },
  "language_info": {
   "codemirror_mode": {
    "name": "ipython",
    "version": 3
   },
   "file_extension": ".py",
   "mimetype": "text/x-python",
   "name": "python",
   "nbconvert_exporter": "python",
   "pygments_lexer": "ipython3",
   "version": "3.9.21"
  }
 },
 "nbformat": 4,
 "nbformat_minor": 5
}
