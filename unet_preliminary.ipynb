{
 "cells": [
  {
   "cell_type": "markdown",
   "metadata": {},
   "source": [
    "# Models Tuning With Random Split\n",
    "\n",
    "The split consisted of: \n",
    "- 2 folds for training\n",
    "- 1 fold for validation\n",
    "- 1 fold for testing\n",
    "- 1 fold unused\n",
    "\n",
    "The splits were performed randomly as done in [here](https://github.com/davidterroso/D/blob/ab49616b7fe52ca1c68be56b24af7f6d51542f96/init/folds_split.py).\n",
    "The file used to train has been changed. The older version of the train file can be seen [here](https://github.com/davidterroso/D/blob/ab49616b7fe52ca1c68be56b24af7f6d51542f96/train.py). In the older version, the split was done as seen above, while in the current version it is seen as in [here](unet.ipynb). The code below presents the equivelent hyperparameters used to perform the runs in the current version of the train file. However, it does not take into account the changes in the way the splits were made. \n",
    "The files related with the runs below have been eliminated from the folder and, therefore, have to be accessed through a link to the commit on the GitHub.\n",
    "\n",
    "To check the final results of every run, please check [this section](#overallresults)."
   ]
  },
  {
   "cell_type": "markdown",
   "metadata": {},
   "source": [
    "## Results & Logs\n",
    "\n",
    "To see logs and results of this run please check the folders in [this commit](https://github.com/davidterroso/D/commit/d131a81f6bf609ba79b8429852bdf67713d3f14a)."
   ]
  },
  {
   "cell_type": "markdown",
   "metadata": {},
   "source": [
    "*Run 1*\n",
    "- Epochs: 100"
   ]
  },
  {
   "cell_type": "markdown",
   "metadata": {},
   "source": [
    "Training"
   ]
  },
  {
   "cell_type": "code",
   "execution_count": null,
   "metadata": {},
   "outputs": [],
   "source": [
    "from train import train_model\n",
    "\n",
    "train_model(\n",
    "    run_name=\"Run1\",\n",
    "    model_name=\"UNet\",\n",
    "    device=\"GPU\",\n",
    "    split=\"segmentation_fold_selection.csv\",\n",
    "    epochs=100,\n",
    "    batch_size=32,\n",
    "    learning_rate=2e-5,\n",
    "    optimizer_name=\"Adam\",\n",
    "    momentum=0.999,\n",
    "    weight_decay=0.0001,\n",
    "    gradient_clipping=1.0,\n",
    "    scheduler=False,\n",
    "    patch_type=\"small\",\n",
    "    number_of_classes=4,\n",
    "    number_of_channels=1,\n",
    "    fold_test=1,\n",
    "    fold_val=2,\n",
    "    tuning=True,\n",
    "    patch_shape=(256,128), \n",
    "    n_pos=12, \n",
    "    n_neg=0, \n",
    "    pos=1, \n",
    "    neg=0,\n",
    "    amp=True,\n",
    "    assyncronous_patch_extraction=True,\n",
    "    patch_dropping=True,\n",
    "    drop_prob=0.75,\n",
    "    patience=100\n",
    ")"
   ]
  },
  {
   "cell_type": "markdown",
   "metadata": {},
   "source": [
    "Plotting Logs"
   ]
  },
  {
   "cell_type": "code",
   "execution_count": null,
   "metadata": {},
   "outputs": [],
   "source": [
    "from plot_logs import plot_logs\n",
    "\n",
    "plot_logs(imgs_folder=\"unet_preliminary_imgs\", run_name=\"Run1\")"
   ]
  },
  {
   "cell_type": "markdown",
   "metadata": {},
   "source": [
    "**Results**\n",
    "The first run. While training loss slowly goes down to 0.26, the validation loss never crosses below the 0.39. Perhaps, a learning rate scheduler would be useful to implement in this conditions, to check if lower validation score is possible. Similarly, implementing this experiment with a lower learning rate may be useful to find a possible lower minimum error, with the expense of requiring a larger number of epochs in training. Also, it is important to mention that in this experiment, the data was obtained assycronously, unlike what was initially proposed, that recommended extracting random patches in every epoch. This later implementation must be compared against the assyncronous, to evaluate the necessity of the patch extraction every epoch. It is important to note that the patch extraction is very time consuming, with the training process in an epoch taking as long as 15 minutes (without it, it takes 2 minutes).\n",
    "\n",
    "![Training Error in Run1](./unet_preliminary_imgs/Run1_training_error.png)"
   ]
  },
  {
   "cell_type": "markdown",
   "metadata": {},
   "source": [
    "Testing"
   ]
  },
  {
   "cell_type": "code",
   "execution_count": null,
   "metadata": {},
   "outputs": [],
   "source": [
    "from test_model import test_model\n",
    "\n",
    "test_model(\n",
    "    fold_test=2,\n",
    "    model_name=\"UNet\",\n",
    "    weights_name=\"Run1_UNet_best_model.pth\",\n",
    "    number_of_channels=1,\n",
    "    number_of_classes=4,\n",
    "    device_name=\"GPU\",\n",
    "    batch_size=1,\n",
    "    patch_type=\"small\",\n",
    "    save_images=False\n",
    ")"
   ]
  },
  {
   "cell_type": "markdown",
   "metadata": {},
   "source": [
    "*Run 2*\n",
    "- Epochs: 200"
   ]
  },
  {
   "cell_type": "markdown",
   "metadata": {},
   "source": [
    "Training"
   ]
  },
  {
   "cell_type": "code",
   "execution_count": null,
   "metadata": {},
   "outputs": [],
   "source": [
    "from train import train_model\n",
    "\n",
    "train_model(\n",
    "    run_name=\"Run1\",\n",
    "    model_name=\"UNet\",\n",
    "    device=\"GPU\",\n",
    "    split=\"segmentation_fold_selection.csv\",\n",
    "    epochs=200,\n",
    "    batch_size=32,\n",
    "    learning_rate=2e-5,\n",
    "    optimizer_name=\"Adam\",\n",
    "    momentum=0.999,\n",
    "    weight_decay=0.0001,\n",
    "    gradient_clipping=1.0,\n",
    "    scheduler=False,     \n",
    "    patch_type=\"small\",\n",
    "    number_of_classes=4,\n",
    "    number_of_channels=1,\n",
    "    fold_test=1,\n",
    "    fold_val=2,\n",
    "    tuning=True,\n",
    "    patch_shape=(256,128), \n",
    "    n_pos=12, \n",
    "    n_neg=0, \n",
    "    pos=1, \n",
    "    neg=0,\n",
    "    amp=True,\n",
    "    assyncronous_patch_extraction=True,\n",
    "    patch_dropping=True,\n",
    "    drop_prob=0.75,\n",
    "    patience=100\n",
    ")"
   ]
  },
  {
   "cell_type": "markdown",
   "metadata": {},
   "source": [
    "Plotting Logs"
   ]
  },
  {
   "cell_type": "code",
   "execution_count": null,
   "metadata": {},
   "outputs": [],
   "source": [
    "from plot_logs import plot_logs\n",
    "\n",
    "plot_logs(imgs_folder=\"unet_preliminary_imgs\", run_name=\"Run2\")"
   ]
  },
  {
   "cell_type": "markdown",
   "metadata": {},
   "source": [
    "**Results**\n",
    "\n",
    "In this run, the number of epochs was increased from 100 to 200, in order to verify whether it is possible to obtain better results in a longer run with the previous hyper parameters. The best model obtained in this training performs really similar to the previous, taking twice the same amount of time.\n",
    "\n",
    "![Training Error in Run2](./unet_preliminary_imgs/Run2_training_error.png)"
   ]
  },
  {
   "cell_type": "markdown",
   "metadata": {},
   "source": [
    "Testing"
   ]
  },
  {
   "cell_type": "code",
   "execution_count": null,
   "metadata": {},
   "outputs": [],
   "source": [
    "from test_model import test_model\n",
    "\n",
    "test_model(\n",
    "    fold_test=2,\n",
    "    model_name=\"UNet\",\n",
    "    weights_name=\"Run2_UNet_best_model.pth\",\n",
    "    number_of_channels=1,\n",
    "    number_of_classes=4,\n",
    "    device_name=\"GPU\",\n",
    "    batch_size=1,\n",
    "    patch_type=\"small\",\n",
    "    save_images=False\n",
    ")"
   ]
  },
  {
   "cell_type": "markdown",
   "metadata": {},
   "source": [
    "*Run 3*\n",
    "- Patch extraction was done every epoch without patch dropping, instead of once before the training\n",
    "- No patch dropping"
   ]
  },
  {
   "cell_type": "markdown",
   "metadata": {},
   "source": [
    "Training"
   ]
  },
  {
   "cell_type": "code",
   "execution_count": null,
   "metadata": {},
   "outputs": [],
   "source": [
    "from train import train_model\n",
    "\n",
    "train_model(\n",
    "    run_name=\"Run3\",\n",
    "    model_name=\"UNet\",\n",
    "    device=\"GPU\",\n",
    "    split=\"segmentation_fold_selection.csv\",\n",
    "    epochs=100,\n",
    "    batch_size=32,\n",
    "    learning_rate=2e-5,\n",
    "    optimizer_name=\"Adam\",\n",
    "    momentum=0.999,\n",
    "    weight_decay=0.0001,\n",
    "    gradient_clipping=1.0,\n",
    "    scheduler=False,     \n",
    "    patch_type=\"small\",\n",
    "    number_of_classes=4,\n",
    "    number_of_channels=1,\n",
    "    fold_test=1,\n",
    "    fold_val=2,\n",
    "    tuning=True,\n",
    "    patch_shape=(256,128), \n",
    "    n_pos=12, \n",
    "    n_neg=0, \n",
    "    pos=1, \n",
    "    neg=0,\n",
    "    amp=True,\n",
    "    assyncronous_patch_extraction=False,\n",
    "    patch_dropping=False,\n",
    "    drop_prob=0.75,\n",
    "    patience=100\n",
    ")"
   ]
  },
  {
   "cell_type": "markdown",
   "metadata": {},
   "source": [
    "Plotting Logs"
   ]
  },
  {
   "cell_type": "code",
   "execution_count": null,
   "metadata": {},
   "outputs": [],
   "source": [
    "from plot_logs import plot_logs\n",
    "\n",
    "plot_logs(imgs_folder=\"unet_preliminary_imgs\", run_name=\"Run3\")"
   ]
  },
  {
   "cell_type": "markdown",
   "metadata": {},
   "source": [
    "**Results**\n",
    "The model was trained for a longer period of time, since it required patch extraction before training each epoch. It requires an increased amount of training time since larger batches are considered (without dropping patches) and the extraction of images makes the process longer.\n",
    "\n",
    "![Training Error in Run3](./unet_preliminary_imgs/Run3_training_error.png)"
   ]
  },
  {
   "cell_type": "markdown",
   "metadata": {},
   "source": [
    "Testing"
   ]
  },
  {
   "cell_type": "code",
   "execution_count": null,
   "metadata": {},
   "outputs": [],
   "source": [
    "from test_model import test_model\n",
    "\n",
    "test_model(\n",
    "    fold_test=2,\n",
    "    model_name=\"UNet\",\n",
    "    weights_name=\"Run3_UNet_best_model.pth\",\n",
    "    number_of_channels=1,\n",
    "    number_of_classes=4,\n",
    "    device_name=\"GPU\",\n",
    "    batch_size=1,\n",
    "    patch_type=\"small\",\n",
    "    save_images=False\n",
    ")"
   ]
  },
  {
   "cell_type": "markdown",
   "metadata": {},
   "source": [
    "*Run 4*\n",
    "- Syncronous patch extraction with patch dropping"
   ]
  },
  {
   "cell_type": "markdown",
   "metadata": {},
   "source": [
    "Training"
   ]
  },
  {
   "cell_type": "code",
   "execution_count": null,
   "metadata": {},
   "outputs": [],
   "source": [
    "from train import train_model\n",
    "\n",
    "train_model(\n",
    "    run_name=\"Run4\",\n",
    "    model_name=\"UNet\",\n",
    "    device=\"GPU\",\n",
    "    split=\"segmentation_fold_selection.csv\",\n",
    "    epochs=100,\n",
    "    batch_size=32,\n",
    "    learning_rate=2e-5,\n",
    "    optimizer_name=\"Adam\",\n",
    "    momentum=0.999,\n",
    "    weight_decay=0.0001,\n",
    "    gradient_clipping=1.0,\n",
    "    scheduler=False,     \n",
    "    patch_type=\"small\",\n",
    "    number_of_classes=4,\n",
    "    number_of_channels=1,\n",
    "    fold_test=1,\n",
    "    fold_val=2,\n",
    "    tuning=True,\n",
    "    patch_shape=(256,128), \n",
    "    n_pos=12, \n",
    "    n_neg=0, \n",
    "    pos=1, \n",
    "    neg=0,\n",
    "    amp=True,\n",
    "    assyncronous_patch_extraction=False,\n",
    "    patch_dropping=True,\n",
    "    drop_prob=0.75,\n",
    "    patience=100\n",
    ")"
   ]
  },
  {
   "cell_type": "markdown",
   "metadata": {},
   "source": [
    "Plotting Logs"
   ]
  },
  {
   "cell_type": "code",
   "execution_count": null,
   "metadata": {},
   "outputs": [],
   "source": [
    "from plot_logs import plot_logs\n",
    "\n",
    "plot_logs(imgs_folder=\"unet_preliminary_imgs\", run_name=\"Run4\")"
   ]
  },
  {
   "cell_type": "markdown",
   "metadata": {},
   "source": [
    "**Results**\n",
    "The results obtained regarding the loss during training and validation were really similar to those obtained with assyncronous patch extraction. This begs the question whether the improvements in last training were due to the randomization that patch extraction done in every epoch brings or due to the larger quantity of data available due to no employing patch dropout. One future experiment may be exactly that: re-run the first experiment without patch dropout. \n",
    "\n",
    "![Training Error in Run4](./unet_preliminary_imgs/Run4_training_error.png)"
   ]
  },
  {
   "cell_type": "markdown",
   "metadata": {},
   "source": [
    "Testing"
   ]
  },
  {
   "cell_type": "code",
   "execution_count": null,
   "metadata": {},
   "outputs": [],
   "source": [
    "from test_model import test_model\n",
    "\n",
    "test_model(\n",
    "    fold_test=2,\n",
    "    model_name=\"UNet\",\n",
    "    weights_name=\"Run4_UNet_best_model.pth\",\n",
    "    number_of_channels=1,\n",
    "    number_of_classes=4,\n",
    "    device_name=\"GPU\",\n",
    "    batch_size=1,\n",
    "    patch_type=\"small\",\n",
    "    save_images=False\n",
    ")"
   ]
  },
  {
   "cell_type": "markdown",
   "metadata": {},
   "source": [
    "*Run 5*\n",
    "- Repetion of Run 1 without dropping patches  "
   ]
  },
  {
   "cell_type": "markdown",
   "metadata": {},
   "source": [
    "Training"
   ]
  },
  {
   "cell_type": "code",
   "execution_count": null,
   "metadata": {},
   "outputs": [],
   "source": [
    "from train import train_model\n",
    "\n",
    "train_model(\n",
    "    run_name=\"Run5\",\n",
    "    model_name=\"UNet\",\n",
    "    device=\"GPU\",\n",
    "    split=\"segmentation_fold_selection.csv\",\n",
    "    epochs=100,\n",
    "    batch_size=32,\n",
    "    learning_rate=2e-5,\n",
    "    optimizer_name=\"Adam\",\n",
    "    momentum=0.999,\n",
    "    weight_decay=0.0001,\n",
    "    gradient_clipping=1.0,\n",
    "    scheduler=False,     \n",
    "    patch_type=\"small\",\n",
    "    number_of_classes=4,\n",
    "    number_of_channels=1,\n",
    "    fold_test=1,\n",
    "    fold_val=2,\n",
    "    tuning=True,\n",
    "    patch_shape=(256,128), \n",
    "    n_pos=12, \n",
    "    n_neg=0, \n",
    "    pos=1, \n",
    "    neg=0,\n",
    "    amp=True,\n",
    "    assyncronous_patch_extraction=False,\n",
    "    patch_dropping=False,\n",
    "    drop_prob=0.75,\n",
    "    patience=100\n",
    ")"
   ]
  },
  {
   "cell_type": "markdown",
   "metadata": {},
   "source": [
    "Plotting Logs"
   ]
  },
  {
   "cell_type": "code",
   "execution_count": null,
   "metadata": {},
   "outputs": [],
   "source": [
    "from plot_logs import plot_logs\n",
    "\n",
    "plot_logs(imgs_folder=\"unet_preliminary_imgs\", run_name=\"Run5\")"
   ]
  },
  {
   "cell_type": "markdown",
   "metadata": {},
   "source": [
    "**Results**\n",
    "\n",
    "When compared with other runs, it is seen that the validation error becomes smaller than when runs use patch dropping. That happens because 50% of the loss used to train this network corresponds to the Dice loss in the background class. Since no patch dropping happens, the network gets better at segmenting the slices that do not present fluid, thus improving the loss values. \n",
    "\n",
    "![Training Error in Run5](./unet_preliminary_imgs/Run5_training_error.png)"
   ]
  },
  {
   "cell_type": "markdown",
   "metadata": {},
   "source": [
    "Testing"
   ]
  },
  {
   "cell_type": "code",
   "execution_count": null,
   "metadata": {},
   "outputs": [],
   "source": [
    "from test_model import test_model\n",
    "\n",
    "test_model(\n",
    "    fold_test=2,\n",
    "    model_name=\"UNet\",\n",
    "    weights_name=\"Run5_UNet_best_model.pth\",\n",
    "    number_of_channels=1,\n",
    "    number_of_classes=4,\n",
    "    device_name=\"GPU\",\n",
    "    batch_size=1,\n",
    "    patch_type=\"small\",\n",
    "    save_images=False\n",
    ")"
   ]
  },
  {
   "cell_type": "markdown",
   "metadata": {},
   "source": [
    "*Run 6*\n",
    "- Repetion of Run 1, dropping 50% of the non-pathological patches "
   ]
  },
  {
   "cell_type": "markdown",
   "metadata": {},
   "source": [
    "Training"
   ]
  },
  {
   "cell_type": "code",
   "execution_count": null,
   "metadata": {},
   "outputs": [],
   "source": [
    "from train import train_model\n",
    "\n",
    "train_model(\n",
    "    run_name=\"Run6\",\n",
    "    model_name=\"UNet\",\n",
    "    device=\"GPU\",\n",
    "    split=\"segmentation_fold_selection.csv\",\n",
    "    epochs=100,\n",
    "    batch_size=32,\n",
    "    learning_rate=2e-5,\n",
    "    optimizer_name=\"Adam\",\n",
    "    momentum=0.999,\n",
    "    weight_decay=0.0001,\n",
    "    gradient_clipping=1.0,\n",
    "    scheduler=False,     \n",
    "    patch_type=\"small\",\n",
    "    number_of_classes=4,\n",
    "    number_of_channels=1,\n",
    "    fold_test=1,\n",
    "    fold_val=2,\n",
    "    tuning=True,\n",
    "    patch_shape=(256,128), \n",
    "    n_pos=12, \n",
    "    n_neg=0, \n",
    "    pos=1, \n",
    "    neg=0,\n",
    "    amp=True,\n",
    "    assyncronous_patch_extraction=True,\n",
    "    patch_dropping=True,\n",
    "    drop_prob=0.50,\n",
    "    patience=100\n",
    ")"
   ]
  },
  {
   "cell_type": "markdown",
   "metadata": {},
   "source": [
    "Plotting Logs"
   ]
  },
  {
   "cell_type": "code",
   "execution_count": null,
   "metadata": {},
   "outputs": [],
   "source": [
    "from plot_logs import plot_logs\n",
    "\n",
    "plot_logs(imgs_folder=\"unet_preliminary_imgs\", run_name=\"Run6\")"
   ]
  },
  {
   "cell_type": "markdown",
   "metadata": {},
   "source": [
    "**Results**\n",
    "\n",
    "Similarly to the last runs, a decreased loss value is obtained in models that handle more images with no pathology/no fluid to segment.\n",
    "\n",
    "![Training Error in Run6](./unet_preliminary_imgs/Run6_training_error.png)"
   ]
  },
  {
   "cell_type": "markdown",
   "metadata": {},
   "source": [
    "Testing"
   ]
  },
  {
   "cell_type": "code",
   "execution_count": null,
   "metadata": {},
   "outputs": [],
   "source": [
    "from test_model import test_model\n",
    "\n",
    "test_model(\n",
    "    fold_test=2,\n",
    "    model_name=\"UNet\",\n",
    "    weights_name=\"Run6_UNet_best_model.pth\",\n",
    "    number_of_channels=1,\n",
    "    number_of_classes=4,\n",
    "    device_name=\"GPU\",\n",
    "    batch_size=1,\n",
    "    patch_type=\"small\",\n",
    "    save_images=False\n",
    ")"
   ]
  },
  {
   "cell_type": "markdown",
   "metadata": {},
   "source": [
    "*Run 7*\n",
    "- Repetion of Run 1, dropping 25% of the non-pathological patches "
   ]
  },
  {
   "cell_type": "markdown",
   "metadata": {},
   "source": [
    "Training"
   ]
  },
  {
   "cell_type": "code",
   "execution_count": null,
   "metadata": {},
   "outputs": [],
   "source": [
    "from train import train_model\n",
    "\n",
    "train_model(\n",
    "    run_name=\"Run7\",\n",
    "    model_name=\"UNet\",\n",
    "    device=\"GPU\",\n",
    "    split=\"segmentation_fold_selection.csv\",\n",
    "    epochs=100,\n",
    "    batch_size=32,\n",
    "    learning_rate=2e-5,\n",
    "    optimizer_name=\"Adam\",\n",
    "    momentum=0.999,\n",
    "    weight_decay=0.0001,\n",
    "    gradient_clipping=1.0,\n",
    "    scheduler=False,     \n",
    "    patch_type=\"small\",\n",
    "    number_of_classes=4,\n",
    "    number_of_channels=1,\n",
    "    fold_test=1,\n",
    "    fold_val=2,\n",
    "    tuning=True,\n",
    "    patch_shape=(256,128), \n",
    "    n_pos=12, \n",
    "    n_neg=0, \n",
    "    pos=1, \n",
    "    neg=0,\n",
    "    amp=True,\n",
    "    assyncronous_patch_extraction=True,\n",
    "    patch_dropping=True,\n",
    "    drop_prob=0.25,\n",
    "    patience=100\n",
    ")"
   ]
  },
  {
   "cell_type": "markdown",
   "metadata": {},
   "source": [
    "Plotting Logs"
   ]
  },
  {
   "cell_type": "code",
   "execution_count": null,
   "metadata": {},
   "outputs": [],
   "source": [
    "from plot_logs import plot_logs\n",
    "\n",
    "plot_logs(imgs_folder=\"unet_preliminary_imgs\", run_name=\"Run7\")"
   ]
  },
  {
   "cell_type": "markdown",
   "metadata": {},
   "source": [
    "**Results**\n",
    "\n",
    "The results in training achieved a better loss due to a higher quantity of non-pathological scans when compared to the previous models. \n",
    "\n",
    "![Training Error in Run7](./unet_preliminary_imgs/Run7_training_error.png)"
   ]
  },
  {
   "cell_type": "markdown",
   "metadata": {},
   "source": [
    "Testing"
   ]
  },
  {
   "cell_type": "code",
   "execution_count": null,
   "metadata": {},
   "outputs": [],
   "source": [
    "from test_model import test_model\n",
    "\n",
    "test_model(\n",
    "    fold_test=2,\n",
    "    model_name=\"UNet\",\n",
    "    weights_name=\"Run7_UNet_best_model.pth\",\n",
    "    number_of_channels=1,\n",
    "    number_of_classes=4,\n",
    "    device_name=\"GPU\",\n",
    "    batch_size=1,\n",
    "    patch_type=\"small\",\n",
    "    save_images=False\n",
    ")"
   ]
  },
  {
   "cell_type": "markdown",
   "metadata": {},
   "source": [
    "*Run 8*\n",
    "- Repetion of Run 1, dropping 100% of the non-pathological patches "
   ]
  },
  {
   "cell_type": "markdown",
   "metadata": {},
   "source": [
    "Training"
   ]
  },
  {
   "cell_type": "code",
   "execution_count": null,
   "metadata": {},
   "outputs": [],
   "source": [
    "from train import train_model\n",
    "\n",
    "train_model(\n",
    "    run_name=\"Run8\",\n",
    "    model_name=\"UNet\",\n",
    "    device=\"GPU\",\n",
    "    split=\"segmentation_fold_selection.csv\",\n",
    "    epochs=100,\n",
    "    batch_size=32,\n",
    "    learning_rate=2e-5,\n",
    "    optimizer_name=\"Adam\",\n",
    "    momentum=0.999,\n",
    "    weight_decay=0.0001,\n",
    "    gradient_clipping=1.0,\n",
    "    scheduler=False,     \n",
    "    patch_type=\"small\",\n",
    "    number_of_classes=4,\n",
    "    number_of_channels=1,\n",
    "    fold_test=1,\n",
    "    fold_val=2,\n",
    "    tuning=True,\n",
    "    patch_shape=(256,128), \n",
    "    n_pos=12, \n",
    "    n_neg=0, \n",
    "    pos=1, \n",
    "    neg=0,\n",
    "    amp=True,\n",
    "    assyncronous_patch_extraction=True,\n",
    "    patch_dropping=True,\n",
    "    drop_prob=1.,\n",
    "    patience=100\n",
    ")"
   ]
  },
  {
   "cell_type": "markdown",
   "metadata": {},
   "source": [
    "Plotting Logs"
   ]
  },
  {
   "cell_type": "code",
   "execution_count": null,
   "metadata": {},
   "outputs": [],
   "source": [
    "from plot_logs import plot_logs\n",
    "\n",
    "plot_logs(imgs_folder=\"unet_preliminary_imgs\", run_name=\"Run8\")"
   ]
  },
  {
   "cell_type": "markdown",
   "metadata": {},
   "source": [
    "**Results**\n",
    "\n",
    "The results in training achieved a significantly higher loss due to a higher quantity of non-pathological scans when compared to the previous models. \n",
    "\n",
    "![Training Error in Run8](./unet_preliminary_imgs/Run8_training_error.png)"
   ]
  },
  {
   "cell_type": "markdown",
   "metadata": {},
   "source": [
    "Testing"
   ]
  },
  {
   "cell_type": "code",
   "execution_count": null,
   "metadata": {},
   "outputs": [],
   "source": [
    "from test_model import test_model\n",
    "\n",
    "test_model(\n",
    "    fold_test=2,\n",
    "    model_name=\"UNet\",\n",
    "    weights_name=\"Run8_UNet_best_model.pth\",\n",
    "    number_of_channels=1,\n",
    "    number_of_classes=4,\n",
    "    device_name=\"GPU\",\n",
    "    batch_size=1,\n",
    "    patch_type=\"small\",\n",
    "    save_images=False\n",
    ")"
   ]
  }
 ],
 "metadata": {
  "kernelspec": {
   "display_name": "Python 3",
   "language": "python",
   "name": "python3"
  },
  "language_info": {
   "codemirror_mode": {
    "name": "ipython",
    "version": 3
   },
   "file_extension": ".py",
   "mimetype": "text/x-python",
   "name": "python",
   "nbconvert_exporter": "python",
   "pygments_lexer": "ipython3",
   "version": "3.9.21"
  }
 },
 "nbformat": 4,
 "nbformat_minor": 2
}
