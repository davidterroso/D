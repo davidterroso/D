{
 "cells": [
  {
   "cell_type": "markdown",
   "metadata": {},
   "source": [
    "# Pipeline to Train and Test Networks"
   ]
  },
  {
   "cell_type": "markdown",
   "metadata": {},
   "source": [
    "Paths & Library Imports"
   ]
  },
  {
   "cell_type": "code",
   "execution_count": 1,
   "metadata": {},
   "outputs": [],
   "source": [
    "from os.path import isfile, exists\n",
    "from paths import RETOUCH_PATH, IMAGES_PATH"
   ]
  },
  {
   "cell_type": "markdown",
   "metadata": {},
   "source": [
    "Create Train-Test Split for the Fluid Segmentation Task"
   ]
  },
  {
   "cell_type": "code",
   "execution_count": 2,
   "metadata": {},
   "outputs": [
    {
     "name": "stdout",
     "output_type": "stream",
     "text": [
      "Split already exists. To create a new one please delete the old files.\n"
     ]
    }
   ],
   "source": [
    "from init.foldsSplit import k_fold_split_segmentation\n",
    "\n",
    "k = 5\n",
    "\n",
    "if not (isfile(path=\"splits/segmentation_train_splits.csv\") or isfile(path=\"splits/segmentation_test_splits.csv\")):\n",
    "    k_fold_split_segmentation(k=k, folders_path=RETOUCH_PATH)\n",
    "else:\n",
    "    print(\"Split already exists. To create a new one please delete the old files.\")\n"
   ]
  },
  {
   "cell_type": "markdown",
   "metadata": {},
   "source": [
    "OCT Volumes Reading and Saving for Segmentation Task"
   ]
  },
  {
   "cell_type": "code",
   "execution_count": null,
   "metadata": {},
   "outputs": [],
   "source": [
    "from init.readOCT import save_segmentation_oct_as_tiff\n",
    "\n",
    "if not ((exists(IMAGES_PATH + \"\\\\OCT_images\\\\segmentation\\\\slices\\\\int32\")) and (exists(IMAGES_PATH + \"\\\\OCT_images\\\\segmentation\\\\slices\\\\uint8\"))):\n",
    "    save_segmentation_oct_as_tiff(oct_folder=RETOUCH_PATH, save_folder=IMAGES_PATH)\n",
    "else:\n",
    "    print(\"Images have already been extracted. To extract them again, please delete the folder with the images.\")"
   ]
  },
  {
   "cell_type": "markdown",
   "metadata": {},
   "source": [
    "OCT Masks Reading and Saving for Segmentation Task"
   ]
  },
  {
   "cell_type": "code",
   "execution_count": null,
   "metadata": {},
   "outputs": [],
   "source": [
    "from init.readOCT import save_segmentation_mask_as_tiff\n",
    "\n",
    "if not ((exists(IMAGES_PATH + \"\\\\OCT_images\\\\segmentation\\\\masks\\\\int32\")) and (exists(IMAGES_PATH + \"\\\\OCT_images\\\\segmentation\\\\masks\\\\uint8\"))):\n",
    "    save_segmentation_mask_as_tiff(oct_folder=RETOUCH_PATH, save_folder=IMAGES_PATH)\n",
    "else:\n",
    "    print(\"Masks have already been extracted. To extract them again, please delete the folder with the images.\")"
   ]
  },
  {
   "cell_type": "markdown",
   "metadata": {},
   "source": [
    "ROI Masks Extraction for Segmentation Task"
   ]
  },
  {
   "cell_type": "code",
   "execution_count": 5,
   "metadata": {},
   "outputs": [
    {
     "name": "stdout",
     "output_type": "stream",
     "text": [
      "Patches have already been extracted. To extract them again, please delete the folder that contains the extracted ROI masks.\n"
     ]
    }
   ],
   "source": [
    "from init.patchExtraction import extractROIMasks\n",
    "\n",
    "if not (exists(IMAGES_PATH + \"\\\\OCT_images\\\\segmentation\\\\slices\\\\int32\") and (exists(IMAGES_PATH + \"\\\\OCT_images\\\\segmentation\\\\slices\\\\uint8\"))):\n",
    "    print(\"First, the images must be extracted from the OCT volumes.\")\n",
    "elif not (exists(IMAGES_PATH + \"\\\\OCT_images\\\\segmentation\\\\roi\")):\n",
    "    extractROIMasks(oct_path=RETOUCH_PATH , folder_path=IMAGES_PATH, threshold=1e-2)\n",
    "else:\n",
    "    print(\"Patches have already been extracted. To extract them again, please delete the folder that contains the extracted ROI masks.\")"
   ]
  },
  {
   "cell_type": "markdown",
   "metadata": {},
   "source": [
    "Patches Extraction for 2D Segmentation Task"
   ]
  },
  {
   "cell_type": "code",
   "execution_count": 3,
   "metadata": {},
   "outputs": [
    {
     "name": "stdout",
     "output_type": "stream",
     "text": [
      "Patches have already been extracted. To extract them again, please delete the folder that contains the extracted patches.\n"
     ]
    }
   ],
   "source": [
    "from init.patchExtraction import extractPatches\n",
    "\n",
    "if not (exists(IMAGES_PATH + \"\\\\OCT_images\\\\segmentation\\\\roi\\\\int8\") and (exists(IMAGES_PATH + \"\\\\OCT_images\\\\segmentation\\\\roi\\\\uint8\"))):\n",
    "    print(\"First, the ROI masks must be extracted from the OCT volumes.\")\n",
    "elif not (exists(IMAGES_PATH + \"\\\\OCT_images\\\\segmentation\\\\patches\\\\2D\")):\n",
    "    extractPatches(IMAGES_PATH, patch_shape=(256,128), n_pos=12, n_neg=2, pos=1, neg=0)\n",
    "else:\n",
    "    print(\"Patches have already been extracted. To extract them again, please delete the folder that contains the extracted patches.\")"
   ]
  },
  {
   "cell_type": "markdown",
   "metadata": {},
   "source": [
    "Patches Extraction for 2.5D Segmentation Task"
   ]
  },
  {
   "cell_type": "code",
   "execution_count": 4,
   "metadata": {},
   "outputs": [
    {
     "name": "stdout",
     "output_type": "stream",
     "text": [
      "Patches have already been extracted. To extract them again, please delete the folder that contains the extracted patches.\n"
     ]
    }
   ],
   "source": [
    "from init.patchExtraction import extractPatches25D\n",
    "\n",
    "if not (exists(IMAGES_PATH + \"\\\\OCT_images\\\\segmentation\\\\roi\\\\int8\") and (exists(IMAGES_PATH + \"\\\\OCT_images\\\\segmentation\\\\roi\\\\uint8\"))):\n",
    "    print(\"First, the ROI masks must be extracted from the OCT volumes.\")\n",
    "elif not (exists(IMAGES_PATH + \"\\\\OCT_images\\\\segmentation\\\\patches\\\\2.5D\")):\n",
    "    extractPatches25D(IMAGES_PATH, patch_shape=(256,128), n_pos=12, n_neg=2, pos=1, neg=0)\n",
    "else:\n",
    "    print(\"Patches have already been extracted. To extract them again, please delete the folder that contains the extracted patches.\")"
   ]
  },
  {
   "cell_type": "markdown",
   "metadata": {},
   "source": [
    "Create Train-Test Split for the Intermediate Slice Generation Task"
   ]
  },
  {
   "cell_type": "code",
   "execution_count": null,
   "metadata": {},
   "outputs": [],
   "source": [
    "from init.foldsSplit import k_fold_split_generation\n",
    "\n",
    "k = 5\n",
    "\n",
    "if not (isfile(path=\"splits/generation_train_splits.csv\") or isfile(path=\"splits/generation_test_splits.csv\")):\n",
    "    k_fold_split_generation(k=k, folders_path=RETOUCH_PATH)\n",
    "else:\n",
    "    print(\"Split already exists. To create a new one please delete the old files.\")"
   ]
  },
  {
   "cell_type": "markdown",
   "metadata": {},
   "source": [
    "OCT Volumes Reading and Saving for Generation Task\n",
    "\n",
    "Note: To make the generation task independent from the segmentation task, the images used for segmentation are being saved again in a different folder. For memory concerns, please adjust the code to reuse those saved previously."
   ]
  },
  {
   "cell_type": "code",
   "execution_count": null,
   "metadata": {},
   "outputs": [],
   "source": [
    "from init.readOCT import save_generation_oct_as_tiff\n",
    "\n",
    "if not ((exists(IMAGES_PATH + \"\\\\OCT_images\\\\generation\\\\int32\")) and (exists(IMAGES_PATH + \"\\\\OCT_images\\\\generation\\\\uint8\"))):\n",
    "    save_generation_oct_as_tiff(oct_folder=RETOUCH_PATH, save_folder=IMAGES_PATH)\n",
    "else:\n",
    "    print(\"Images have already been extracted. To extract them again, please delete the folder with the images.\")"
   ]
  }
 ],
 "metadata": {
  "kernelspec": {
   "display_name": "Python 3",
   "language": "python",
   "name": "python3"
  },
  "language_info": {
   "codemirror_mode": {
    "name": "ipython",
    "version": 3
   },
   "file_extension": ".py",
   "mimetype": "text/x-python",
   "name": "python",
   "nbconvert_exporter": "python",
   "pygments_lexer": "ipython3",
   "version": "3.9.21"
  }
 },
 "nbformat": 4,
 "nbformat_minor": 2
}
