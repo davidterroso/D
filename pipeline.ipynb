{
 "cells": [
  {
   "cell_type": "markdown",
   "metadata": {},
   "source": [
    "# Pipeline to Train and Test Networks"
   ]
  },
  {
   "cell_type": "markdown",
   "metadata": {},
   "source": [
    "## Table of Contents\n",
    "\n",
    "* [Imports](#imports)\n",
    "* [Segmentation](#segmentation)\n",
    "    - [Train-Test Split](#split)\n",
    "    - [Images Reading and Saving](#reading)\n",
    "    - [Patches Extraction and Saving](#patches)\n",
    "* [Generation](#generation) \n",
    "    - [Train-Test Split](#gensplit)\n",
    "    - [Images Reading and Saving](#gensaving)"
   ]
  },
  {
   "cell_type": "markdown",
   "metadata": {},
   "source": [
    "## Paths & Library Imports <a id=\"imports\"></a>"
   ]
  },
  {
   "cell_type": "code",
   "execution_count": 1,
   "metadata": {},
   "outputs": [],
   "source": [
    "from os.path import isfile, exists\n",
    "from paths import RETOUCH_PATH, IMAGES_PATH"
   ]
  },
  {
   "cell_type": "markdown",
   "metadata": {},
   "source": [
    "## Segmentation <a id=\"segmentation\"></a>"
   ]
  },
  {
   "cell_type": "markdown",
   "metadata": {},
   "source": [
    "### Train-Test Split <a id=\"split\"></a>"
   ]
  },
  {
   "cell_type": "markdown",
   "metadata": {},
   "source": [
    "Create Train-Test Split for the Fluid Segmentation Task\n",
    "\n",
    "*Note:* This split is done randomly, taking only into account the distribution per vendor and not the quantity of fluid"
   ]
  },
  {
   "cell_type": "code",
   "execution_count": null,
   "metadata": {},
   "outputs": [],
   "source": [
    "from init.folds_split import random_k_fold_segmentation\n",
    "\n",
    "k = 5\n",
    "\n",
    "if not (isfile(path=\"splits\\segmentation_fold_selection.csv\")):\n",
    "    random_k_fold_segmentation(k=k, folders_path=RETOUCH_PATH)\n",
    "else:\n",
    "    print(\"Split already exists. To create a new one please delete the old files.\")\n"
   ]
  },
  {
   "cell_type": "markdown",
   "metadata": {},
   "source": [
    "*Note:* the methods applied below take into account the quantity of fluid in each volume, as well as their vendor, to ensure a fair split"
   ]
  },
  {
   "cell_type": "code",
   "execution_count": null,
   "metadata": {},
   "outputs": [],
   "source": [
    "from init.volumes_info import volumes_info\n",
    "\n",
    "volumes_info(oct_folder=RETOUCH_PATH)"
   ]
  },
  {
   "cell_type": "code",
   "execution_count": null,
   "metadata": {},
   "outputs": [],
   "source": [
    "from init.folds_split import factorial_k_fold_segmentation\n",
    "\n",
    "k = 5\n",
    "\n",
    "if (not (isfile(path=\"splits\\\\factotial_fold_selection.csv\")) and isfile(path=\"splits\\\\volumes_info.csv\")):\n",
    "    factorial_k_fold_segmentation(k=k)\n",
    "else:\n",
    "    print(\"Split already exists. To create a new one please delete the old files.\")\n"
   ]
  },
  {
   "cell_type": "code",
   "execution_count": null,
   "metadata": {},
   "outputs": [],
   "source": [
    "from init.folds_split import competitive_k_fold_segmentation\n",
    "\n",
    "k = 5\n",
    "\n",
    "if (not (isfile(path=\"splits\\\\competitive_fold_selection.csv\")) and isfile(path=\"splits\\\\volumes_info.csv\")):\n",
    "    competitive_k_fold_segmentation(k=k)\n",
    "else:\n",
    "    print(\"Split already exists. To create a new one please delete the old files.\")\n"
   ]
  },
  {
   "cell_type": "markdown",
   "metadata": {},
   "source": [
    "### Images Reading and Saving <a id=\"reading\"></a>"
   ]
  },
  {
   "cell_type": "markdown",
   "metadata": {},
   "source": [
    "OCT Volumes Reading and Saving for Segmentation Task"
   ]
  },
  {
   "cell_type": "code",
   "execution_count": null,
   "metadata": {},
   "outputs": [],
   "source": [
    "from init.read_oct import save_segmentation_oct_as_tiff\n",
    "\n",
    "if not ((exists(IMAGES_PATH + \"\\\\OCT_images\\\\segmentation\\\\slices\\\\int32\")) and (exists(IMAGES_PATH + \"\\\\OCT_images\\\\segmentation\\\\slices\\\\uint8\"))):\n",
    "    save_segmentation_oct_as_tiff(oct_folder=RETOUCH_PATH, save_folder=IMAGES_PATH)\n",
    "else:\n",
    "    print(\"Images have already been extracted. To extract them again, please delete the folder with the images.\")\n",
    "\n",
    "# ETA: 2m29s"
   ]
  },
  {
   "cell_type": "markdown",
   "metadata": {},
   "source": [
    "OCT Masks Reading and Saving for Segmentation Task"
   ]
  },
  {
   "cell_type": "code",
   "execution_count": null,
   "metadata": {},
   "outputs": [],
   "source": [
    "from init.read_oct import save_segmentation_mask_as_tiff\n",
    "\n",
    "if not ((exists(IMAGES_PATH + \"\\\\OCT_images\\\\segmentation\\\\masks\\\\int8\")) and (exists(IMAGES_PATH + \"\\\\OCT_images\\\\segmentation\\\\masks\\\\uint8\"))):\n",
    "    save_segmentation_mask_as_tiff(oct_folder=RETOUCH_PATH, save_folder=IMAGES_PATH)\n",
    "else:\n",
    "    print(\"Masks have already been extracted. To extract them again, please delete the folder with the images.\")\n",
    "\n",
    "# ETA: 3m4.4s"
   ]
  },
  {
   "cell_type": "markdown",
   "metadata": {},
   "source": [
    "ROI Masks Extraction for Segmentation Task"
   ]
  },
  {
   "cell_type": "code",
   "execution_count": null,
   "metadata": {},
   "outputs": [],
   "source": [
    "from init.patch_extraction import extract_roi_masks\n",
    "\n",
    "if not (exists(IMAGES_PATH + \"\\\\OCT_images\\\\segmentation\\\\slices\\\\int32\") and (exists(IMAGES_PATH + \"\\\\OCT_images\\\\segmentation\\\\slices\\\\uint8\"))):\n",
    "    print(\"First, the images must be extracted from the OCT volumes.\")\n",
    "elif not (exists(IMAGES_PATH + \"\\\\OCT_images\\\\segmentation\\\\masks\\\\int8\") and (exists(IMAGES_PATH + \"\\\\OCT_images\\\\segmentation\\\\masks\\\\uint8\"))):\n",
    "    print(\"First, the masks must be extracted from the OCT volumes.\")\n",
    "elif not (exists(IMAGES_PATH + \"\\\\OCT_images\\\\segmentation\\\\roi\")):\n",
    "    extract_roi_masks(oct_path=RETOUCH_PATH , folder_path=IMAGES_PATH, threshold=1e-2)\n",
    "else:\n",
    "    print(\"Patches have already been extracted. To extract them again, please delete the folder that contains the extracted ROI masks.\")\n",
    "\n",
    "# ETA: 8h46m01s"
   ]
  },
  {
   "cell_type": "markdown",
   "metadata": {},
   "source": [
    "### Patch Extraction and Saving <a id=\"patches\"></a>\n",
    "\n",
    "Not required to run the project, just to check what is being done and if it is being done correctly"
   ]
  },
  {
   "cell_type": "markdown",
   "metadata": {},
   "source": [
    "Patches Extraction for 2D Segmentation Task"
   ]
  },
  {
   "cell_type": "code",
   "execution_count": null,
   "metadata": {},
   "outputs": [],
   "source": [
    "from init.patch_extraction import extract_patches\n",
    "\n",
    "if not (exists(IMAGES_PATH + \"\\\\OCT_images\\\\segmentation\\\\roi\\\\int8\") and (exists(IMAGES_PATH + \"\\\\OCT_images\\\\segmentation\\\\roi\\\\uint8\"))):\n",
    "    print(\"First, the ROI masks must be extracted from the OCT volumes.\")\n",
    "elif not (exists(IMAGES_PATH + \"\\\\OCT_images\\\\segmentation\\\\patches\\\\2D\")):\n",
    "    extract_patches(IMAGES_PATH, patch_shape=(256,128), n_pos=12, n_neg=2, pos=1, neg=0)\n",
    "else:\n",
    "    print(\"Patches have already been extracted. To extract them again, please delete the folder that contains the extracted patches.\")"
   ]
  },
  {
   "cell_type": "markdown",
   "metadata": {},
   "source": [
    "Patches Extraction for 2.5D Segmentation Task"
   ]
  },
  {
   "cell_type": "code",
   "execution_count": null,
   "metadata": {},
   "outputs": [],
   "source": [
    "from init.patch_extraction import extract_patches_25D\n",
    "\n",
    "if not (exists(IMAGES_PATH + \"\\\\OCT_images\\\\segmentation\\\\roi\\\\int8\") and (exists(IMAGES_PATH + \"\\\\OCT_images\\\\segmentation\\\\roi\\\\uint8\"))):\n",
    "    print(\"First, the ROI masks must be extracted from the OCT volumes.\")\n",
    "elif not (exists(IMAGES_PATH + \"\\\\OCT_images\\\\segmentation\\\\patches\\\\2.5D\")):\n",
    "    extract_patches_25D(IMAGES_PATH, patch_shape=(256,128), n_pos=12, n_neg=2, pos=1, neg=0)\n",
    "else:\n",
    "    print(\"Patches have already been extracted. To extract them again, please delete the folder that contains the extracted patches.\")"
   ]
  },
  {
   "cell_type": "markdown",
   "metadata": {},
   "source": [
    "Big Patches Extraction for 2D Segmentation Task"
   ]
  },
  {
   "cell_type": "code",
   "execution_count": null,
   "metadata": {},
   "outputs": [],
   "source": [
    "from init.patch_extraction import extract_big_patches\n",
    "\n",
    "if not (exists(IMAGES_PATH + \"\\\\OCT_images\\\\segmentation\\\\big_patches\")) and not (exists(IMAGES_PATH + \"\\\\OCT_images\\\\segmentation\\\\big_masks\")):\n",
    "    extract_big_patches(RETOUCH_PATH, IMAGES_PATH)\n",
    "else:\n",
    "    print(\"Patches have already been extracted. To extract them again, please delete the folder that contains the extracted patches.\")"
   ]
  },
  {
   "cell_type": "markdown",
   "metadata": {},
   "source": [
    "Vertical Patches Extraction for 2D Segmentation Task"
   ]
  },
  {
   "cell_type": "code",
   "execution_count": null,
   "metadata": {},
   "outputs": [],
   "source": [
    "from init.patch_extraction import extract_vertical_patches\n",
    "\n",
    "if not (exists(IMAGES_PATH + \"\\\\OCT_images\\\\segmentation\\\\vertical_patches\")) and not (exists(IMAGES_PATH + \"\\\\OCT_images\\\\segmentation\\\\vertical_masks\")):\n",
    "    extract_vertical_patches(RETOUCH_PATH, IMAGES_PATH, random=False, num_patches=4, save_resized_images=True)\n",
    "else:\n",
    "    print(\"Patches have already been extracted. To extract them again, please delete the folder that contains the extracted patches.\")\n",
    "\n",
    "# ETA: 1h9m0.3s "
   ]
  },
  {
   "cell_type": "markdown",
   "metadata": {},
   "source": [
    "## Generation <a id=\"generation\"></a>"
   ]
  },
  {
   "cell_type": "markdown",
   "metadata": {},
   "source": [
    "### Train-Test Split <a id=\"gensplit\"></a>"
   ]
  },
  {
   "cell_type": "markdown",
   "metadata": {},
   "source": [
    "Create Train-Test Split for the Intermediate Slice Generation Task"
   ]
  },
  {
   "cell_type": "code",
   "execution_count": null,
   "metadata": {},
   "outputs": [],
   "source": [
    "from init.folds_split import random_k_fold_generation\n",
    "\n",
    "k = 5\n",
    "\n",
    "if not isfile(path=\"splits/generation_fold_selection.csv\"):\n",
    "    random_k_fold_generation(k=k, folders_path=RETOUCH_PATH)\n",
    "else:\n",
    "    print(\"Split already exists. To create a new one please delete the old files.\")"
   ]
  },
  {
   "cell_type": "markdown",
   "metadata": {},
   "source": [
    "### Images Saving <a id=\"gensaving\"></a>"
   ]
  },
  {
   "cell_type": "markdown",
   "metadata": {},
   "source": [
    "OCT Volumes Reading and Saving for Generation Task\n",
    "\n",
    "Note: To make the generation task independent from the segmentation task, the images used for segmentation are being saved again in a different folder. For memory concerns, please adjust the code to reuse those saved previously."
   ]
  },
  {
   "cell_type": "code",
   "execution_count": null,
   "metadata": {},
   "outputs": [],
   "source": [
    "from init.read_oct import save_generation_oct_as_tiff\n",
    "\n",
    "if not ((exists(IMAGES_PATH + \"\\\\OCT_images\\\\generation\\\\int32\")) and (exists(IMAGES_PATH + \"\\\\OCT_images\\\\generation\\\\uint8\"))):\n",
    "    save_generation_oct_as_tiff(oct_folder=RETOUCH_PATH, save_folder=IMAGES_PATH)\n",
    "else:\n",
    "    print(\"Images have already been extracted. To extract them again, please delete the folder with the images.\")"
   ]
  }
 ],
 "metadata": {
  "kernelspec": {
   "display_name": "d_torch",
   "language": "python",
   "name": "python3"
  },
  "language_info": {
   "codemirror_mode": {
    "name": "ipython",
    "version": 3
   },
   "file_extension": ".py",
   "mimetype": "text/x-python",
   "name": "python",
   "nbconvert_exporter": "python",
   "pygments_lexer": "ipython3",
   "version": "3.9.21"
  }
 },
 "nbformat": 4,
 "nbformat_minor": 2
}
