{
 "cells": [
  {
   "cell_type": "markdown",
   "metadata": {},
   "source": [
    "# Pipeline to train and test networks"
   ]
  },
  {
   "cell_type": "markdown",
   "metadata": {},
   "source": [
    "Paths Declaration"
   ]
  },
  {
   "cell_type": "code",
   "execution_count": 5,
   "metadata": {},
   "outputs": [],
   "source": [
    "RETOUCH_path = \"D:\\RETOUCH\"\n",
    "images_path = \"D:\\D\""
   ]
  },
  {
   "cell_type": "markdown",
   "metadata": {},
   "source": [
    "Library Imports"
   ]
  },
  {
   "cell_type": "code",
   "execution_count": 6,
   "metadata": {},
   "outputs": [],
   "source": [
    "from os.path import isfile, exists"
   ]
  },
  {
   "cell_type": "markdown",
   "metadata": {},
   "source": [
    "Create Train-Test Split for the Fluid Segmentation Task"
   ]
  },
  {
   "cell_type": "code",
   "execution_count": 7,
   "metadata": {},
   "outputs": [
    {
     "name": "stdout",
     "output_type": "stream",
     "text": [
      "Split already exists. To create a new one please delete the old files.\n"
     ]
    }
   ],
   "source": [
    "from init.foldsSplit import k_fold_split_segmentation\n",
    "\n",
    "k = 5\n",
    "\n",
    "if not (isfile(path=\"splits/segmentation_train_splits.csv\") or isfile(path=\"splits/segmentation_test_splits.csv\")):\n",
    "    k_fold_split_segmentation(k=k, folders_path=RETOUCH_path)\n",
    "else:\n",
    "    print(\"Split already exists. To create a new one please delete the old files.\")\n"
   ]
  },
  {
   "cell_type": "markdown",
   "metadata": {},
   "source": [
    "OCT Volumes Reading and Saving for Segmentation Task"
   ]
  },
  {
   "cell_type": "code",
   "execution_count": 8,
   "metadata": {},
   "outputs": [
    {
     "name": "stdout",
     "output_type": "stream",
     "text": [
      "Images have already been extracted. To extract them again, please delete the folder with the images.\n"
     ]
    }
   ],
   "source": [
    "from init.readOCT import save_segmentation_oct_as_tiff\n",
    "\n",
    "if not (exists(images_path + \"\\\\OCT_images\\\\segmentation\\\\\")):\n",
    "    save_segmentation_oct_as_tiff(oct_folder=RETOUCH_path, save_folder=images_path)\n",
    "else:\n",
    "    print(\"Images have already been extracted. To extract them again, please delete the folder with the images.\")"
   ]
  },
  {
   "cell_type": "markdown",
   "metadata": {},
   "source": [
    "Create Train-Test Split for the Intermediate Slice Generation Task"
   ]
  },
  {
   "cell_type": "code",
   "execution_count": null,
   "metadata": {},
   "outputs": [],
   "source": [
    "from init.foldsSplit import k_fold_split_generation\n",
    "\n",
    "k = 5\n",
    "\n",
    "if not (isfile(path=\"splits/generation_train_splits.csv\") or isfile(path=\"splits/generation_test_splits.csv\")):\n",
    "    k_fold_split_generation(k=k, folders_path=RETOUCH_path)\n",
    "else:\n",
    "    print(\"Split already exists. To create a new one please delete the old files.\")"
   ]
  },
  {
   "cell_type": "markdown",
   "metadata": {},
   "source": [
    "OCT Volumes Reading and Saving for Generation Task\n",
    "\n",
    "Note: To make the generation task independent from the segmentation task, the images used for segmentation are being saved again in a different folder. For memory concerns, please adjust the code to reuse those saved previously."
   ]
  },
  {
   "cell_type": "code",
   "execution_count": 9,
   "metadata": {},
   "outputs": [
    {
     "name": "stdout",
     "output_type": "stream",
     "text": [
      "Images have already been extracted. To extract them again, please delete the folder with the images.\n"
     ]
    }
   ],
   "source": [
    "from init.readOCT import save_generation_oct_as_tiff\n",
    "\n",
    "if not (exists(images_path + \"\\\\OCT_images\\\\generation\\\\\")):\n",
    "    save_generation_oct_as_tiff(oct_folder=RETOUCH_path, save_folder=images_path)\n",
    "else:\n",
    "    print(\"Images have already been extracted. To extract them again, please delete the folder with the images.\")"
   ]
  }
 ],
 "metadata": {
  "kernelspec": {
   "display_name": "Python 3",
   "language": "python",
   "name": "python3"
  },
  "language_info": {
   "codemirror_mode": {
    "name": "ipython",
    "version": 3
   },
   "file_extension": ".py",
   "mimetype": "text/x-python",
   "name": "python",
   "nbconvert_exporter": "python",
   "pygments_lexer": "ipython3",
   "version": "3.11.5"
  }
 },
 "nbformat": 4,
 "nbformat_minor": 2
}
