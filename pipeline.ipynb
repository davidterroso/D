{
 "cells": [
  {
   "cell_type": "markdown",
   "metadata": {},
   "source": [
    "# Pipeline to Train and Test Networks"
   ]
  },
  {
   "cell_type": "markdown",
   "metadata": {},
   "source": [
    "### Paths & Library Imports"
   ]
  },
  {
   "cell_type": "code",
   "execution_count": 2,
   "metadata": {},
   "outputs": [],
   "source": [
    "from os.path import isfile, exists\n",
    "from paths import RETOUCH_PATH, IMAGES_PATH"
   ]
  },
  {
   "cell_type": "markdown",
   "metadata": {},
   "source": [
    "## Segmentation"
   ]
  },
  {
   "cell_type": "markdown",
   "metadata": {},
   "source": [
    "### Train-Test Split"
   ]
  },
  {
   "cell_type": "markdown",
   "metadata": {},
   "source": [
    "Create Train-Test Split for the Fluid Segmentation Task"
   ]
  },
  {
   "cell_type": "code",
   "execution_count": null,
   "metadata": {},
   "outputs": [],
   "source": [
    "from init.folds_split import k_fold_split_segmentation\n",
    "\n",
    "k = 5\n",
    "\n",
    "if not (isfile(path=\"splits\\segmentation_train_splits.csv\") or isfile(path=\"splits\\segmentation_test_splits.csv\")):\n",
    "    k_fold_split_segmentation(k=k, folders_path=RETOUCH_PATH)\n",
    "else:\n",
    "    print(\"Split already exists. To create a new one please delete the old files.\")\n"
   ]
  },
  {
   "cell_type": "markdown",
   "metadata": {},
   "source": [
    "### Images Reading and Saving"
   ]
  },
  {
   "cell_type": "markdown",
   "metadata": {},
   "source": [
    "OCT Volumes Reading and Saving for Segmentation Task"
   ]
  },
  {
   "cell_type": "code",
   "execution_count": null,
   "metadata": {},
   "outputs": [
    {
     "name": "stderr",
     "output_type": "stream",
     "text": [
      "Cirrus_TRAIN001: Volume 1/70: 100%|██████████| 128/128 [00:01<00:00, 74.12img/s]\n",
      "Cirrus_TRAIN002: Volume 2/70: 100%|██████████| 128/128 [00:01<00:00, 108.80img/s]\n",
      "Cirrus_TRAIN003: Volume 3/70: 100%|██████████| 128/128 [00:01<00:00, 97.43img/s] \n",
      "Cirrus_TRAIN004: Volume 4/70: 100%|██████████| 128/128 [00:03<00:00, 34.80img/s]\n",
      "Cirrus_TRAIN005: Volume 5/70: 100%|██████████| 128/128 [00:01<00:00, 77.59img/s]\n",
      "Cirrus_TRAIN006: Volume 6/70: 100%|██████████| 128/128 [00:02<00:00, 45.73img/s]\n",
      "Cirrus_TRAIN007: Volume 7/70: 100%|██████████| 128/128 [00:03<00:00, 35.56img/s]\n",
      "Cirrus_TRAIN008: Volume 8/70: 100%|██████████| 128/128 [00:02<00:00, 45.67img/s] \n",
      "Cirrus_TRAIN009: Volume 9/70: 100%|██████████| 128/128 [00:02<00:00, 61.64img/s] \n",
      "Cirrus_TRAIN010: Volume 10/70: 100%|██████████| 128/128 [00:04<00:00, 27.65img/s]\n",
      "Cirrus_TRAIN011: Volume 11/70: 100%|██████████| 128/128 [00:02<00:00, 46.04img/s]\n",
      "Cirrus_TRAIN012: Volume 12/70: 100%|██████████| 128/128 [00:02<00:00, 54.62img/s]\n",
      "Cirrus_TRAIN013: Volume 13/70: 100%|██████████| 128/128 [00:04<00:00, 28.59img/s]\n",
      "Cirrus_TRAIN014: Volume 14/70: 100%|██████████| 128/128 [00:02<00:00, 61.06img/s]\n",
      "Cirrus_TRAIN015: Volume 15/70: 100%|██████████| 128/128 [00:02<00:00, 45.08img/s]\n",
      "Cirrus_TRAIN016: Volume 16/70: 100%|██████████| 128/128 [00:02<00:00, 54.36img/s]\n",
      "Cirrus_TRAIN017: Volume 17/70: 100%|██████████| 128/128 [00:03<00:00, 36.45img/s] \n",
      "Cirrus_TRAIN018: Volume 18/70: 100%|██████████| 128/128 [00:02<00:00, 60.46img/s]\n",
      "Cirrus_TRAIN019: Volume 19/70: 100%|██████████| 128/128 [00:03<00:00, 32.78img/s]\n",
      "Cirrus_TRAIN020: Volume 20/70: 100%|██████████| 128/128 [00:04<00:00, 26.56img/s]\n",
      "Cirrus_TRAIN021: Volume 21/70: 100%|██████████| 128/128 [00:01<00:00, 67.56img/s]\n",
      "Cirrus_TRAIN022: Volume 22/70: 100%|██████████| 128/128 [00:03<00:00, 33.04img/s]\n",
      "Cirrus_TRAIN023: Volume 23/70: 100%|██████████| 128/128 [00:03<00:00, 32.12img/s]\n",
      "Cirrus_TRAIN024: Volume 24/70: 100%|██████████| 128/128 [00:01<00:00, 77.58img/s] \n",
      "Spectralis_TRAIN025: Volume 25/70: 100%|██████████| 49/49 [00:00<00:00, 69.04img/s]\n",
      "Spectralis_TRAIN026: Volume 26/70: 100%|██████████| 49/49 [00:02<00:00, 17.83img/s]\n",
      "Spectralis_TRAIN027: Volume 27/70: 100%|██████████| 49/49 [00:00<00:00, 167.93img/s]\n",
      "Spectralis_TRAIN028: Volume 28/70: 100%|██████████| 49/49 [00:00<00:00, 55.55img/s]\n",
      "Spectralis_TRAIN029: Volume 29/70: 100%|██████████| 49/49 [00:00<00:00, 149.34img/s]\n",
      "Spectralis_TRAIN030: Volume 30/70: 100%|██████████| 49/49 [00:01<00:00, 32.03img/s]\n",
      "Spectralis_TRAIN031: Volume 31/70: 100%|██████████| 49/49 [00:00<00:00, 54.14img/s]\n",
      "Spectralis_TRAIN032: Volume 32/70: 100%|██████████| 49/49 [00:00<00:00, 61.46img/s]\n",
      "Spectralis_TRAIN033: Volume 33/70: 100%|██████████| 49/49 [00:00<00:00, 168.49img/s]\n",
      "Spectralis_TRAIN034: Volume 34/70: 100%|██████████| 49/49 [00:00<00:00, 63.95img/s]\n",
      "Spectralis_TRAIN035: Volume 35/70: 100%|██████████| 49/49 [00:00<00:00, 122.18img/s]\n",
      "Spectralis_TRAIN036: Volume 36/70: 100%|██████████| 49/49 [00:00<00:00, 55.50img/s]\n",
      "Spectralis_TRAIN037: Volume 37/70: 100%|██████████| 49/49 [00:00<00:00, 172.78img/s]\n",
      "Spectralis_TRAIN038: Volume 38/70: 100%|██████████| 49/49 [00:02<00:00, 21.81img/s]\n",
      "Spectralis_TRAIN039: Volume 39/70: 100%|██████████| 49/49 [00:00<00:00, 204.19img/s]\n",
      "Spectralis_TRAIN040: Volume 40/70: 100%|██████████| 49/49 [00:00<00:00, 68.50img/s]\n",
      "Spectralis_TRAIN041: Volume 41/70: 100%|██████████| 49/49 [00:00<00:00, 196.28img/s]\n",
      "Spectralis_TRAIN042: Volume 42/70: 100%|██████████| 49/49 [00:01<00:00, 26.77img/s] \n",
      "Spectralis_TRAIN043: Volume 43/70: 100%|██████████| 49/49 [00:00<00:00, 83.77img/s]\n",
      "Spectralis_TRAIN044: Volume 44/70: 100%|██████████| 49/49 [00:00<00:00, 75.99img/s] \n",
      "Spectralis_TRAIN045: Volume 45/70: 100%|██████████| 49/49 [00:00<00:00, 148.90img/s]\n",
      "Spectralis_TRAIN046: Volume 46/70: 100%|██████████| 49/49 [00:00<00:00, 224.62img/s]\n",
      "Spectralis_TRAIN047: Volume 47/70: 100%|██████████| 49/49 [00:00<00:00, 62.38img/s]\n",
      "Spectralis_TRAIN048: Volume 48/70: 100%|██████████| 49/49 [00:00<00:00, 199.12img/s]\n",
      "Topcon_TRAIN049: Volume 49/70: 100%|██████████| 128/128 [00:01<00:00, 109.18img/s]\n",
      "Topcon_TRAIN050: Volume 50/70: 100%|██████████| 128/128 [00:03<00:00, 40.54img/s] \n",
      "Topcon_TRAIN051: Volume 51/70: 100%|██████████| 128/128 [00:03<00:00, 34.60img/s]\n",
      "Topcon_TRAIN052: Volume 52/70: 100%|██████████| 128/128 [00:01<00:00, 92.75img/s] \n",
      "Topcon_TRAIN053: Volume 53/70: 100%|██████████| 128/128 [00:01<00:00, 81.47img/s] \n",
      "Topcon_TRAIN054: Volume 54/70: 100%|██████████| 128/128 [00:03<00:00, 34.58img/s]\n",
      "Topcon_TRAIN055: Volume 55/70: 100%|██████████| 128/128 [00:01<00:00, 100.16img/s]\n",
      "Topcon_TRAIN056: Volume 56/70: 100%|██████████| 64/64 [00:02<00:00, 27.22img/s]\n",
      "Topcon_TRAIN057: Volume 57/70: 100%|██████████| 128/128 [00:01<00:00, 87.09img/s] \n",
      "Topcon_TRAIN058: Volume 58/70: 100%|██████████| 128/128 [00:01<00:00, 80.82img/s] \n",
      "Topcon_TRAIN059: Volume 59/70: 100%|██████████| 128/128 [00:03<00:00, 36.05img/s]\n",
      "Topcon_TRAIN060: Volume 60/70: 100%|██████████| 128/128 [00:03<00:00, 35.01img/s]\n",
      "Topcon_TRAIN061: Volume 61/70: 100%|██████████| 128/128 [00:01<00:00, 93.11img/s]\n",
      "Topcon_TRAIN062: Volume 62/70: 100%|██████████| 64/64 [00:01<00:00, 38.08img/s] \n",
      "Topcon_TRAIN063: Volume 63/70: 100%|██████████| 128/128 [00:02<00:00, 54.28img/s]\n",
      "Topcon_TRAIN064: Volume 64/70: 100%|██████████| 128/128 [00:02<00:00, 56.41img/s]\n",
      "Topcon_TRAIN065: Volume 65/70: 100%|██████████| 128/128 [00:03<00:00, 41.29img/s]\n",
      "Topcon_TRAIN066: Volume 66/70: 100%|██████████| 128/128 [00:02<00:00, 50.55img/s]\n",
      "Topcon_TRAIN067: Volume 67/70: 100%|██████████| 128/128 [00:02<00:00, 51.70img/s] \n",
      "Topcon_TRAIN068: Volume 68/70: 100%|██████████| 128/128 [00:02<00:00, 56.68img/s] \n",
      "Topcon_TRAIN069: Volume 69/70: 100%|██████████| 128/128 [00:03<00:00, 37.74img/s]\n",
      "Topcon_TRAIN070: Volume 70/70: 100%|██████████| 128/128 [00:01<00:00, 91.43img/s] "
     ]
    },
    {
     "name": "stdout",
     "output_type": "stream",
     "text": [
      "All slices have been extracted.\n",
      "EOF.\n"
     ]
    },
    {
     "name": "stderr",
     "output_type": "stream",
     "text": [
      "\n"
     ]
    }
   ],
   "source": [
    "from init.read_oct import save_segmentation_oct_as_tiff\n",
    "\n",
    "if not ((exists(IMAGES_PATH + \"\\\\OCT_images\\\\segmentation\\\\slices\\\\int32\")) and (exists(IMAGES_PATH + \"\\\\OCT_images\\\\segmentation\\\\slices\\\\uint8\"))):\n",
    "    save_segmentation_oct_as_tiff(oct_folder=RETOUCH_PATH, save_folder=IMAGES_PATH)\n",
    "else:\n",
    "    print(\"Images have already been extracted. To extract them again, please delete the folder with the images.\")\n",
    "\n",
    "# ETA: 2m29s"
   ]
  },
  {
   "cell_type": "markdown",
   "metadata": {},
   "source": [
    "OCT Masks Reading and Saving for Segmentation Task"
   ]
  },
  {
   "cell_type": "code",
   "execution_count": null,
   "metadata": {},
   "outputs": [
    {
     "name": "stderr",
     "output_type": "stream",
     "text": [
      "Cirrus_TRAIN001: Volume 1/70: 100%|██████████| 128/128 [00:01<00:00, 76.58img/s] \n",
      "Cirrus_TRAIN002: Volume 2/70: 100%|██████████| 128/128 [00:09<00:00, 13.23img/s]\n",
      "Cirrus_TRAIN003: Volume 3/70: 100%|██████████| 128/128 [00:01<00:00, 101.96img/s]\n",
      "Cirrus_TRAIN004: Volume 4/70: 100%|██████████| 128/128 [00:02<00:00, 60.16img/s]\n",
      "Cirrus_TRAIN005: Volume 5/70: 100%|██████████| 128/128 [00:02<00:00, 58.25img/s]\n",
      "Cirrus_TRAIN006: Volume 6/70: 100%|██████████| 128/128 [00:01<00:00, 85.40img/s] \n",
      "Cirrus_TRAIN007: Volume 7/70: 100%|██████████| 128/128 [00:02<00:00, 43.37img/s]\n",
      "Cirrus_TRAIN008: Volume 8/70: 100%|██████████| 128/128 [00:01<00:00, 65.43img/s]\n",
      "Cirrus_TRAIN009: Volume 9/70: 100%|██████████| 128/128 [00:02<00:00, 52.97img/s]\n",
      "Cirrus_TRAIN010: Volume 10/70: 100%|██████████| 128/128 [00:03<00:00, 33.57img/s]\n",
      "Cirrus_TRAIN011: Volume 11/70: 100%|██████████| 128/128 [00:02<00:00, 59.49img/s]\n",
      "Cirrus_TRAIN012: Volume 12/70: 100%|██████████| 128/128 [00:01<00:00, 78.17img/s]\n",
      "Cirrus_TRAIN013: Volume 13/70: 100%|██████████| 128/128 [00:03<00:00, 38.97img/s] \n",
      "Cirrus_TRAIN014: Volume 14/70: 100%|██████████| 128/128 [00:01<00:00, 65.57img/s]\n",
      "Cirrus_TRAIN015: Volume 15/70: 100%|██████████| 128/128 [00:02<00:00, 50.09img/s]\n",
      "Cirrus_TRAIN016: Volume 16/70: 100%|██████████| 128/128 [00:01<00:00, 76.63img/s]\n",
      "Cirrus_TRAIN017: Volume 17/70: 100%|██████████| 128/128 [00:02<00:00, 43.95img/s]\n",
      "Cirrus_TRAIN018: Volume 18/70: 100%|██████████| 128/128 [00:03<00:00, 34.19img/s]\n",
      "Cirrus_TRAIN019: Volume 19/70: 100%|██████████| 128/128 [00:01<00:00, 69.30img/s]\n",
      "Cirrus_TRAIN020: Volume 20/70: 100%|██████████| 128/128 [00:04<00:00, 30.56img/s]\n",
      "Cirrus_TRAIN021: Volume 21/70: 100%|██████████| 128/128 [00:03<00:00, 32.81img/s]\n",
      "Cirrus_TRAIN022: Volume 22/70: 100%|██████████| 128/128 [00:01<00:00, 64.83img/s]\n",
      "Cirrus_TRAIN023: Volume 23/70: 100%|██████████| 128/128 [00:02<00:00, 46.30img/s] \n",
      "Cirrus_TRAIN024: Volume 24/70: 100%|██████████| 128/128 [00:03<00:00, 32.31img/s]\n",
      "Spectralis_TRAIN025: Volume 25/70: 100%|██████████| 49/49 [00:00<00:00, 131.19img/s]\n",
      "Spectralis_TRAIN026: Volume 26/70: 100%|██████████| 49/49 [00:00<00:00, 69.03img/s]\n",
      "Spectralis_TRAIN027: Volume 27/70: 100%|██████████| 49/49 [00:02<00:00, 22.13img/s]\n",
      "Spectralis_TRAIN028: Volume 28/70: 100%|██████████| 49/49 [00:00<00:00, 166.29img/s]\n",
      "Spectralis_TRAIN029: Volume 29/70: 100%|██████████| 49/49 [00:00<00:00, 70.57img/s]\n",
      "Spectralis_TRAIN030: Volume 30/70: 100%|██████████| 49/49 [00:00<00:00, 170.11img/s]\n",
      "Spectralis_TRAIN031: Volume 31/70: 100%|██████████| 49/49 [00:01<00:00, 40.33img/s]\n",
      "Spectralis_TRAIN032: Volume 32/70: 100%|██████████| 49/49 [00:01<00:00, 47.04img/s] \n",
      "Spectralis_TRAIN033: Volume 33/70: 100%|██████████| 49/49 [00:00<00:00, 153.73img/s]\n",
      "Spectralis_TRAIN034: Volume 34/70: 100%|██████████| 49/49 [00:00<00:00, 199.78img/s]\n",
      "Spectralis_TRAIN035: Volume 35/70: 100%|██████████| 49/49 [00:00<00:00, 69.28img/s]\n",
      "Spectralis_TRAIN036: Volume 36/70: 100%|██████████| 49/49 [00:00<00:00, 117.91img/s]\n",
      "Spectralis_TRAIN037: Volume 37/70: 100%|██████████| 49/49 [00:00<00:00, 116.57img/s]\n",
      "Spectralis_TRAIN038: Volume 38/70: 100%|██████████| 49/49 [00:00<00:00, 153.67img/s]\n",
      "Spectralis_TRAIN039: Volume 39/70: 100%|██████████| 49/49 [00:00<00:00, 113.07img/s]\n",
      "Spectralis_TRAIN040: Volume 40/70: 100%|██████████| 49/49 [00:00<00:00, 219.71img/s]\n",
      "Spectralis_TRAIN041: Volume 41/70: 100%|██████████| 49/49 [00:00<00:00, 76.82img/s]\n",
      "Spectralis_TRAIN042: Volume 42/70: 100%|██████████| 49/49 [00:00<00:00, 171.71img/s]\n",
      "Spectralis_TRAIN043: Volume 43/70: 100%|██████████| 49/49 [00:00<00:00, 203.43img/s]\n",
      "Spectralis_TRAIN044: Volume 44/70: 100%|██████████| 49/49 [00:00<00:00, 125.57img/s]\n",
      "Spectralis_TRAIN045: Volume 45/70: 100%|██████████| 49/49 [00:00<00:00, 192.61img/s]\n",
      "Spectralis_TRAIN046: Volume 46/70: 100%|██████████| 49/49 [00:00<00:00, 216.96img/s]\n",
      "Spectralis_TRAIN047: Volume 47/70: 100%|██████████| 49/49 [00:00<00:00, 79.17img/s]\n",
      "Spectralis_TRAIN048: Volume 48/70: 100%|██████████| 49/49 [00:00<00:00, 218.69img/s]\n",
      "Topcon_TRAIN049: Volume 49/70: 100%|██████████| 128/128 [00:02<00:00, 62.71img/s] \n",
      "Topcon_TRAIN050: Volume 50/70: 100%|██████████| 128/128 [00:01<00:00, 91.91img/s]\n",
      "Topcon_TRAIN051: Volume 51/70: 100%|██████████| 128/128 [00:03<00:00, 41.04img/s]\n",
      "Topcon_TRAIN052: Volume 52/70: 100%|██████████| 128/128 [00:01<00:00, 90.05img/s] \n",
      "Topcon_TRAIN053: Volume 53/70: 100%|██████████| 128/128 [00:03<00:00, 39.35img/s]\n",
      "Topcon_TRAIN054: Volume 54/70: 100%|██████████| 128/128 [00:04<00:00, 31.78img/s]\n",
      "Topcon_TRAIN055: Volume 55/70: 100%|██████████| 128/128 [00:01<00:00, 106.80img/s]\n",
      "Topcon_TRAIN056: Volume 56/70: 100%|██████████| 64/64 [00:01<00:00, 63.99img/s]\n",
      "Topcon_TRAIN057: Volume 57/70: 100%|██████████| 128/128 [00:01<00:00, 96.37img/s] \n",
      "Topcon_TRAIN058: Volume 58/70: 100%|██████████| 128/128 [00:01<00:00, 101.35img/s]\n",
      "Topcon_TRAIN059: Volume 59/70: 100%|██████████| 128/128 [00:01<00:00, 75.10img/s] \n",
      "Topcon_TRAIN060: Volume 60/70: 100%|██████████| 128/128 [00:01<00:00, 70.85img/s]\n",
      "Topcon_TRAIN061: Volume 61/70: 100%|██████████| 128/128 [00:04<00:00, 30.63img/s]\n",
      "Topcon_TRAIN062: Volume 62/70: 100%|██████████| 64/64 [00:00<00:00, 98.45img/s] \n",
      "Topcon_TRAIN063: Volume 63/70: 100%|██████████| 128/128 [00:01<00:00, 78.87img/s]\n",
      "Topcon_TRAIN064: Volume 64/70: 100%|██████████| 128/128 [00:01<00:00, 102.12img/s]\n",
      "Topcon_TRAIN065: Volume 65/70: 100%|██████████| 128/128 [00:04<00:00, 31.84img/s]\n",
      "Topcon_TRAIN066: Volume 66/70: 100%|██████████| 128/128 [00:01<00:00, 71.49img/s]\n",
      "Topcon_TRAIN067: Volume 67/70: 100%|██████████| 128/128 [00:01<00:00, 83.19img/s]\n",
      "Topcon_TRAIN068: Volume 68/70: 100%|██████████| 128/128 [00:04<00:00, 28.89img/s]\n",
      "Topcon_TRAIN069: Volume 69/70: 100%|██████████| 128/128 [00:01<00:00, 95.92img/s] \n",
      "Topcon_TRAIN070: Volume 70/70: 100%|██████████| 128/128 [00:02<00:00, 47.37img/s]"
     ]
    },
    {
     "name": "stdout",
     "output_type": "stream",
     "text": [
      "All masks have been extracted.\n",
      "EOF.\n"
     ]
    },
    {
     "name": "stderr",
     "output_type": "stream",
     "text": [
      "\n"
     ]
    }
   ],
   "source": [
    "from init.read_oct import save_segmentation_mask_as_tiff\n",
    "\n",
    "if not ((exists(IMAGES_PATH + \"\\\\OCT_images\\\\segmentation\\\\masks\\\\int8\")) and (exists(IMAGES_PATH + \"\\\\OCT_images\\\\segmentation\\\\masks\\\\uint8\"))):\n",
    "    save_segmentation_mask_as_tiff(oct_folder=RETOUCH_PATH, save_folder=IMAGES_PATH)\n",
    "else:\n",
    "    print(\"Masks have already been extracted. To extract them again, please delete the folder with the images.\")\n",
    "\n",
    "# ETA: 3m4.4s"
   ]
  },
  {
   "cell_type": "markdown",
   "metadata": {},
   "source": [
    "ROI Masks Extraction for Segmentation Task"
   ]
  },
  {
   "cell_type": "code",
   "execution_count": null,
   "metadata": {},
   "outputs": [
    {
     "name": "stderr",
     "output_type": "stream",
     "text": [
      "ROI_Extraction:   0%|          | 0/70 [00:00<?, ?vol/s]d:\\DavidTerroso\\D\\init\\patchExtraction.py:115: UserWarning: Possible precision loss converting image of type float32 to uint8 as required by rank filters. Convert manually using skimage.util.img_as_ubyte to silence this warning.\n",
      "  createROIMask(OCT_slice, OCT_slice_mask, threshold, save_location=save_name, save_location_to_view=save_name_to_view)\n",
      "ROI_Extraction: 119vol [8:46:01, 265.22s/vol]                        "
     ]
    },
    {
     "name": "stdout",
     "output_type": "stream",
     "text": [
      "All ROI masks have been extracted.\n",
      "EOF.\n"
     ]
    },
    {
     "name": "stderr",
     "output_type": "stream",
     "text": [
      "\n"
     ]
    }
   ],
   "source": [
    "from init.patch_extraction import extractROIMasks\n",
    "\n",
    "if not (exists(IMAGES_PATH + \"\\\\OCT_images\\\\segmentation\\\\slices\\\\int32\") and (exists(IMAGES_PATH + \"\\\\OCT_images\\\\segmentation\\\\slices\\\\uint8\"))):\n",
    "    print(\"First, the images must be extracted from the OCT volumes.\")\n",
    "elif not (exists(IMAGES_PATH + \"\\\\OCT_images\\\\segmentation\\\\masks\\\\int8\") and (exists(IMAGES_PATH + \"\\\\OCT_images\\\\segmentation\\\\masks\\\\uint8\"))):\n",
    "    print(\"First, the masks must be extracted from the OCT volumes.\")\n",
    "elif not (exists(IMAGES_PATH + \"\\\\OCT_images\\\\segmentation\\\\roi\")):\n",
    "    extractROIMasks(oct_path=RETOUCH_PATH , folder_path=IMAGES_PATH, threshold=1e-2)\n",
    "else:\n",
    "    print(\"Patches have already been extracted. To extract them again, please delete the folder that contains the extracted ROI masks.\")\n",
    "\n",
    "# ETA: 8h46m01s"
   ]
  },
  {
   "cell_type": "markdown",
   "metadata": {},
   "source": [
    "### Patch Extraction and Saving"
   ]
  },
  {
   "cell_type": "markdown",
   "metadata": {},
   "source": [
    "Patches Extraction for 2D Segmentation Task"
   ]
  },
  {
   "cell_type": "code",
   "execution_count": null,
   "metadata": {},
   "outputs": [],
   "source": [
    "from init.patch_extraction import extractPatches\n",
    "\n",
    "if not (exists(IMAGES_PATH + \"\\\\OCT_images\\\\segmentation\\\\roi\\\\int8\") and (exists(IMAGES_PATH + \"\\\\OCT_images\\\\segmentation\\\\roi\\\\uint8\"))):\n",
    "    print(\"First, the ROI masks must be extracted from the OCT volumes.\")\n",
    "elif not (exists(IMAGES_PATH + \"\\\\OCT_images\\\\segmentation\\\\patches\\\\2D\")):\n",
    "    extractPatches(IMAGES_PATH, patch_shape=(256,128), n_pos=12, n_neg=2, pos=1, neg=0)\n",
    "else:\n",
    "    print(\"Patches have already been extracted. To extract them again, please delete the folder that contains the extracted patches.\")"
   ]
  },
  {
   "cell_type": "markdown",
   "metadata": {},
   "source": [
    "Patches Extraction for 2.5D Segmentation Task"
   ]
  },
  {
   "cell_type": "code",
   "execution_count": null,
   "metadata": {},
   "outputs": [],
   "source": [
    "from init.patch_extraction import extractPatches25D\n",
    "\n",
    "if not (exists(IMAGES_PATH + \"\\\\OCT_images\\\\segmentation\\\\roi\\\\int8\") and (exists(IMAGES_PATH + \"\\\\OCT_images\\\\segmentation\\\\roi\\\\uint8\"))):\n",
    "    print(\"First, the ROI masks must be extracted from the OCT volumes.\")\n",
    "elif not (exists(IMAGES_PATH + \"\\\\OCT_images\\\\segmentation\\\\patches\\\\2.5D\")):\n",
    "    extractPatches25D(IMAGES_PATH, patch_shape=(256,128), n_pos=12, n_neg=2, pos=1, neg=0)\n",
    "else:\n",
    "    print(\"Patches have already been extracted. To extract them again, please delete the folder that contains the extracted patches.\")"
   ]
  },
  {
   "cell_type": "markdown",
   "metadata": {},
   "source": [
    "### Models Tuning"
   ]
  },
  {
   "cell_type": "markdown",
   "metadata": {},
   "source": [
    "U-Net: Learning Rate"
   ]
  },
  {
   "cell_type": "markdown",
   "metadata": {},
   "source": [
    "- Learning Rate: 2e-5\n",
    "- Optimizer: Adam"
   ]
  },
  {
   "cell_type": "code",
   "execution_count": null,
   "metadata": {},
   "outputs": [],
   "source": [
    "from train import train_model\n",
    "\n",
    "train_model(\n",
    "    run_name=\"Run1\",\n",
    "    model_name=\"UNet\",\n",
    "    device_name=\"GPU\",\n",
    "    epochs=100,\n",
    "    batch_size=32,\n",
    "    learning_rate=2e-5,\n",
    "    optimizer_name=\"Adam\",\n",
    "    momentum=0.999,\n",
    "    weight_decay=0.0001,\n",
    "    gradient_clipping=1.0,\n",
    "    scheduler=False,\n",
    "    number_of_classes=4,\n",
    "    number_of_channels=1,\n",
    "    fold_test=1,\n",
    "    tuning=True,\n",
    "    patch_shape=(256,128), \n",
    "    n_pos=12, \n",
    "    n_neg=0, \n",
    "    pos=1, \n",
    "    neg=0,\n",
    "    val_percent=0.2,\n",
    "    amp=True,\n",
    "    patience=100\n",
    ")"
   ]
  },
  {
   "cell_type": "markdown",
   "metadata": {},
   "source": [
    "**Results**: the first run. Due to a logic error, the best model was not saved and early stopping was not possible. However, it is interesting to understand the behavior of the U-Net in this conditions. While training loss slowly goes down to 0.26, the validation loss never crosses below the 0.39. Perhaps, a learning rate scheduler would be useful to implement in this conditions, to check if lower validation score is possible. Similarly, implementing this experiment with a lower learning rate may be useful to find a possible lower minimum error, with the expense of requiring a larger number of epochs in training. Also, it is important to mention that in this experiment, the data was obtained assycronously, unlike what was initially proposed, that recommended extracting random patches in every epoch. This later implementation must be compared against the assyncronous, to evaluate the necessaty of the patch extraction every epoch. It is important to note that the patch extraction is very time consuming, with the training process in an epoch taking as long as 15 minutes (without it, it takes 2 minutes).\n",
    "\n",
    "![Training Error in Run1](./imgs/Run1_training_error.png)"
   ]
  },
  {
   "cell_type": "markdown",
   "metadata": {},
   "source": [
    "IRF U-Net: Learning Rate"
   ]
  },
  {
   "cell_type": "markdown",
   "metadata": {},
   "source": [
    "- Learning Rate: 2e-5\n",
    "- Optimizer: Adam"
   ]
  },
  {
   "cell_type": "code",
   "execution_count": null,
   "metadata": {},
   "outputs": [],
   "source": [
    "from train import train_model\n",
    "\n",
    "train_model(\n",
    "    run_name=\"Run2\",\n",
    "    model_name=\"UNet3\",\n",
    "    device_name=\"GPU\",\n",
    "    epochs=100,\n",
    "    batch_size=32,\n",
    "    learning_rate=2e-5,\n",
    "    optimizer_name=\"Adam\",\n",
    "    momentum=0.999,\n",
    "    weight_decay=0.0001,\n",
    "    gradient_clipping=1.0,\n",
    "    scheduler=False,\n",
    "    number_of_classes=2,\n",
    "    number_of_channels=1,\n",
    "    fold_test=1,\n",
    "    tuning=True,\n",
    "    patch_shape=(256,128), \n",
    "    n_pos=12, \n",
    "    n_neg=0, \n",
    "    pos=1, \n",
    "    neg=0,\n",
    "    val_percent=0.2,\n",
    "    amp=True,\n",
    "    patience=10,\n",
    "    fluid = \"IRF\"\n",
    ")"
   ]
  },
  {
   "cell_type": "markdown",
   "metadata": {},
   "source": [
    "## Generation"
   ]
  },
  {
   "cell_type": "markdown",
   "metadata": {},
   "source": [
    "### Train-Test Split"
   ]
  },
  {
   "cell_type": "markdown",
   "metadata": {},
   "source": [
    "Create Train-Test Split for the Intermediate Slice Generation Task"
   ]
  },
  {
   "cell_type": "code",
   "execution_count": null,
   "metadata": {},
   "outputs": [],
   "source": [
    "from init.folds_split import k_fold_split_generation\n",
    "\n",
    "k = 5\n",
    "\n",
    "if not (isfile(path=\"splits/generation_train_splits.csv\") or isfile(path=\"splits/generation_test_splits.csv\")):\n",
    "    k_fold_split_generation(k=k, folders_path=RETOUCH_PATH)\n",
    "else:\n",
    "    print(\"Split already exists. To create a new one please delete the old files.\")"
   ]
  },
  {
   "cell_type": "markdown",
   "metadata": {},
   "source": [
    "### Images Saving"
   ]
  },
  {
   "cell_type": "markdown",
   "metadata": {},
   "source": [
    "OCT Volumes Reading and Saving for Generation Task\n",
    "\n",
    "Note: To make the generation task independent from the segmentation task, the images used for segmentation are being saved again in a different folder. For memory concerns, please adjust the code to reuse those saved previously."
   ]
  },
  {
   "cell_type": "code",
   "execution_count": null,
   "metadata": {},
   "outputs": [],
   "source": [
    "from init.read_oct import save_generation_oct_as_tiff\n",
    "\n",
    "if not ((exists(IMAGES_PATH + \"\\\\OCT_images\\\\generation\\\\int32\")) and (exists(IMAGES_PATH + \"\\\\OCT_images\\\\generation\\\\uint8\"))):\n",
    "    save_generation_oct_as_tiff(oct_folder=RETOUCH_PATH, save_folder=IMAGES_PATH)\n",
    "else:\n",
    "    print(\"Images have already been extracted. To extract them again, please delete the folder with the images.\")"
   ]
  }
 ],
 "metadata": {
  "kernelspec": {
   "display_name": "Python 3",
   "language": "python",
   "name": "python3"
  },
  "language_info": {
   "codemirror_mode": {
    "name": "ipython",
    "version": 3
   },
   "file_extension": ".py",
   "mimetype": "text/x-python",
   "name": "python",
   "nbconvert_exporter": "python",
   "pygments_lexer": "ipython3",
   "version": "3.9.21"
  }
 },
 "nbformat": 4,
 "nbformat_minor": 2
}
