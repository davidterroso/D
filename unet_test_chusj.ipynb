{
 "cells": [
  {
   "cell_type": "markdown",
   "id": "a595fa70",
   "metadata": {},
   "source": [
    "# Test in Centro Hospitalar Universitário de São João's (CHUSP) Dataset\n",
    "\n",
    "### Using the models from **Run076** (IRF), **Run111** (SRF), and **Run114** (PED) in Binary Implementation and model from **Run058** in Multi-class"
   ]
  },
  {
   "cell_type": "markdown",
   "id": "297ba622",
   "metadata": {},
   "source": [
    "### Multi-class Model"
   ]
  },
  {
   "cell_type": "markdown",
   "id": "3359a1e0",
   "metadata": {},
   "source": [
    "#### Resized Images"
   ]
  },
  {
   "cell_type": "code",
   "execution_count": null,
   "id": "1a466719",
   "metadata": {},
   "outputs": [],
   "source": [
    "from test_model import test_model\n",
    "\n",
    "test_model(\n",
    "    fold_test=1,\n",
    "    model_name=\"UNet\",\n",
    "    weights_name=\"Run058_UNet_best_model.pth\",\n",
    "    number_of_channels=1,\n",
    "    number_of_classes=4,\n",
    "    dataset=\"chusj\",\n",
    "    device_name=\"GPU\",\n",
    "    batch_size=1,\n",
    "    patch_type=\"vertical\",\n",
    "    save_images=True,\n",
    "    resize_images=True,\n",
    "    final_test=True\n",
    ")"
   ]
  },
  {
   "cell_type": "markdown",
   "id": "2d55b85e",
   "metadata": {},
   "source": [
    "#### Original Images"
   ]
  },
  {
   "cell_type": "code",
   "execution_count": null,
   "id": "7edb1c85",
   "metadata": {},
   "outputs": [],
   "source": [
    "from test_model import test_model\n",
    "\n",
    "test_model(\n",
    "    fold_test=1,\n",
    "    model_name=\"UNet\",\n",
    "    weights_name=\"Run058_UNet_best_model.pth\",\n",
    "    number_of_channels=1,\n",
    "    number_of_classes=4,\n",
    "    dataset=\"chusj\",\n",
    "    device_name=\"GPU\",\n",
    "    batch_size=1,\n",
    "    patch_type=\"vertical\",\n",
    "    save_images=True,\n",
    "    resize_images=False,\n",
    "    final_test=True\n",
    ")"
   ]
  },
  {
   "cell_type": "markdown",
   "id": "4ebe5466",
   "metadata": {},
   "source": [
    "### Binary Models"
   ]
  },
  {
   "cell_type": "markdown",
   "id": "d8b48fd8",
   "metadata": {},
   "source": [
    "#### Resized Images"
   ]
  },
  {
   "cell_type": "code",
   "execution_count": null,
   "id": "1ee5006f",
   "metadata": {},
   "outputs": [],
   "source": [
    "from test_model import test_model\n",
    "\n",
    "test_model(\n",
    "    fold_test=1,\n",
    "    model_name=\"UNet3\",\n",
    "    weights_name=\"Run076111114_UNet3\",\n",
    "    number_of_channels=1,\n",
    "    number_of_classes=2,\n",
    "    dataset=\"chusj\",\n",
    "    device_name=\"GPU\",\n",
    "    batch_size=1,\n",
    "    patch_type=\"vertical\",\n",
    "    save_images=True,\n",
    "    resize_images=True,\n",
    "    final_test=True,\n",
    "    selected_models=[76,111,114],\n",
    "    mode='highest_prob'\n",
    ")"
   ]
  },
  {
   "cell_type": "markdown",
   "id": "d066b6de",
   "metadata": {},
   "source": [
    "#### Original Images"
   ]
  },
  {
   "cell_type": "code",
   "execution_count": null,
   "id": "44d2ab50",
   "metadata": {},
   "outputs": [],
   "source": [
    "from test_model import test_model\n",
    "\n",
    "test_model(\n",
    "    fold_test=1,\n",
    "    model_name=\"UNet3\",\n",
    "    weights_name=\"Run076111114_UNet3\",\n",
    "    number_of_channels=1,\n",
    "    number_of_classes=2,\n",
    "    dataset=\"chusj\",\n",
    "    device_name=\"GPU\",\n",
    "    batch_size=1,\n",
    "    patch_type=\"vertical\",\n",
    "    save_images=True,\n",
    "    resize_images=False,\n",
    "    final_test=True,\n",
    "    selected_models=[76,111,114],\n",
    "    mode='highest_prob'\n",
    ")"
   ]
  }
 ],
 "metadata": {
  "kernelspec": {
   "display_name": "d_torch",
   "language": "python",
   "name": "python3"
  },
  "language_info": {
   "codemirror_mode": {
    "name": "ipython",
    "version": 3
   },
   "file_extension": ".py",
   "mimetype": "text/x-python",
   "name": "python",
   "nbconvert_exporter": "python",
   "pygments_lexer": "ipython3",
   "version": "3.9.21"
  }
 },
 "nbformat": 4,
 "nbformat_minor": 5
}
