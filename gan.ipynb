{
 "cells": [
  {
   "cell_type": "markdown",
   "id": "d15f2ccb",
   "metadata": {},
   "source": [
    "# GAN Runs"
   ]
  },
  {
   "cell_type": "markdown",
   "id": "1d282d97",
   "metadata": {},
   "source": [
    "## Table of Contents\n",
    "* [Iteration XX](#iteration)\n",
    "* [Final Testing](#finaltesting)"
   ]
  },
  {
   "cell_type": "markdown",
   "id": "e3e51d1c",
   "metadata": {},
   "source": [
    "## Iteration XX <a id=\"iteration\"></a>"
   ]
  },
  {
   "cell_type": "markdown",
   "id": "4df79c7c",
   "metadata": {},
   "source": [
    "*Run 001*\n",
    "- Train Folds: 3, 4, 0\n",
    "- Validation Fold: 2\n",
    "- Test Fold: 2\n",
    "- Unused Fold: 1"
   ]
  },
  {
   "cell_type": "markdown",
   "id": "b76f9e41",
   "metadata": {},
   "source": [
    "Training"
   ]
  },
  {
   "cell_type": "code",
   "execution_count": null,
   "id": "558fb183",
   "metadata": {},
   "outputs": [],
   "source": [
    "from train_gan import train_gan\n",
    "\n",
    "train_gan(\n",
    "    run_name=\"Run001\",\n",
    "    fold_val=2,\n",
    "    batch_size=32,\n",
    "    beta_1=0.5,\n",
    "    beta_2=0.999,\n",
    "    epochs=400,\n",
    "    learning_rate=0.00002,\n",
    "    patience=400,\n",
    "    patience_after_n=0,\n",
    "    split=\"generation_5_fold_split.csv\"\n",
    ")\n"
   ]
  },
  {
   "cell_type": "markdown",
   "id": "96ddd688",
   "metadata": {},
   "source": [
    "Plotting Logs"
   ]
  },
  {
   "cell_type": "code",
   "execution_count": null,
   "id": "2e01a2a1",
   "metadata": {},
   "outputs": [],
   "source": [
    "from plot_logs import plot_logs\n",
    "\n",
    "plot_logs(imgs_folder=\"gan_imgs\", run_name=\"Run001\")"
   ]
  },
  {
   "cell_type": "markdown",
   "id": "a9ac6309",
   "metadata": {},
   "source": [
    "Testing"
   ]
  },
  {
   "cell_type": "code",
   "execution_count": null,
   "id": "9117fa04",
   "metadata": {},
   "outputs": [],
   "source": [
    "from test_gan import test_gan\n",
    "\n",
    "test_gan(\n",
    "    fold_test=2,\n",
    "    weights_name=\"Run001_generator_best_model.pth\"\n",
    ")"
   ]
  },
  {
   "cell_type": "markdown",
   "id": "cc2d80dc",
   "metadata": {},
   "source": [
    "Show Test Results"
   ]
  },
  {
   "cell_type": "code",
   "execution_count": null,
   "id": "42c2798c",
   "metadata": {},
   "outputs": [],
   "source": [
    "from pandas import read_csv\n",
    "\n",
    "device_df = read_csv(\"results\\\\Run001_device.csv\")\n",
    "device_df"
   ]
  },
  {
   "cell_type": "code",
   "execution_count": null,
   "id": "60500c15",
   "metadata": {},
   "outputs": [],
   "source": [
    "from pandas import read_csv\n",
    "\n",
    "results_df = read_csv(\"results\\\\Run001_results.csv\")\n",
    "results_df"
   ]
  },
  {
   "cell_type": "markdown",
   "id": "03c95740",
   "metadata": {},
   "source": [
    "*Run 002*\n",
    "- Train Folds: 2, 4, 0\n",
    "- Validation Fold: 3\n",
    "- Test Fold: 3\n",
    "- Unused Fold: 1"
   ]
  },
  {
   "cell_type": "markdown",
   "id": "79a51a1e",
   "metadata": {},
   "source": [
    "Training"
   ]
  },
  {
   "cell_type": "code",
   "execution_count": null,
   "id": "88594108",
   "metadata": {},
   "outputs": [],
   "source": [
    "from train_gan import train_gan\n",
    "\n",
    "train_gan(\n",
    "    run_name=\"Run002\",\n",
    "    fold_val=3,\n",
    "    batch_size=32,\n",
    "    beta_1=0.5,\n",
    "    beta_2=0.999,\n",
    "    epochs=400,\n",
    "    learning_rate=0.00002,\n",
    "    patience=400,\n",
    "    patience_after_n=0,\n",
    "    split=\"generation_5_fold_split.csv\"\n",
    ")\n"
   ]
  },
  {
   "cell_type": "markdown",
   "id": "395887df",
   "metadata": {},
   "source": [
    "Plotting Logs"
   ]
  },
  {
   "cell_type": "code",
   "execution_count": null,
   "id": "99b64a6b",
   "metadata": {},
   "outputs": [],
   "source": [
    "from plot_logs import plot_logs\n",
    "\n",
    "plot_logs(imgs_folder=\"gan_imgs\", run_name=\"Run002\")"
   ]
  },
  {
   "cell_type": "markdown",
   "id": "1d80c7c7",
   "metadata": {},
   "source": [
    "Testing"
   ]
  },
  {
   "cell_type": "code",
   "execution_count": null,
   "id": "8eafca24",
   "metadata": {},
   "outputs": [],
   "source": [
    "from test_gan import test_gan\n",
    "\n",
    "test_gan(\n",
    "    fold_test=3,\n",
    "    weights_name=\"Run002_generator_best_model.pth\"\n",
    ")"
   ]
  },
  {
   "cell_type": "markdown",
   "id": "88bd8393",
   "metadata": {},
   "source": [
    "Show Test Results"
   ]
  },
  {
   "cell_type": "code",
   "execution_count": null,
   "id": "21fb579d",
   "metadata": {},
   "outputs": [],
   "source": [
    "from pandas import read_csv\n",
    "\n",
    "device_df = read_csv(\"results\\\\Run002_device.csv\")\n",
    "device_df"
   ]
  },
  {
   "cell_type": "code",
   "execution_count": null,
   "id": "f7c4aea6",
   "metadata": {},
   "outputs": [],
   "source": [
    "from pandas import read_csv\n",
    "\n",
    "results_df = read_csv(\"results\\\\Run002_results.csv\")\n",
    "results_df"
   ]
  },
  {
   "cell_type": "markdown",
   "id": "5b9bc4be",
   "metadata": {},
   "source": [
    "*Run 003*\n",
    "- Train Folds: 2, 3, 0\n",
    "- Validation Fold: 4\n",
    "- Test Fold: 4\n",
    "- Unused Fold: 1"
   ]
  },
  {
   "cell_type": "markdown",
   "id": "3b3a33dd",
   "metadata": {},
   "source": [
    "Training"
   ]
  },
  {
   "cell_type": "code",
   "execution_count": null,
   "id": "eb4b8df5",
   "metadata": {},
   "outputs": [],
   "source": [
    "from train_gan import train_gan\n",
    "\n",
    "train_gan(\n",
    "    run_name=\"Run003\",\n",
    "    fold_val=4,\n",
    "    batch_size=32,\n",
    "    beta_1=0.5,\n",
    "    beta_2=0.999,\n",
    "    epochs=400,\n",
    "    learning_rate=0.00002,\n",
    "    patience=400,\n",
    "    patience_after_n=0,\n",
    "    split=\"generation_5_fold_split.csv\"\n",
    ")\n"
   ]
  },
  {
   "cell_type": "markdown",
   "id": "d036b3ae",
   "metadata": {},
   "source": [
    "Plotting Logs"
   ]
  },
  {
   "cell_type": "code",
   "execution_count": null,
   "id": "8510bf42",
   "metadata": {},
   "outputs": [],
   "source": [
    "from plot_logs import plot_logs\n",
    "\n",
    "plot_logs(imgs_folder=\"gan_imgs\", run_name=\"Run003\")"
   ]
  },
  {
   "cell_type": "markdown",
   "id": "0991e31a",
   "metadata": {},
   "source": [
    "Testing"
   ]
  },
  {
   "cell_type": "code",
   "execution_count": null,
   "id": "7a58d861",
   "metadata": {},
   "outputs": [],
   "source": [
    "from test_gan import test_gan\n",
    "\n",
    "test_gan(\n",
    "    fold_test=4,\n",
    "    weights_name=\"Run003_generator_best_model.pth\"\n",
    ")"
   ]
  },
  {
   "cell_type": "markdown",
   "id": "f39120aa",
   "metadata": {},
   "source": [
    "Show Test Results"
   ]
  },
  {
   "cell_type": "code",
   "execution_count": null,
   "id": "a4f3df76",
   "metadata": {},
   "outputs": [],
   "source": [
    "from pandas import read_csv\n",
    "\n",
    "device_df = read_csv(\"results\\\\Run003_device.csv\")\n",
    "device_df"
   ]
  },
  {
   "cell_type": "code",
   "execution_count": null,
   "id": "f1297f47",
   "metadata": {},
   "outputs": [],
   "source": [
    "from pandas import read_csv\n",
    "\n",
    "results_df = read_csv(\"results\\\\Run003_results.csv\")\n",
    "results_df"
   ]
  },
  {
   "cell_type": "markdown",
   "id": "948f65cc",
   "metadata": {},
   "source": [
    "*Run 004*\n",
    "- Train Folds: 2, 3, 4\n",
    "- Validation Fold: 0\n",
    "- Test Fold: 0\n",
    "- Unused Fold: 1"
   ]
  },
  {
   "cell_type": "markdown",
   "id": "d3362f7e",
   "metadata": {},
   "source": [
    "Training"
   ]
  },
  {
   "cell_type": "code",
   "execution_count": null,
   "id": "8dac422b",
   "metadata": {},
   "outputs": [],
   "source": [
    "from train_gan import train_gan\n",
    "\n",
    "train_gan(\n",
    "    run_name=\"Run004\",\n",
    "    fold_val=0,\n",
    "    batch_size=32,\n",
    "    beta_1=0.5,\n",
    "    beta_2=0.999,\n",
    "    epochs=400,\n",
    "    learning_rate=0.00002,\n",
    "    patience=400,\n",
    "    patience_after_n=0,\n",
    "    split=\"generation_5_fold_split.csv\"\n",
    ")\n"
   ]
  },
  {
   "cell_type": "markdown",
   "id": "8a89cb72",
   "metadata": {},
   "source": [
    "Plotting Logs"
   ]
  },
  {
   "cell_type": "code",
   "execution_count": null,
   "id": "19ae9667",
   "metadata": {},
   "outputs": [],
   "source": [
    "from plot_logs import plot_logs\n",
    "\n",
    "plot_logs(imgs_folder=\"gan_imgs\", run_name=\"Run004\")"
   ]
  },
  {
   "cell_type": "markdown",
   "id": "fd286f37",
   "metadata": {},
   "source": [
    "Testing"
   ]
  },
  {
   "cell_type": "code",
   "execution_count": null,
   "id": "25d8d1e1",
   "metadata": {},
   "outputs": [],
   "source": [
    "from test_gan import test_gan\n",
    "\n",
    "test_gan(\n",
    "    fold_test=0,\n",
    "    weights_name=\"Run004_generator_best_model.pth\"\n",
    ")"
   ]
  },
  {
   "cell_type": "markdown",
   "id": "9ea4e184",
   "metadata": {},
   "source": [
    "Show Test Results"
   ]
  },
  {
   "cell_type": "code",
   "execution_count": null,
   "id": "64b9bfd3",
   "metadata": {},
   "outputs": [],
   "source": [
    "from pandas import read_csv\n",
    "\n",
    "device_df = read_csv(\"results\\\\Run004_device.csv\")\n",
    "device_df"
   ]
  },
  {
   "cell_type": "code",
   "execution_count": null,
   "id": "f0538f1b",
   "metadata": {},
   "outputs": [],
   "source": [
    "from pandas import read_csv\n",
    "\n",
    "results_df = read_csv(\"results\\\\Run004_results.csv\")\n",
    "results_df"
   ]
  },
  {
   "cell_type": "code",
   "execution_count": null,
   "id": "1a80db84",
   "metadata": {},
   "outputs": [],
   "source": [
    "from test_model import folds_results\n",
    "\n",
    "folds_results(first_run_name=\"Run001\", iteration=0, k=5)"
   ]
  },
  {
   "cell_type": "markdown",
   "id": "e558bc7f",
   "metadata": {},
   "source": [
    "## Final Testing"
   ]
  },
  {
   "cell_type": "code",
   "execution_count": null,
   "id": "b2f62757",
   "metadata": {},
   "outputs": [],
   "source": [
    "from test_gan import test_gan\n",
    "\n",
    "test_gan(\n",
    "    fold_test=1,\n",
    "    weights_name=\"\",\n",
    "    final_test=True\n",
    ")"
   ]
  }
 ],
 "metadata": {
  "language_info": {
   "name": "python"
  }
 },
 "nbformat": 4,
 "nbformat_minor": 5
}
