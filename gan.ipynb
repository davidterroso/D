{
 "cells": [
  {
   "cell_type": "markdown",
   "id": "d15f2ccb",
   "metadata": {},
   "source": [
    "# Generative Runs"
   ]
  },
  {
   "cell_type": "markdown",
   "id": "1d282d97",
   "metadata": {},
   "source": [
    "## Table of Contents\n",
    "* [Iteration XX](#iteration)\n",
    "* [Final Testing - U-Net](#finaltestingunet)\n",
    "* [Iteration XY](#iteration)\n",
    "* [Final Testing - GAN](#finaltestinggan)"
   ]
  },
  {
   "cell_type": "markdown",
   "id": "e3e51d1c",
   "metadata": {},
   "source": [
    "## Iteration XX <a id=\"iteration\"></a>"
   ]
  },
  {
   "cell_type": "markdown",
   "id": "4df79c7c",
   "metadata": {},
   "source": [
    "*Run 001*\n",
    "- Train Folds: 3, 4, 0\n",
    "- Validation Fold: 2\n",
    "- Test Fold: 2\n",
    "- Unused Fold: 1"
   ]
  },
  {
   "cell_type": "markdown",
   "id": "b76f9e41",
   "metadata": {},
   "source": [
    "Training"
   ]
  },
  {
   "cell_type": "code",
   "execution_count": null,
   "id": "558fb183",
   "metadata": {},
   "outputs": [],
   "source": [
    "from train_gan import train_gan\n",
    "\n",
    "train_gan(\n",
    "    run_name=\"Run001\",\n",
    "    model_name=\"UNet\",\n",
    "    fold_val=2,\n",
    "    batch_size=16,\n",
    "    beta_1=0.5,\n",
    "    beta_2=0.999,\n",
    "    epochs=200,\n",
    "    learning_rate=0.00002,\n",
    "    patience=25,\n",
    "    patience_after_n=100,\n",
    "    split=\"generation_4_fold_split.csv\",\n",
    "    weight_decay=0.0001\n",
    ")\n"
   ]
  },
  {
   "cell_type": "markdown",
   "id": "96ddd688",
   "metadata": {},
   "source": [
    "Plotting Logs"
   ]
  },
  {
   "cell_type": "code",
   "execution_count": null,
   "id": "2e01a2a1",
   "metadata": {},
   "outputs": [],
   "source": [
    "from plot_logs import plot_logs_gan\n",
    "\n",
    "plot_logs_gan(imgs_folder=\"gan_imgs\", run_name=\"Run001\")"
   ]
  },
  {
   "cell_type": "markdown",
   "id": "a9ac6309",
   "metadata": {},
   "source": [
    "Testing"
   ]
  },
  {
   "cell_type": "code",
   "execution_count": null,
   "id": "9117fa04",
   "metadata": {},
   "outputs": [],
   "source": [
    "from test_gan import test_gan\n",
    "\n",
    "test_gan(\n",
    "    fold_test=2,\n",
    "    model_name = \"UNet\",\n",
    "    weights_name=\"Run001_generator_best_model.pth\"\n",
    ")"
   ]
  },
  {
   "cell_type": "markdown",
   "id": "cc2d80dc",
   "metadata": {},
   "source": [
    "Show Test Results"
   ]
  },
  {
   "cell_type": "code",
   "execution_count": null,
   "id": "42c2798c",
   "metadata": {},
   "outputs": [],
   "source": [
    "from pandas import read_csv\n",
    "\n",
    "device_df = read_csv(\"results\\\\Run001_device.csv\")\n",
    "device_df"
   ]
  },
  {
   "cell_type": "code",
   "execution_count": null,
   "id": "60500c15",
   "metadata": {},
   "outputs": [],
   "source": [
    "from pandas import read_csv\n",
    "\n",
    "results_df = read_csv(\"results\\\\Run001_results.csv\")\n",
    "results_df"
   ]
  },
  {
   "cell_type": "markdown",
   "id": "03c95740",
   "metadata": {},
   "source": [
    "*Run 002*\n",
    "- Train Folds: 2, 4, 0\n",
    "- Validation Fold: 3\n",
    "- Test Fold: 3\n",
    "- Unused Fold: 1"
   ]
  },
  {
   "cell_type": "markdown",
   "id": "79a51a1e",
   "metadata": {},
   "source": [
    "Training"
   ]
  },
  {
   "cell_type": "code",
   "execution_count": null,
   "id": "88594108",
   "metadata": {},
   "outputs": [],
   "source": [
    "from train_gan import train_gan\n",
    "\n",
    "train_gan(\n",
    "    run_name=\"Run002\",\n",
    "    model_name=\"UNet\",\n",
    "    fold_val=3,\n",
    "    batch_size=16,\n",
    "    beta_1=0.5,\n",
    "    beta_2=0.999,\n",
    "    epochs=200,\n",
    "    learning_rate=0.00002,\n",
    "    patience=25,\n",
    "    patience_after_n=100,\n",
    "    split=\"generation_4_fold_split.csv\",\n",
    "    weight_decay=0.0001\n",
    ")\n",
    "\n"
   ]
  },
  {
   "cell_type": "markdown",
   "id": "395887df",
   "metadata": {},
   "source": [
    "Plotting Logs"
   ]
  },
  {
   "cell_type": "code",
   "execution_count": null,
   "id": "99b64a6b",
   "metadata": {},
   "outputs": [],
   "source": [
    "from plot_logs import plot_logs_gan\n",
    "\n",
    "plot_logs_gan(imgs_folder=\"gan_imgs\", run_name=\"Run002\")"
   ]
  },
  {
   "cell_type": "markdown",
   "id": "1d80c7c7",
   "metadata": {},
   "source": [
    "Testing"
   ]
  },
  {
   "cell_type": "code",
   "execution_count": null,
   "id": "8eafca24",
   "metadata": {},
   "outputs": [],
   "source": [
    "from test_gan import test_gan\n",
    "\n",
    "test_gan(\n",
    "    fold_test=3,\n",
    "    model_name=\"UNet\",\n",
    "    weights_name=\"Run002_generator_best_model.pth\"\n",
    ")"
   ]
  },
  {
   "cell_type": "markdown",
   "id": "88bd8393",
   "metadata": {},
   "source": [
    "Show Test Results"
   ]
  },
  {
   "cell_type": "code",
   "execution_count": null,
   "id": "21fb579d",
   "metadata": {},
   "outputs": [],
   "source": [
    "from pandas import read_csv\n",
    "\n",
    "device_df = read_csv(\"results\\\\Run002_device.csv\")\n",
    "device_df"
   ]
  },
  {
   "cell_type": "code",
   "execution_count": null,
   "id": "f7c4aea6",
   "metadata": {},
   "outputs": [],
   "source": [
    "from pandas import read_csv\n",
    "\n",
    "results_df = read_csv(\"results\\\\Run002_results.csv\")\n",
    "results_df"
   ]
  },
  {
   "cell_type": "markdown",
   "id": "5b9bc4be",
   "metadata": {},
   "source": [
    "*Run 003*\n",
    "- Train Folds: 2, 3, 0\n",
    "- Validation Fold: 4\n",
    "- Test Fold: 4\n",
    "- Unused Fold: 1"
   ]
  },
  {
   "cell_type": "markdown",
   "id": "3b3a33dd",
   "metadata": {},
   "source": [
    "Training"
   ]
  },
  {
   "cell_type": "code",
   "execution_count": null,
   "id": "eb4b8df5",
   "metadata": {},
   "outputs": [],
   "source": [
    "from train_gan import train_gan\n",
    "\n",
    "train_gan(\n",
    "    run_name=\"Run003\",\n",
    "    model_name=\"UNet\",\n",
    "    fold_val=4,\n",
    "    batch_size=16,\n",
    "    beta_1=0.5,\n",
    "    beta_2=0.999,\n",
    "    epochs=200,\n",
    "    learning_rate=0.00002,\n",
    "    patience=25,\n",
    "    patience_after_n=100,\n",
    "    split=\"generation_4_fold_split.csv\",\n",
    "    weight_decay=0.0001\n",
    ")\n"
   ]
  },
  {
   "cell_type": "markdown",
   "id": "d036b3ae",
   "metadata": {},
   "source": [
    "Plotting Logs"
   ]
  },
  {
   "cell_type": "code",
   "execution_count": null,
   "id": "8510bf42",
   "metadata": {},
   "outputs": [],
   "source": [
    "from plot_logs import plot_logs_gan\n",
    "\n",
    "plot_logs_gan(imgs_folder=\"gan_imgs\", run_name=\"Run003\")"
   ]
  },
  {
   "cell_type": "markdown",
   "id": "0991e31a",
   "metadata": {},
   "source": [
    "Testing"
   ]
  },
  {
   "cell_type": "code",
   "execution_count": null,
   "id": "7a58d861",
   "metadata": {},
   "outputs": [],
   "source": [
    "from test_gan import test_gan\n",
    "\n",
    "test_gan(\n",
    "    fold_test=4,\n",
    "    model_name=\"UNet\",\n",
    "    weights_name=\"Run003_generator_best_model.pth\"\n",
    ")"
   ]
  },
  {
   "cell_type": "markdown",
   "id": "f39120aa",
   "metadata": {},
   "source": [
    "Show Test Results"
   ]
  },
  {
   "cell_type": "code",
   "execution_count": null,
   "id": "a4f3df76",
   "metadata": {},
   "outputs": [],
   "source": [
    "from pandas import read_csv\n",
    "\n",
    "device_df = read_csv(\"results\\\\Run003_device.csv\")\n",
    "device_df"
   ]
  },
  {
   "cell_type": "code",
   "execution_count": null,
   "id": "f1297f47",
   "metadata": {},
   "outputs": [],
   "source": [
    "from pandas import read_csv\n",
    "\n",
    "results_df = read_csv(\"results\\\\Run003_results.csv\")\n",
    "results_df"
   ]
  },
  {
   "cell_type": "markdown",
   "id": "948f65cc",
   "metadata": {},
   "source": [
    "*Run 004*\n",
    "- Train Folds: 2, 3, 4\n",
    "- Validation Fold: 0\n",
    "- Test Fold: 0\n",
    "- Unused Fold: 1"
   ]
  },
  {
   "cell_type": "markdown",
   "id": "d3362f7e",
   "metadata": {},
   "source": [
    "Training"
   ]
  },
  {
   "cell_type": "code",
   "execution_count": null,
   "id": "8dac422b",
   "metadata": {},
   "outputs": [],
   "source": [
    "from train_gan import train_gan\n",
    "\n",
    "train_gan(\n",
    "    run_name=\"Run004\",\n",
    "    model_name=\"UNet\",\n",
    "    fold_val=0,\n",
    "    batch_size=16,\n",
    "    beta_1=0.5,\n",
    "    beta_2=0.999,\n",
    "    epochs=200,\n",
    "    learning_rate=0.00002,\n",
    "    patience=25,\n",
    "    patience_after_n=100,\n",
    "    split=\"generation_4_fold_split.csv\",\n",
    "    weight_decay=0.0001\n",
    ")\n",
    "\n"
   ]
  },
  {
   "cell_type": "markdown",
   "id": "8a89cb72",
   "metadata": {},
   "source": [
    "Plotting Logs"
   ]
  },
  {
   "cell_type": "code",
   "execution_count": null,
   "id": "19ae9667",
   "metadata": {},
   "outputs": [],
   "source": [
    "from plot_logs import plot_logs_gan\n",
    "\n",
    "plot_logs_gan(imgs_folder=\"gan_imgs\", run_name=\"Run004\")"
   ]
  },
  {
   "cell_type": "markdown",
   "id": "fd286f37",
   "metadata": {},
   "source": [
    "Testing"
   ]
  },
  {
   "cell_type": "code",
   "execution_count": null,
   "id": "25d8d1e1",
   "metadata": {},
   "outputs": [],
   "source": [
    "from test_gan import test_gan\n",
    "\n",
    "test_gan(\n",
    "    fold_test=0,\n",
    "    model_name=\"UNet\",\n",
    "    weights_name=\"Run004_generator_best_model.pth\"\n",
    ")"
   ]
  },
  {
   "cell_type": "markdown",
   "id": "9ea4e184",
   "metadata": {},
   "source": [
    "Show Test Results"
   ]
  },
  {
   "cell_type": "code",
   "execution_count": null,
   "id": "64b9bfd3",
   "metadata": {},
   "outputs": [],
   "source": [
    "from pandas import read_csv\n",
    "\n",
    "device_df = read_csv(\"results\\\\Run004_device.csv\")\n",
    "device_df"
   ]
  },
  {
   "cell_type": "code",
   "execution_count": null,
   "id": "f0538f1b",
   "metadata": {},
   "outputs": [],
   "source": [
    "from pandas import read_csv\n",
    "\n",
    "results_df = read_csv(\"results\\\\Run004_results.csv\")\n",
    "results_df"
   ]
  },
  {
   "cell_type": "code",
   "execution_count": null,
   "id": "1a80db84",
   "metadata": {},
   "outputs": [],
   "source": [
    "from test_gan import folds_results_gan\n",
    "\n",
    "folds_results_gan(first_run_name=\"Run001\", iteration=0, k=5)"
   ]
  },
  {
   "cell_type": "markdown",
   "id": "e558bc7f",
   "metadata": {},
   "source": [
    "## Final Testing - U-Net <a id=\"finaltestingunet\"></a>"
   ]
  },
  {
   "cell_type": "code",
   "execution_count": null,
   "id": "b2f62757",
   "metadata": {},
   "outputs": [],
   "source": [
    "from test_gan import test_gan\n",
    "\n",
    "test_gan(\n",
    "    fold_test=1,\n",
    "    model_name=\"UNet\",\n",
    "    weights_name=\"\",\n",
    "    final_test=True\n",
    ")"
   ]
  },
  {
   "cell_type": "markdown",
   "id": "8af5f656",
   "metadata": {},
   "source": [
    "## Iteration XY <a id=\"iteration\"></a>"
   ]
  },
  {
   "cell_type": "markdown",
   "id": "1d9acb17",
   "metadata": {},
   "source": [
    "*Run 005*\n",
    "- Train Folds: 3, 4, 0\n",
    "- Validation Fold: 2\n",
    "- Test Fold: 2\n",
    "- Unused Fold: 1"
   ]
  },
  {
   "cell_type": "markdown",
   "id": "49ea17a5",
   "metadata": {},
   "source": [
    "Training"
   ]
  },
  {
   "cell_type": "code",
   "execution_count": null,
   "id": "b7f239a6",
   "metadata": {},
   "outputs": [],
   "source": [
    "from train_gan import train_gan\n",
    "\n",
    "train_gan(\n",
    "    run_name=\"Run005\",\n",
    "    model_name=\"GAN\",\n",
    "    fold_val=2,\n",
    "    batch_size=32,\n",
    "    beta_1=0.5,\n",
    "    beta_2=0.999,\n",
    "    epochs=200,\n",
    "    learning_rate=0.00002,\n",
    "    patience=25,\n",
    "    patience_after_n=100,\n",
    "    split=\"generation_4_fold_split.csv\"\n",
    ")\n"
   ]
  },
  {
   "cell_type": "markdown",
   "id": "30659fc1",
   "metadata": {},
   "source": [
    "Plotting Logs"
   ]
  },
  {
   "cell_type": "code",
   "execution_count": null,
   "id": "c63eab02",
   "metadata": {},
   "outputs": [],
   "source": [
    "from plot_logs import plot_logs_gan\n",
    "\n",
    "plot_logs_gan(imgs_folder=\"gan_imgs\", run_name=\"Run005\")"
   ]
  },
  {
   "cell_type": "markdown",
   "id": "e3ea01fb",
   "metadata": {},
   "source": [
    "Testing"
   ]
  },
  {
   "cell_type": "code",
   "execution_count": null,
   "id": "e7bce9f7",
   "metadata": {},
   "outputs": [],
   "source": [
    "from test_gan import test_gan\n",
    "\n",
    "test_gan(\n",
    "    fold_test=2,\n",
    "    model_name=\"GAN\",\n",
    "    weights_name=\"Run005_generator_best_model.pth\"\n",
    ")"
   ]
  },
  {
   "cell_type": "markdown",
   "id": "cad70ce1",
   "metadata": {},
   "source": [
    "Show Test Results"
   ]
  },
  {
   "cell_type": "code",
   "execution_count": null,
   "id": "41cb6e3c",
   "metadata": {},
   "outputs": [],
   "source": [
    "from pandas import read_csv\n",
    "\n",
    "device_df = read_csv(\"results\\\\Run005_device.csv\")\n",
    "device_df"
   ]
  },
  {
   "cell_type": "code",
   "execution_count": null,
   "id": "4c5a1fff",
   "metadata": {},
   "outputs": [],
   "source": [
    "from pandas import read_csv\n",
    "\n",
    "results_df = read_csv(\"results\\\\Run005_results.csv\")\n",
    "results_df"
   ]
  },
  {
   "cell_type": "markdown",
   "id": "85d31d38",
   "metadata": {},
   "source": [
    "*Run 006*\n",
    "- Train Folds: 2, 4, 0\n",
    "- Validation Fold: 3\n",
    "- Test Fold: 3\n",
    "- Unused Fold: 1"
   ]
  },
  {
   "cell_type": "markdown",
   "id": "bcdec20c",
   "metadata": {},
   "source": [
    "Training"
   ]
  },
  {
   "cell_type": "code",
   "execution_count": null,
   "id": "b1ae7f12",
   "metadata": {},
   "outputs": [],
   "source": [
    "from train_gan import train_gan\n",
    "\n",
    "train_gan(\n",
    "    run_name=\"Run002\",\n",
    "    model_name=\"GAN\",\n",
    "    fold_val=3,\n",
    "    batch_size=32,\n",
    "    beta_1=0.5,\n",
    "    beta_2=0.999,\n",
    "    epochs=200,\n",
    "    learning_rate=0.00002,\n",
    "    patience=25,\n",
    "    patience_after_n=100,\n",
    "    split=\"generation_5_fold_split.csv\"\n",
    ")\n"
   ]
  },
  {
   "cell_type": "markdown",
   "id": "c14a2109",
   "metadata": {},
   "source": [
    "Plotting Logs"
   ]
  },
  {
   "cell_type": "code",
   "execution_count": null,
   "id": "8f31f906",
   "metadata": {},
   "outputs": [],
   "source": [
    "from plot_logs import plot_logs_gan\n",
    "\n",
    "plot_logs_gan(imgs_folder=\"gan_imgs\", run_name=\"Run006\")"
   ]
  },
  {
   "cell_type": "markdown",
   "id": "afb58eb7",
   "metadata": {},
   "source": [
    "Testing"
   ]
  },
  {
   "cell_type": "code",
   "execution_count": null,
   "id": "3aff486f",
   "metadata": {},
   "outputs": [],
   "source": [
    "from test_gan import test_gan\n",
    "\n",
    "test_gan(\n",
    "    fold_test=3,\n",
    "    model_name=\"GAN\",\n",
    "    weights_name=\"Run006_generator_best_model.pth\"\n",
    ")"
   ]
  },
  {
   "cell_type": "markdown",
   "id": "73dd05e1",
   "metadata": {},
   "source": [
    "Show Test Results"
   ]
  },
  {
   "cell_type": "code",
   "execution_count": null,
   "id": "9f3a3979",
   "metadata": {},
   "outputs": [],
   "source": [
    "from pandas import read_csv\n",
    "\n",
    "device_df = read_csv(\"results\\\\Run006_device.csv\")\n",
    "device_df"
   ]
  },
  {
   "cell_type": "code",
   "execution_count": null,
   "id": "94218961",
   "metadata": {},
   "outputs": [],
   "source": [
    "from pandas import read_csv\n",
    "\n",
    "results_df = read_csv(\"results\\\\Run006_results.csv\")\n",
    "results_df"
   ]
  },
  {
   "cell_type": "markdown",
   "id": "a0f527a1",
   "metadata": {},
   "source": [
    "*Run 007*\n",
    "- Train Folds: 2, 3, 0\n",
    "- Validation Fold: 4\n",
    "- Test Fold: 4\n",
    "- Unused Fold: 1"
   ]
  },
  {
   "cell_type": "markdown",
   "id": "a88bf019",
   "metadata": {},
   "source": [
    "Training"
   ]
  },
  {
   "cell_type": "code",
   "execution_count": null,
   "id": "9a4aca60",
   "metadata": {},
   "outputs": [],
   "source": [
    "from train_gan import train_gan\n",
    "\n",
    "train_gan(\n",
    "    run_name=\"Run007\",\n",
    "    model_name=\"GAN\",\n",
    "    fold_val=4,\n",
    "    batch_size=32,\n",
    "    beta_1=0.5,\n",
    "    beta_2=0.999,\n",
    "    epochs=200,\n",
    "    learning_rate=0.00002,\n",
    "    patience=25,\n",
    "    patience_after_n=100,\n",
    "    split=\"generation_4_fold_split.csv\"\n",
    ")\n"
   ]
  },
  {
   "cell_type": "markdown",
   "id": "2831d70e",
   "metadata": {},
   "source": [
    "Plotting Logs"
   ]
  },
  {
   "cell_type": "code",
   "execution_count": null,
   "id": "b90e2260",
   "metadata": {},
   "outputs": [],
   "source": [
    "from plot_logs import plot_logs_gan\n",
    "\n",
    "plot_logs_gan(imgs_folder=\"gan_imgs\", run_name=\"Run007\")"
   ]
  },
  {
   "cell_type": "markdown",
   "id": "55190f33",
   "metadata": {},
   "source": [
    "Testing"
   ]
  },
  {
   "cell_type": "code",
   "execution_count": null,
   "id": "f98e84b9",
   "metadata": {},
   "outputs": [],
   "source": [
    "from test_gan import test_gan\n",
    "\n",
    "test_gan(\n",
    "    fold_test=4,\n",
    "    model_name=\"GAN\",\n",
    "    weights_name=\"Run007_generator_best_model.pth\"\n",
    ")"
   ]
  },
  {
   "cell_type": "markdown",
   "id": "82c57c31",
   "metadata": {},
   "source": [
    "Show Test Results"
   ]
  },
  {
   "cell_type": "code",
   "execution_count": null,
   "id": "26b5bbf1",
   "metadata": {},
   "outputs": [],
   "source": [
    "from pandas import read_csv\n",
    "\n",
    "device_df = read_csv(\"results\\\\Run007_device.csv\")\n",
    "device_df"
   ]
  },
  {
   "cell_type": "code",
   "execution_count": null,
   "id": "8041c4dd",
   "metadata": {},
   "outputs": [],
   "source": [
    "from pandas import read_csv\n",
    "\n",
    "results_df = read_csv(\"results\\\\Run007_results.csv\")\n",
    "results_df"
   ]
  },
  {
   "cell_type": "markdown",
   "id": "ba6e1ebe",
   "metadata": {},
   "source": [
    "*Run 008*\n",
    "- Train Folds: 2, 3, 4\n",
    "- Validation Fold: 0\n",
    "- Test Fold: 0\n",
    "- Unused Fold: 1"
   ]
  },
  {
   "cell_type": "markdown",
   "id": "2dfcf4cf",
   "metadata": {},
   "source": [
    "Training"
   ]
  },
  {
   "cell_type": "code",
   "execution_count": null,
   "id": "7589d8d9",
   "metadata": {},
   "outputs": [],
   "source": [
    "from train_gan import train_gan\n",
    "\n",
    "train_gan(\n",
    "    run_name=\"Run008\",\n",
    "    model_name=\"GAN\",\n",
    "    fold_val=0,\n",
    "    batch_size=32,\n",
    "    beta_1=0.5,\n",
    "    beta_2=0.999,\n",
    "    epochs=200,\n",
    "    learning_rate=0.00002,\n",
    "    patience=25,\n",
    "    patience_after_n=100,\n",
    "    split=\"generation_4_fold_split.csv\"\n",
    ")\n"
   ]
  },
  {
   "cell_type": "markdown",
   "id": "7e98da58",
   "metadata": {},
   "source": [
    "Plotting Logs"
   ]
  },
  {
   "cell_type": "code",
   "execution_count": null,
   "id": "8bb9eb6e",
   "metadata": {},
   "outputs": [],
   "source": [
    "from plot_logs import plot_logs_gan\n",
    "\n",
    "plot_logs_gan(imgs_folder=\"gan_imgs\", run_name=\"Run008\")"
   ]
  },
  {
   "cell_type": "markdown",
   "id": "2df269a3",
   "metadata": {},
   "source": [
    "Testing"
   ]
  },
  {
   "cell_type": "code",
   "execution_count": null,
   "id": "98b233fd",
   "metadata": {},
   "outputs": [],
   "source": [
    "from test_gan import test_gan\n",
    "\n",
    "test_gan(\n",
    "    fold_test=0,\n",
    "    model_name=\"GAN\",\n",
    "    weights_name=\"Run008_generator_best_model.pth\"\n",
    ")"
   ]
  },
  {
   "cell_type": "markdown",
   "id": "60ff1009",
   "metadata": {},
   "source": [
    "Show Test Results"
   ]
  },
  {
   "cell_type": "code",
   "execution_count": null,
   "id": "770cae24",
   "metadata": {},
   "outputs": [],
   "source": [
    "from pandas import read_csv\n",
    "\n",
    "device_df = read_csv(\"results\\\\Run008_device.csv\")\n",
    "device_df"
   ]
  },
  {
   "cell_type": "code",
   "execution_count": null,
   "id": "818b9c08",
   "metadata": {},
   "outputs": [],
   "source": [
    "from pandas import read_csv\n",
    "\n",
    "results_df = read_csv(\"results\\\\Run008_results.csv\")\n",
    "results_df"
   ]
  },
  {
   "cell_type": "code",
   "execution_count": null,
   "id": "0bdf106e",
   "metadata": {},
   "outputs": [],
   "source": [
    "from test_gan import folds_results_gan\n",
    "\n",
    "folds_results_gan(first_run_name=\"Run005\", iteration=0, k=5)"
   ]
  },
  {
   "cell_type": "markdown",
   "id": "6588c558",
   "metadata": {},
   "source": [
    "## Final Testing - GAN <a id=\"finaltestinggan\"></a>"
   ]
  },
  {
   "cell_type": "code",
   "execution_count": null,
   "id": "53d532e4",
   "metadata": {},
   "outputs": [],
   "source": [
    "from test_gan import test_gan\n",
    "\n",
    "test_gan(\n",
    "    fold_test=1,\n",
    "    model_name=\"GAN\",\n",
    "    weights_name=\"\",\n",
    "    final_test=True\n",
    ")"
   ]
  }
 ],
 "metadata": {
  "kernelspec": {
   "display_name": "Python 3",
   "language": "python",
   "name": "python3"
  },
  "language_info": {
   "codemirror_mode": {
    "name": "ipython",
    "version": 3
   },
   "file_extension": ".py",
   "mimetype": "text/x-python",
   "name": "python",
   "nbconvert_exporter": "python",
   "pygments_lexer": "ipython3",
   "version": "3.9.21"
  }
 },
 "nbformat": 4,
 "nbformat_minor": 5
}
