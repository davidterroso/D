{
 "cells": [
  {
   "cell_type": "markdown",
   "metadata": {},
   "source": [
    "# U-Net Runs"
   ]
  },
  {
   "cell_type": "markdown",
   "metadata": {},
   "source": [
    "## Table of Contents\n",
    "* [Iteration 12](#iteration12)\n",
    "* [Iteration 13](#iteration13)"
   ]
  },
  {
   "cell_type": "markdown",
   "metadata": {},
   "source": [
    "## Iteration 12 <a id=\"iteration12\"></a>"
   ]
  },
  {
   "cell_type": "markdown",
   "metadata": {},
   "source": [
    "*Run 035*\n",
    "- Train Folds: 3, 4, 5\n",
    "- Validation Fold: 2\n",
    "- Test Fold: 2\n",
    "- Unused Fold: 1"
   ]
  },
  {
   "cell_type": "code",
   "execution_count": null,
   "metadata": {},
   "outputs": [],
   "source": [
    "from train import train_model\n",
    "\n",
    "train_model(\n",
    "    run_name=\"Run035\",\n",
    "    model_name=\"UNet\",\n",
    "    device=\"GPU\",\n",
    "    split=\"competitive_fold_selection.csv\",\n",
    "    epochs=100,\n",
    "    batch_size=32,\n",
    "    learning_rate=2e-5,\n",
    "    optimizer_name=\"Adam\",\n",
    "    momentum=0.999,\n",
    "    weight_decay=0.0001,\n",
    "    gradient_clipping=1.0,\n",
    "    scheduler=False, \n",
    "    patch_type=\"vertical\",\n",
    "    number_of_classes=4,\n",
    "    number_of_channels=1,\n",
    "    fold_test=1,\n",
    "    fold_val=2,\n",
    "    tuning=True,\n",
    "    patch_shape=(256,128), \n",
    "    n_pos=12, \n",
    "    n_neg=0, \n",
    "    pos=1, \n",
    "    neg=0,\n",
    "    amp=True,\n",
    "    assyncronous_patch_extraction=True,\n",
    "    patch_dropping=True,\n",
    "    drop_prob=0.75,\n",
    "    patience=100\n",
    ")"
   ]
  },
  {
   "cell_type": "markdown",
   "metadata": {},
   "source": [
    "Training"
   ]
  },
  {
   "cell_type": "markdown",
   "metadata": {},
   "source": [
    "Plotting Logs"
   ]
  },
  {
   "cell_type": "code",
   "execution_count": null,
   "metadata": {},
   "outputs": [],
   "source": [
    "from plot_logs import plot_logs\n",
    "\n",
    "plot_logs(imgs_folder=\"unet_vertical_imgs\", run_name=\"Run035\")"
   ]
  },
  {
   "cell_type": "markdown",
   "metadata": {},
   "source": [
    "Testing"
   ]
  },
  {
   "cell_type": "code",
   "execution_count": null,
   "metadata": {},
   "outputs": [],
   "source": [
    "from test_model import test_model\n",
    "\n",
    "test_model(\n",
    "    fold_test=2,\n",
    "    model_name=\"UNet\",\n",
    "    weights_name=\"Run035_UNet_best_model.pth\",\n",
    "    number_of_channels=1,\n",
    "    number_of_classes=4,\n",
    "    device_name=\"GPU\",\n",
    "    batch_size=1,\n",
    "    patch_type=\"vertical\",\n",
    "    save_images=True,\n",
    "    resize_images=True\n",
    ")"
   ]
  },
  {
   "cell_type": "markdown",
   "metadata": {},
   "source": [
    "Show Test Results"
   ]
  },
  {
   "cell_type": "code",
   "execution_count": null,
   "metadata": {},
   "outputs": [],
   "source": [
    "from pandas import read_csv\n",
    "\n",
    "class_df = read_csv(\"results\\\\Run035_class_dice_resized.csv\")\n",
    "class_df"
   ]
  },
  {
   "cell_type": "code",
   "execution_count": null,
   "metadata": {},
   "outputs": [],
   "source": [
    "from pandas import read_csv\n",
    "\n",
    "vendor_df = read_csv(\"results\\\\Run035_vendor_dice_resized.csv\")\n",
    "vendor_df"
   ]
  },
  {
   "cell_type": "markdown",
   "metadata": {},
   "source": [
    "Measures to Prevent Running Out Of Memory Between Runs"
   ]
  },
  {
   "cell_type": "markdown",
   "metadata": {},
   "source": [
    "Clear Cache"
   ]
  },
  {
   "cell_type": "code",
   "execution_count": null,
   "metadata": {},
   "outputs": [],
   "source": [
    "import torch\n",
    "import warnings\n",
    "\n",
    "warnings.simplefilter(\"ignore\", FutureWarning)\n",
    "torch.cuda.empty_cache()\n",
    "torch.cuda.reset_max_memory_allocated()"
   ]
  },
  {
   "cell_type": "markdown",
   "metadata": {},
   "source": [
    "Restart Kernel"
   ]
  },
  {
   "cell_type": "code",
   "execution_count": null,
   "metadata": {},
   "outputs": [],
   "source": [
    "import IPython\n",
    "\n",
    "IPython.display.clear_output(wait=True)"
   ]
  },
  {
   "cell_type": "markdown",
   "metadata": {},
   "source": [
    "*Run 036*\n",
    "- Train Folds: 3, 4, 5\n",
    "- Validation Fold: 2\n",
    "- Test Fold: 2\n",
    "- Unused Fold: 1"
   ]
  },
  {
   "cell_type": "markdown",
   "metadata": {},
   "source": [
    "Training"
   ]
  },
  {
   "cell_type": "code",
   "execution_count": null,
   "metadata": {},
   "outputs": [],
   "source": [
    "from train import train_model\n",
    "\n",
    "train_model(\n",
    "    run_name=\"Run036\",\n",
    "    model_name=\"UNet\",\n",
    "    device=\"GPU\",\n",
    "    split=\"competitive_fold_selection.csv\",\n",
    "    epochs=100,\n",
    "    batch_size=32,\n",
    "    learning_rate=2e-5,\n",
    "    optimizer_name=\"Adam\",\n",
    "    momentum=0.999,\n",
    "    weight_decay=0.0001,\n",
    "    gradient_clipping=1.0,\n",
    "    scheduler=False, \n",
    "    patch_type=\"vertical\",\n",
    "    number_of_classes=4,\n",
    "    number_of_channels=1,\n",
    "    fold_test=1,\n",
    "    fold_val=2,\n",
    "    tuning=True,\n",
    "    patch_shape=(256,128), \n",
    "    n_pos=12, \n",
    "    n_neg=0, \n",
    "    pos=1, \n",
    "    neg=0,\n",
    "    amp=True,\n",
    "    assyncronous_patch_extraction=True,\n",
    "    patch_dropping=True,\n",
    "    drop_prob=0.75,\n",
    "    patience=100\n",
    ")"
   ]
  },
  {
   "cell_type": "markdown",
   "metadata": {},
   "source": [
    "Plotting Logs"
   ]
  },
  {
   "cell_type": "code",
   "execution_count": null,
   "metadata": {},
   "outputs": [],
   "source": [
    "from plot_logs import plot_logs\n",
    "\n",
    "plot_logs(imgs_folder=\"unet_vertical_imgs\", run_name=\"Run036\")"
   ]
  },
  {
   "cell_type": "markdown",
   "metadata": {},
   "source": [
    "Testing"
   ]
  },
  {
   "cell_type": "code",
   "execution_count": null,
   "metadata": {},
   "outputs": [],
   "source": [
    "from test_model import test_model\n",
    "\n",
    "test_model(\n",
    "    fold_test=2,\n",
    "    model_name=\"UNet\",\n",
    "    weights_name=\"Run036_UNet_best_model.pth\",\n",
    "    number_of_channels=1,\n",
    "    number_of_classes=4,\n",
    "    device_name=\"GPU\",\n",
    "    batch_size=1,\n",
    "    patch_type=\"vertical\",\n",
    "    save_images=True,\n",
    "    resize_images=True\n",
    ")"
   ]
  },
  {
   "cell_type": "markdown",
   "metadata": {},
   "source": [
    "Show Test Results"
   ]
  },
  {
   "cell_type": "code",
   "execution_count": null,
   "metadata": {},
   "outputs": [],
   "source": [
    "from pandas import read_csv\n",
    "\n",
    "class_df = read_csv(\"results\\\\Run036_class_dice_resized.csv\")\n",
    "class_df"
   ]
  },
  {
   "cell_type": "code",
   "execution_count": null,
   "metadata": {},
   "outputs": [],
   "source": [
    "from pandas import read_csv\n",
    "\n",
    "vendor_df = read_csv(\"results\\\\Run036_vendor_dice_resized.csv\")\n",
    "vendor_df"
   ]
  },
  {
   "cell_type": "markdown",
   "metadata": {},
   "source": [
    "Measures to Prevent Running Out Of Memory Between Runs"
   ]
  },
  {
   "cell_type": "markdown",
   "metadata": {},
   "source": [
    "Clear Cache"
   ]
  },
  {
   "cell_type": "code",
   "execution_count": null,
   "metadata": {},
   "outputs": [],
   "source": [
    "import torch\n",
    "import warnings\n",
    "\n",
    "warnings.simplefilter(\"ignore\", FutureWarning)\n",
    "torch.cuda.empty_cache()\n",
    "torch.cuda.reset_max_memory_allocated()"
   ]
  },
  {
   "cell_type": "markdown",
   "metadata": {},
   "source": [
    "Restart Kernel"
   ]
  },
  {
   "cell_type": "code",
   "execution_count": null,
   "metadata": {},
   "outputs": [],
   "source": [
    "import IPython\n",
    "\n",
    "IPython.display.clear_output(wait=True)"
   ]
  },
  {
   "cell_type": "markdown",
   "metadata": {},
   "source": [
    "*Run 037*\n",
    "- Train Folds: 3, 4, 5\n",
    "- Validation Fold: 2\n",
    "- Test Fold: 2\n",
    "- Unused Fold: 1"
   ]
  },
  {
   "cell_type": "markdown",
   "metadata": {},
   "source": [
    "Training"
   ]
  },
  {
   "cell_type": "code",
   "execution_count": null,
   "metadata": {},
   "outputs": [],
   "source": [
    "from train import train_model\n",
    "\n",
    "train_model(\n",
    "    run_name=\"Run037\",\n",
    "    model_name=\"UNet\",\n",
    "    device=\"GPU\",\n",
    "    split=\"competitive_fold_selection.csv\",\n",
    "    epochs=100,\n",
    "    batch_size=32,\n",
    "    learning_rate=2e-5,\n",
    "    optimizer_name=\"Adam\",\n",
    "    momentum=0.999,\n",
    "    weight_decay=0.0001,\n",
    "    gradient_clipping=1.0,\n",
    "    scheduler=False, \n",
    "    patch_type=\"vertical\",\n",
    "    number_of_classes=4,\n",
    "    number_of_channels=1,\n",
    "    fold_test=1,\n",
    "    fold_val=2,\n",
    "    tuning=True,\n",
    "    patch_shape=(256,128), \n",
    "    n_pos=12, \n",
    "    n_neg=0, \n",
    "    pos=1, \n",
    "    neg=0,\n",
    "    amp=True,\n",
    "    assyncronous_patch_extraction=True,\n",
    "    patch_dropping=True,\n",
    "    drop_prob=0.75,\n",
    "    patience=100\n",
    ")"
   ]
  },
  {
   "cell_type": "markdown",
   "metadata": {},
   "source": [
    "Plotting Logs"
   ]
  },
  {
   "cell_type": "code",
   "execution_count": null,
   "metadata": {},
   "outputs": [],
   "source": [
    "from plot_logs import plot_logs\n",
    "\n",
    "plot_logs(imgs_folder=\"unet_vertical_imgs\", run_name=\"Run037\")"
   ]
  },
  {
   "cell_type": "markdown",
   "metadata": {},
   "source": [
    "Testing"
   ]
  },
  {
   "cell_type": "code",
   "execution_count": null,
   "metadata": {},
   "outputs": [],
   "source": [
    "from test_model import test_model\n",
    "\n",
    "test_model(\n",
    "    fold_test=2,\n",
    "    model_name=\"UNet\",\n",
    "    weights_name=\"Run037_UNet_best_model.pth\",\n",
    "    number_of_channels=1,\n",
    "    number_of_classes=4,\n",
    "    device_name=\"GPU\",\n",
    "    batch_size=1,\n",
    "    patch_type=\"vertical\",\n",
    "    save_images=True,\n",
    "    resize_images=True\n",
    ")"
   ]
  },
  {
   "cell_type": "markdown",
   "metadata": {},
   "source": [
    "Show Test Results"
   ]
  },
  {
   "cell_type": "code",
   "execution_count": null,
   "metadata": {},
   "outputs": [],
   "source": [
    "from pandas import read_csv\n",
    "\n",
    "class_df = read_csv(\"results\\\\Run037_class_dice_resized.csv\")\n",
    "class_df"
   ]
  },
  {
   "cell_type": "code",
   "execution_count": null,
   "metadata": {},
   "outputs": [],
   "source": [
    "from pandas import read_csv\n",
    "\n",
    "vendor_df = read_csv(\"results\\\\Run037_vendor_dice_resized.csv\")\n",
    "vendor_df"
   ]
  },
  {
   "cell_type": "markdown",
   "metadata": {},
   "source": [
    "Measures to Prevent Running Out Of Memory Between Runs"
   ]
  },
  {
   "cell_type": "markdown",
   "metadata": {},
   "source": [
    "Clear Cache"
   ]
  },
  {
   "cell_type": "code",
   "execution_count": null,
   "metadata": {},
   "outputs": [],
   "source": [
    "import torch\n",
    "import warnings\n",
    "\n",
    "warnings.simplefilter(\"ignore\", FutureWarning)\n",
    "torch.cuda.empty_cache()\n",
    "torch.cuda.reset_max_memory_allocated()"
   ]
  },
  {
   "cell_type": "markdown",
   "metadata": {},
   "source": [
    "Restart Kernel"
   ]
  },
  {
   "cell_type": "code",
   "execution_count": null,
   "metadata": {},
   "outputs": [],
   "source": [
    "import IPython\n",
    "\n",
    "IPython.display.clear_output(wait=True)"
   ]
  },
  {
   "cell_type": "markdown",
   "metadata": {},
   "source": [
    "*Run 038*\n",
    "- Train Folds: 3, 4, 5\n",
    "- Validation Fold: 2\n",
    "- Test Fold: 2\n",
    "- Unused Fold: 1"
   ]
  },
  {
   "cell_type": "markdown",
   "metadata": {},
   "source": [
    "Training"
   ]
  },
  {
   "cell_type": "code",
   "execution_count": null,
   "metadata": {},
   "outputs": [],
   "source": [
    "from train import train_model\n",
    "\n",
    "train_model(\n",
    "    run_name=\"Run038\",\n",
    "    model_name=\"UNet\",\n",
    "    device=\"GPU\",\n",
    "    split=\"competitive_fold_selection.csv\",\n",
    "    epochs=100,\n",
    "    batch_size=32,\n",
    "    learning_rate=2e-5,\n",
    "    optimizer_name=\"Adam\",\n",
    "    momentum=0.999,\n",
    "    weight_decay=0.0001,\n",
    "    gradient_clipping=1.0,\n",
    "    scheduler=False, \n",
    "    patch_type=\"vertical\",\n",
    "    number_of_classes=4,\n",
    "    number_of_channels=1,\n",
    "    fold_test=1,\n",
    "    fold_val=2,\n",
    "    tuning=True,\n",
    "    patch_shape=(256,128), \n",
    "    n_pos=12, \n",
    "    n_neg=0, \n",
    "    pos=1, \n",
    "    neg=0,\n",
    "    amp=True,\n",
    "    assyncronous_patch_extraction=True,\n",
    "    patch_dropping=True,\n",
    "    drop_prob=0.75,\n",
    "    patience=100\n",
    ")"
   ]
  },
  {
   "cell_type": "markdown",
   "metadata": {},
   "source": [
    "Plotting Logs"
   ]
  },
  {
   "cell_type": "code",
   "execution_count": null,
   "metadata": {},
   "outputs": [],
   "source": [
    "from plot_logs import plot_logs\n",
    "\n",
    "plot_logs(imgs_folder=\"unet_vertical_imgs\", run_name=\"Run038\")"
   ]
  },
  {
   "cell_type": "markdown",
   "metadata": {},
   "source": [
    "Testing"
   ]
  },
  {
   "cell_type": "code",
   "execution_count": null,
   "metadata": {},
   "outputs": [],
   "source": [
    "from test_model import test_model\n",
    "\n",
    "test_model(\n",
    "    fold_test=2,\n",
    "    model_name=\"UNet\",\n",
    "    weights_name=\"Run038_UNet_best_model.pth\",\n",
    "    number_of_channels=1,\n",
    "    number_of_classes=4,\n",
    "    device_name=\"GPU\",\n",
    "    batch_size=1,\n",
    "    patch_type=\"vertical\",\n",
    "    save_images=True,\n",
    "    resize_images=True\n",
    ")"
   ]
  },
  {
   "cell_type": "markdown",
   "metadata": {},
   "source": [
    "Show Test Results"
   ]
  },
  {
   "cell_type": "code",
   "execution_count": null,
   "metadata": {},
   "outputs": [],
   "source": [
    "from pandas import read_csv\n",
    "\n",
    "class_df = read_csv(\"results\\\\Run038_class_dice_resized.csv\")\n",
    "class_df"
   ]
  },
  {
   "cell_type": "code",
   "execution_count": null,
   "metadata": {},
   "outputs": [],
   "source": [
    "from pandas import read_csv\n",
    "\n",
    "vendor_df = read_csv(\"results\\\\Run038_vendor_dice_resized.csv\")\n",
    "vendor_df"
   ]
  },
  {
   "cell_type": "markdown",
   "metadata": {},
   "source": [
    "Measures to Prevent Running Out Of Memory Between Runs"
   ]
  },
  {
   "cell_type": "markdown",
   "metadata": {},
   "source": [
    "Clear Cache"
   ]
  },
  {
   "cell_type": "code",
   "execution_count": null,
   "metadata": {},
   "outputs": [],
   "source": [
    "import torch\n",
    "import warnings\n",
    "\n",
    "warnings.simplefilter(\"ignore\", FutureWarning)\n",
    "torch.cuda.empty_cache()\n",
    "torch.cuda.reset_max_memory_allocated()"
   ]
  },
  {
   "cell_type": "markdown",
   "metadata": {},
   "source": [
    "Restart Kernel"
   ]
  },
  {
   "cell_type": "code",
   "execution_count": null,
   "metadata": {},
   "outputs": [],
   "source": [
    "import IPython\n",
    "\n",
    "IPython.display.clear_output(wait=True)"
   ]
  },
  {
   "cell_type": "markdown",
   "metadata": {},
   "source": [
    "Training"
   ]
  },
  {
   "cell_type": "code",
   "execution_count": null,
   "metadata": {},
   "outputs": [],
   "source": [
    "from train import train_model\n",
    "\n",
    "train_model(\n",
    "    run_name=\"Run039\",\n",
    "    model_name=\"UNet\",\n",
    "    device=\"GPU\",\n",
    "    split=\"competitive_fold_selection.csv\",\n",
    "    epochs=100,\n",
    "    batch_size=32,\n",
    "    learning_rate=2e-5,\n",
    "    optimizer_name=\"Adam\",\n",
    "    momentum=0.999,\n",
    "    weight_decay=0.0001,\n",
    "    gradient_clipping=1.0,\n",
    "    scheduler=False, \n",
    "    patch_type=\"vertical\",\n",
    "    number_of_classes=4,\n",
    "    number_of_channels=1,\n",
    "    fold_test=1,\n",
    "    fold_val=2,\n",
    "    tuning=True,\n",
    "    patch_shape=(256,128), \n",
    "    n_pos=12, \n",
    "    n_neg=0, \n",
    "    pos=1, \n",
    "    neg=0,\n",
    "    amp=True,\n",
    "    assyncronous_patch_extraction=True,\n",
    "    patch_dropping=True,\n",
    "    drop_prob=0.75,\n",
    "    patience=100\n",
    ")"
   ]
  },
  {
   "cell_type": "markdown",
   "metadata": {},
   "source": [
    "Plotting Logs"
   ]
  },
  {
   "cell_type": "code",
   "execution_count": null,
   "metadata": {},
   "outputs": [],
   "source": [
    "from plot_logs import plot_logs\n",
    "\n",
    "plot_logs(imgs_folder=\"unet_vertical_imgs\", run_name=\"Run039\")"
   ]
  },
  {
   "cell_type": "markdown",
   "metadata": {},
   "source": [
    "Testing"
   ]
  },
  {
   "cell_type": "code",
   "execution_count": null,
   "metadata": {},
   "outputs": [],
   "source": [
    "from test_model import test_model\n",
    "\n",
    "test_model(\n",
    "    fold_test=2,\n",
    "    model_name=\"UNet\",\n",
    "    weights_name=\"Run039_UNet_best_model.pth\",\n",
    "    number_of_channels=1,\n",
    "    number_of_classes=4,\n",
    "    device_name=\"GPU\",\n",
    "    batch_size=1,\n",
    "    patch_type=\"vertical\",\n",
    "    save_images=True,\n",
    "    resize_images=True\n",
    ")"
   ]
  },
  {
   "cell_type": "markdown",
   "metadata": {},
   "source": [
    "Show Test Results"
   ]
  },
  {
   "cell_type": "code",
   "execution_count": null,
   "metadata": {},
   "outputs": [],
   "source": [
    "from pandas import read_csv\n",
    "\n",
    "class_df = read_csv(\"results\\\\Run039_class_dice_resized.csv\")\n",
    "class_df"
   ]
  },
  {
   "cell_type": "code",
   "execution_count": null,
   "metadata": {},
   "outputs": [],
   "source": [
    "from pandas import read_csv\n",
    "\n",
    "vendor_df = read_csv(\"results\\\\Run039_vendor_dice_resized.csv\")\n",
    "vendor_df"
   ]
  },
  {
   "cell_type": "markdown",
   "metadata": {},
   "source": [
    "Measures to Prevent Running Out Of Memory Between Runs"
   ]
  },
  {
   "cell_type": "markdown",
   "metadata": {},
   "source": [
    "Clear Cache"
   ]
  },
  {
   "cell_type": "code",
   "execution_count": null,
   "metadata": {},
   "outputs": [],
   "source": [
    "import torch\n",
    "import warnings\n",
    "\n",
    "warnings.simplefilter(\"ignore\", FutureWarning)\n",
    "torch.cuda.empty_cache()\n",
    "torch.cuda.reset_max_memory_allocated()"
   ]
  },
  {
   "cell_type": "markdown",
   "metadata": {},
   "source": [
    "Restart Kernel"
   ]
  },
  {
   "cell_type": "code",
   "execution_count": null,
   "metadata": {},
   "outputs": [],
   "source": [
    "import IPython\n",
    "\n",
    "IPython.display.clear_output(wait=True)"
   ]
  },
  {
   "cell_type": "markdown",
   "metadata": {},
   "source": [
    "Compare Folds Results"
   ]
  },
  {
   "cell_type": "code",
   "execution_count": null,
   "metadata": {},
   "outputs": [],
   "source": [
    "from test_model import folds_results\n",
    "\n",
    "folds_results(first_run_name=\"Run035\", iteration=12, k=6, resized_images=True)"
   ]
  },
  {
   "cell_type": "code",
   "execution_count": null,
   "metadata": {},
   "outputs": [],
   "source": [
    "from pandas import read_csv\n",
    "\n",
    "vendor_df = read_csv(\"results\\\\Iteration12_vendors_results_resized.csv\")\n",
    "vendor_df"
   ]
  },
  {
   "cell_type": "code",
   "execution_count": null,
   "metadata": {},
   "outputs": [],
   "source": [
    "from pandas import read_csv\n",
    "\n",
    "class_df = read_csv(\"results\\\\Iteration12_classes_results_resized.csv\")\n",
    "class_df"
   ]
  },
  {
   "cell_type": "markdown",
   "metadata": {},
   "source": [
    "## Iteration 13 <a id=\"iteration13\"></a>"
   ]
  },
  {
   "cell_type": "markdown",
   "metadata": {},
   "source": [
    "*Run 040*\n",
    "- Train Folds: 2, 4, 5\n",
    "- Validation Fold: 3\n",
    "- Test Fold: 3\n",
    "- Unused Fold: 1"
   ]
  },
  {
   "cell_type": "code",
   "execution_count": null,
   "metadata": {},
   "outputs": [],
   "source": [
    "from train import train_model\n",
    "\n",
    "train_model(\n",
    "    run_name=\"Run040\",\n",
    "    model_name=\"UNet\",\n",
    "    device=\"GPU\",\n",
    "    split=\"competitive_fold_selection.csv\",\n",
    "    epochs=100,\n",
    "    batch_size=32,\n",
    "    learning_rate=2e-5,\n",
    "    optimizer_name=\"Adam\",\n",
    "    momentum=0.999,\n",
    "    weight_decay=0.0001,\n",
    "    gradient_clipping=1.0,\n",
    "    scheduler=False, \n",
    "    patch_type=\"vertical\",\n",
    "    number_of_classes=4,\n",
    "    number_of_channels=1,\n",
    "    fold_test=1,\n",
    "    fold_val=3,\n",
    "    tuning=True,\n",
    "    patch_shape=(256,128),\n",
    "    n_pos=12, \n",
    "    n_neg=0, \n",
    "    pos=1,\n",
    "    neg=0,\n",
    "    amp=True,\n",
    "    assyncronous_patch_extraction=True,\n",
    "    patch_dropping=True,\n",
    "    drop_prob=0.75,\n",
    "    patience=100\n",
    ")"
   ]
  },
  {
   "cell_type": "markdown",
   "metadata": {},
   "source": [
    "Training"
   ]
  },
  {
   "cell_type": "markdown",
   "metadata": {},
   "source": [
    "Plotting Logs"
   ]
  },
  {
   "cell_type": "code",
   "execution_count": null,
   "metadata": {},
   "outputs": [],
   "source": [
    "from plot_logs import plot_logs\n",
    "\n",
    "plot_logs(imgs_folder=\"unet_vertical_imgs\", run_name=\"Run040\")"
   ]
  },
  {
   "cell_type": "markdown",
   "metadata": {},
   "source": [
    "Testing"
   ]
  },
  {
   "cell_type": "code",
   "execution_count": null,
   "metadata": {},
   "outputs": [],
   "source": [
    "from test_model import test_model\n",
    "\n",
    "test_model(\n",
    "    fold_test=3,\n",
    "    model_name=\"UNet\",\n",
    "    weights_name=\"Run040_UNet_best_model.pth\",\n",
    "    number_of_channels=1,\n",
    "    number_of_classes=4,\n",
    "    device_name=\"GPU\",\n",
    "    batch_size=1,\n",
    "    patch_type=\"vertical\",\n",
    "    save_images=True,\n",
    "    resize_images=True\n",
    ")"
   ]
  },
  {
   "cell_type": "markdown",
   "metadata": {},
   "source": [
    "Show Test Results"
   ]
  },
  {
   "cell_type": "code",
   "execution_count": null,
   "metadata": {},
   "outputs": [],
   "source": [
    "from pandas import read_csv\n",
    "\n",
    "class_df = read_csv(\"results\\\\Run040_class_dice_resized.csv\")\n",
    "class_df"
   ]
  },
  {
   "cell_type": "code",
   "execution_count": null,
   "metadata": {},
   "outputs": [],
   "source": [
    "from pandas import read_csv\n",
    "\n",
    "vendor_df = read_csv(\"results\\\\Run040_vendor_dice_resized.csv\")\n",
    "vendor_df"
   ]
  },
  {
   "cell_type": "markdown",
   "metadata": {},
   "source": [
    "Measures to Prevent Running Out Of Memory Between Runs"
   ]
  },
  {
   "cell_type": "markdown",
   "metadata": {},
   "source": [
    "Clear Cache"
   ]
  },
  {
   "cell_type": "code",
   "execution_count": null,
   "metadata": {},
   "outputs": [],
   "source": [
    "import torch\n",
    "import warnings\n",
    "\n",
    "warnings.simplefilter(\"ignore\", FutureWarning)\n",
    "torch.cuda.empty_cache()\n",
    "torch.cuda.reset_max_memory_allocated()"
   ]
  },
  {
   "cell_type": "markdown",
   "metadata": {},
   "source": [
    "Restart Kernel"
   ]
  },
  {
   "cell_type": "code",
   "execution_count": null,
   "metadata": {},
   "outputs": [],
   "source": [
    "import IPython\n",
    "\n",
    "IPython.display.clear_output(wait=True)"
   ]
  },
  {
   "cell_type": "markdown",
   "metadata": {},
   "source": [
    "*Run 041*\n",
    "- Train Folds: 2, 4, 5\n",
    "- Validation Fold: 3\n",
    "- Test Fold: 3\n",
    "- Unused Fold: 1"
   ]
  },
  {
   "cell_type": "markdown",
   "metadata": {},
   "source": [
    "Training"
   ]
  },
  {
   "cell_type": "code",
   "execution_count": null,
   "metadata": {},
   "outputs": [],
   "source": [
    "from train import train_model\n",
    "\n",
    "train_model(\n",
    "    run_name=\"Run041\",\n",
    "    model_name=\"UNet\",\n",
    "    device=\"GPU\",\n",
    "    split=\"competitive_fold_selection.csv\",\n",
    "    epochs=100,\n",
    "    batch_size=32,\n",
    "    learning_rate=2e-5,\n",
    "    optimizer_name=\"Adam\",\n",
    "    momentum=0.999,\n",
    "    weight_decay=0.0001,\n",
    "    gradient_clipping=1.0,\n",
    "    scheduler=False, \n",
    "    patch_type=\"vertical\",\n",
    "    number_of_classes=4,\n",
    "    number_of_channels=1,\n",
    "    fold_test=1,\n",
    "    fold_val=3,\n",
    "    tuning=True,\n",
    "    patch_shape=(256,128),\n",
    "    n_pos=12, \n",
    "    n_neg=0, \n",
    "    pos=1,\n",
    "    neg=0,\n",
    "    amp=True,\n",
    "    assyncronous_patch_extraction=True,\n",
    "    patch_dropping=True,\n",
    "    drop_prob=0.75,\n",
    "    patience=100\n",
    ")"
   ]
  },
  {
   "cell_type": "markdown",
   "metadata": {},
   "source": [
    "Plotting Logs"
   ]
  },
  {
   "cell_type": "code",
   "execution_count": null,
   "metadata": {},
   "outputs": [],
   "source": [
    "from plot_logs import plot_logs\n",
    "\n",
    "plot_logs(imgs_folder=\"unet_vertical_imgs\", run_name=\"Run041\")"
   ]
  },
  {
   "cell_type": "markdown",
   "metadata": {},
   "source": [
    "Testing"
   ]
  },
  {
   "cell_type": "code",
   "execution_count": null,
   "metadata": {},
   "outputs": [],
   "source": [
    "from test_model import test_model\n",
    "\n",
    "test_model(\n",
    "    fold_test=3,\n",
    "    model_name=\"UNet\",\n",
    "    weights_name=\"Run041_UNet_best_model.pth\",\n",
    "    number_of_channels=1,\n",
    "    number_of_classes=4,\n",
    "    device_name=\"GPU\",\n",
    "    batch_size=1,\n",
    "    patch_type=\"vertical\",\n",
    "    save_images=True,\n",
    "    resize_images=True\n",
    ")"
   ]
  },
  {
   "cell_type": "markdown",
   "metadata": {},
   "source": [
    "Show Test Results"
   ]
  },
  {
   "cell_type": "code",
   "execution_count": null,
   "metadata": {},
   "outputs": [],
   "source": [
    "from pandas import read_csv\n",
    "\n",
    "class_df = read_csv(\"results\\\\Run041_class_dice_resized.csv\")\n",
    "class_df"
   ]
  },
  {
   "cell_type": "code",
   "execution_count": null,
   "metadata": {},
   "outputs": [],
   "source": [
    "from pandas import read_csv\n",
    "\n",
    "vendor_df = read_csv(\"results\\\\Run041_vendor_dice_resized.csv\")\n",
    "vendor_df"
   ]
  },
  {
   "cell_type": "markdown",
   "metadata": {},
   "source": [
    "Measures to Prevent Running Out Of Memory Between Runs"
   ]
  },
  {
   "cell_type": "markdown",
   "metadata": {},
   "source": [
    "Clear Cache"
   ]
  },
  {
   "cell_type": "code",
   "execution_count": null,
   "metadata": {},
   "outputs": [],
   "source": [
    "import torch\n",
    "import warnings\n",
    "\n",
    "warnings.simplefilter(\"ignore\", FutureWarning)\n",
    "torch.cuda.empty_cache()\n",
    "torch.cuda.reset_max_memory_allocated()"
   ]
  },
  {
   "cell_type": "markdown",
   "metadata": {},
   "source": [
    "Restart Kernel"
   ]
  },
  {
   "cell_type": "code",
   "execution_count": null,
   "metadata": {},
   "outputs": [],
   "source": [
    "import IPython\n",
    "\n",
    "IPython.display.clear_output(wait=True)"
   ]
  },
  {
   "cell_type": "markdown",
   "metadata": {},
   "source": [
    "*Run 042*\n",
    "- Train Folds: 2, 4, 5\n",
    "- Validation Fold: 3\n",
    "- Test Fold: 3\n",
    "- Unused Fold: 1"
   ]
  },
  {
   "cell_type": "markdown",
   "metadata": {},
   "source": [
    "Training"
   ]
  },
  {
   "cell_type": "code",
   "execution_count": null,
   "metadata": {},
   "outputs": [],
   "source": [
    "from train import train_model\n",
    "\n",
    "train_model(\n",
    "    run_name=\"Run042\",\n",
    "    model_name=\"UNet\",\n",
    "    device=\"GPU\",\n",
    "    split=\"competitive_fold_selection.csv\",\n",
    "    epochs=100,\n",
    "    batch_size=32,\n",
    "    learning_rate=2e-5,\n",
    "    optimizer_name=\"Adam\",\n",
    "    momentum=0.999,\n",
    "    weight_decay=0.0001,\n",
    "    gradient_clipping=1.0,\n",
    "    scheduler=False, \n",
    "    patch_type=\"vertical\",\n",
    "    number_of_classes=4,\n",
    "    number_of_channels=1,\n",
    "    fold_test=1,\n",
    "    fold_val=3,\n",
    "    tuning=True,\n",
    "    patch_shape=(256,128),\n",
    "    n_pos=12, \n",
    "    n_neg=0, \n",
    "    pos=1,\n",
    "    neg=0,\n",
    "    amp=True,\n",
    "    assyncronous_patch_extraction=True,\n",
    "    patch_dropping=True,\n",
    "    drop_prob=0.75,\n",
    "    patience=100\n",
    ")"
   ]
  },
  {
   "cell_type": "markdown",
   "metadata": {},
   "source": [
    "Plotting Logs"
   ]
  },
  {
   "cell_type": "code",
   "execution_count": null,
   "metadata": {},
   "outputs": [],
   "source": [
    "from plot_logs import plot_logs\n",
    "\n",
    "plot_logs(imgs_folder=\"unet_vertical_imgs\", run_name=\"Run042\")"
   ]
  },
  {
   "cell_type": "markdown",
   "metadata": {},
   "source": [
    "Testing"
   ]
  },
  {
   "cell_type": "code",
   "execution_count": null,
   "metadata": {},
   "outputs": [],
   "source": [
    "from test_model import test_model\n",
    "\n",
    "test_model(\n",
    "    fold_test=3,\n",
    "    model_name=\"UNet\",\n",
    "    weights_name=\"Run042_UNet_best_model.pth\",\n",
    "    number_of_channels=1,\n",
    "    number_of_classes=4,\n",
    "    device_name=\"GPU\",\n",
    "    batch_size=1,\n",
    "    patch_type=\"vertical\",\n",
    "    save_images=True,\n",
    "    resize_images=True\n",
    ")"
   ]
  },
  {
   "cell_type": "markdown",
   "metadata": {},
   "source": [
    "Show Test Results"
   ]
  },
  {
   "cell_type": "code",
   "execution_count": null,
   "metadata": {},
   "outputs": [],
   "source": [
    "from pandas import read_csv\n",
    "\n",
    "class_df = read_csv(\"results\\\\Run042_class_dice_resized.csv\")\n",
    "class_df"
   ]
  },
  {
   "cell_type": "code",
   "execution_count": null,
   "metadata": {},
   "outputs": [],
   "source": [
    "from pandas import read_csv\n",
    "\n",
    "vendor_df = read_csv(\"results\\\\Run042_vendor_dice_resized.csv\")\n",
    "vendor_df"
   ]
  },
  {
   "cell_type": "markdown",
   "metadata": {},
   "source": [
    "Measures to Prevent Running Out Of Memory Between Runs"
   ]
  },
  {
   "cell_type": "markdown",
   "metadata": {},
   "source": [
    "Clear Cache"
   ]
  },
  {
   "cell_type": "code",
   "execution_count": null,
   "metadata": {},
   "outputs": [],
   "source": [
    "import torch\n",
    "import warnings\n",
    "\n",
    "warnings.simplefilter(\"ignore\", FutureWarning)\n",
    "torch.cuda.empty_cache()\n",
    "torch.cuda.reset_max_memory_allocated()"
   ]
  },
  {
   "cell_type": "markdown",
   "metadata": {},
   "source": [
    "Restart Kernel"
   ]
  },
  {
   "cell_type": "code",
   "execution_count": null,
   "metadata": {},
   "outputs": [],
   "source": [
    "import IPython\n",
    "\n",
    "IPython.display.clear_output(wait=True)"
   ]
  },
  {
   "cell_type": "markdown",
   "metadata": {},
   "source": [
    "*Run 043*\n",
    "- Train Folds: 2, 4, 5\n",
    "- Validation Fold: 3\n",
    "- Test Fold: 3\n",
    "- Unused Fold: 1"
   ]
  },
  {
   "cell_type": "markdown",
   "metadata": {},
   "source": [
    "Training"
   ]
  },
  {
   "cell_type": "code",
   "execution_count": null,
   "metadata": {},
   "outputs": [],
   "source": [
    "from train import train_model\n",
    "\n",
    "train_model(\n",
    "    run_name=\"Run043\",\n",
    "    model_name=\"UNet\",\n",
    "    device=\"GPU\",\n",
    "    split=\"competitive_fold_selection.csv\",\n",
    "    epochs=100,\n",
    "    batch_size=32,\n",
    "    learning_rate=2e-5,\n",
    "    optimizer_name=\"Adam\",\n",
    "    momentum=0.999,\n",
    "    weight_decay=0.0001,\n",
    "    gradient_clipping=1.0,\n",
    "    scheduler=False, \n",
    "    patch_type=\"vertical\",\n",
    "    number_of_classes=4,\n",
    "    number_of_channels=1,\n",
    "    fold_test=1,\n",
    "    fold_val=3,\n",
    "    tuning=True,\n",
    "    patch_shape=(256,128),\n",
    "    n_pos=12, \n",
    "    n_neg=0, \n",
    "    pos=1,\n",
    "    neg=0,\n",
    "    amp=True,\n",
    "    assyncronous_patch_extraction=True,\n",
    "    patch_dropping=True,\n",
    "    drop_prob=0.75,\n",
    "    patience=100\n",
    ")"
   ]
  },
  {
   "cell_type": "markdown",
   "metadata": {},
   "source": [
    "Plotting Logs"
   ]
  },
  {
   "cell_type": "code",
   "execution_count": null,
   "metadata": {},
   "outputs": [],
   "source": [
    "from plot_logs import plot_logs\n",
    "\n",
    "plot_logs(imgs_folder=\"unet_vertical_imgs\", run_name=\"Run043\")"
   ]
  },
  {
   "cell_type": "markdown",
   "metadata": {},
   "source": [
    "Testing"
   ]
  },
  {
   "cell_type": "code",
   "execution_count": null,
   "metadata": {},
   "outputs": [],
   "source": [
    "from test_model import test_model\n",
    "\n",
    "test_model(\n",
    "    fold_test=3,\n",
    "    model_name=\"UNet\",\n",
    "    weights_name=\"Run043_UNet_best_model.pth\",\n",
    "    number_of_channels=1,\n",
    "    number_of_classes=4,\n",
    "    device_name=\"GPU\",\n",
    "    batch_size=1,\n",
    "    patch_type=\"vertical\",\n",
    "    save_images=True,\n",
    "    resize_images=True\n",
    ")"
   ]
  },
  {
   "cell_type": "markdown",
   "metadata": {},
   "source": [
    "Show Test Results"
   ]
  },
  {
   "cell_type": "code",
   "execution_count": null,
   "metadata": {},
   "outputs": [],
   "source": [
    "from pandas import read_csv\n",
    "\n",
    "class_df = read_csv(\"results\\\\Run043_class_dice_resized.csv\")\n",
    "class_df"
   ]
  },
  {
   "cell_type": "code",
   "execution_count": null,
   "metadata": {},
   "outputs": [],
   "source": [
    "from pandas import read_csv\n",
    "\n",
    "vendor_df = read_csv(\"results\\\\Run043_vendor_dice_resized.csv\")\n",
    "vendor_df"
   ]
  },
  {
   "cell_type": "markdown",
   "metadata": {},
   "source": [
    "Measures to Prevent Running Out Of Memory Between Runs"
   ]
  },
  {
   "cell_type": "markdown",
   "metadata": {},
   "source": [
    "Clear Cache"
   ]
  },
  {
   "cell_type": "code",
   "execution_count": null,
   "metadata": {},
   "outputs": [],
   "source": [
    "import torch\n",
    "import warnings\n",
    "\n",
    "warnings.simplefilter(\"ignore\", FutureWarning)\n",
    "torch.cuda.empty_cache()\n",
    "torch.cuda.reset_max_memory_allocated()"
   ]
  },
  {
   "cell_type": "markdown",
   "metadata": {},
   "source": [
    "Restart Kernel"
   ]
  },
  {
   "cell_type": "code",
   "execution_count": null,
   "metadata": {},
   "outputs": [],
   "source": [
    "import IPython\n",
    "\n",
    "IPython.display.clear_output(wait=True)"
   ]
  },
  {
   "cell_type": "markdown",
   "metadata": {},
   "source": [
    "*Run 044*\n",
    "- Train Folds: 2, 4, 5\n",
    "- Validation Fold: 3\n",
    "- Test Fold: 3\n",
    "- Unused Fold: 1"
   ]
  },
  {
   "cell_type": "markdown",
   "metadata": {},
   "source": [
    "Training"
   ]
  },
  {
   "cell_type": "code",
   "execution_count": null,
   "metadata": {},
   "outputs": [],
   "source": [
    "from train import train_model\n",
    "\n",
    "train_model(\n",
    "    run_name=\"Run044\",\n",
    "    model_name=\"UNet\",\n",
    "    device=\"GPU\",\n",
    "    split=\"competitive_fold_selection.csv\",\n",
    "    epochs=100,\n",
    "    batch_size=32,\n",
    "    learning_rate=2e-5,\n",
    "    optimizer_name=\"Adam\",\n",
    "    momentum=0.999,\n",
    "    weight_decay=0.0001,\n",
    "    gradient_clipping=1.0,\n",
    "    scheduler=False, \n",
    "    patch_type=\"vertical\",\n",
    "    number_of_classes=4,\n",
    "    number_of_channels=1,\n",
    "    fold_test=1,\n",
    "    fold_val=3,\n",
    "    tuning=True,\n",
    "    patch_shape=(256,128),\n",
    "    n_pos=12, \n",
    "    n_neg=0, \n",
    "    pos=1,\n",
    "    neg=0,\n",
    "    amp=True,\n",
    "    assyncronous_patch_extraction=True,\n",
    "    patch_dropping=True,\n",
    "    drop_prob=0.75,\n",
    "    patience=100\n",
    ")"
   ]
  },
  {
   "cell_type": "markdown",
   "metadata": {},
   "source": [
    "Plotting Logs"
   ]
  },
  {
   "cell_type": "code",
   "execution_count": null,
   "metadata": {},
   "outputs": [],
   "source": [
    "from plot_logs import plot_logs\n",
    "\n",
    "plot_logs(imgs_folder=\"unet_vertical_imgs\", run_name=\"Run044\")"
   ]
  },
  {
   "cell_type": "markdown",
   "metadata": {},
   "source": [
    "Testing"
   ]
  },
  {
   "cell_type": "code",
   "execution_count": null,
   "metadata": {},
   "outputs": [],
   "source": [
    "from test_model import test_model\n",
    "\n",
    "test_model(\n",
    "    fold_test=3,\n",
    "    model_name=\"UNet\",\n",
    "    weights_name=\"Run044_UNet_best_model.pth\",\n",
    "    number_of_channels=1,\n",
    "    number_of_classes=4,\n",
    "    device_name=\"GPU\",\n",
    "    batch_size=1,\n",
    "    patch_type=\"vertical\",\n",
    "    save_images=True,\n",
    "    resize_images=True\n",
    ")"
   ]
  },
  {
   "cell_type": "markdown",
   "metadata": {},
   "source": [
    "Show Test Results"
   ]
  },
  {
   "cell_type": "code",
   "execution_count": null,
   "metadata": {},
   "outputs": [],
   "source": [
    "from pandas import read_csv\n",
    "\n",
    "class_df = read_csv(\"results\\\\Run044_class_dice_resized.csv\")\n",
    "class_df"
   ]
  },
  {
   "cell_type": "code",
   "execution_count": null,
   "metadata": {},
   "outputs": [],
   "source": [
    "from pandas import read_csv\n",
    "\n",
    "vendor_df = read_csv(\"results\\\\Run044_vendor_dice_resized.csv\")\n",
    "vendor_df"
   ]
  },
  {
   "cell_type": "markdown",
   "metadata": {},
   "source": [
    "Measures to Prevent Running Out Of Memory Between Runs"
   ]
  },
  {
   "cell_type": "markdown",
   "metadata": {},
   "source": [
    "Clear Cache"
   ]
  },
  {
   "cell_type": "code",
   "execution_count": null,
   "metadata": {},
   "outputs": [],
   "source": [
    "import torch\n",
    "import warnings\n",
    "\n",
    "warnings.simplefilter(\"ignore\", FutureWarning)\n",
    "torch.cuda.empty_cache()\n",
    "torch.cuda.reset_max_memory_allocated()"
   ]
  },
  {
   "cell_type": "markdown",
   "metadata": {},
   "source": [
    "Restart Kernel"
   ]
  },
  {
   "cell_type": "code",
   "execution_count": null,
   "metadata": {},
   "outputs": [],
   "source": [
    "import IPython\n",
    "\n",
    "IPython.display.clear_output(wait=True)"
   ]
  },
  {
   "cell_type": "markdown",
   "metadata": {},
   "source": [
    "Compare Folds Results"
   ]
  },
  {
   "cell_type": "code",
   "execution_count": null,
   "metadata": {},
   "outputs": [],
   "source": [
    "from test_model import folds_results\n",
    "\n",
    "folds_results(first_run_name=\"Run040\", iteration=13, k=6, resized_images=True)"
   ]
  },
  {
   "cell_type": "code",
   "execution_count": null,
   "metadata": {},
   "outputs": [],
   "source": [
    "from pandas import read_csv\n",
    "\n",
    "vendor_df = read_csv(\"results\\\\Iteration13_vendors_results_resized.csv\")\n",
    "vendor_df"
   ]
  },
  {
   "cell_type": "code",
   "execution_count": null,
   "metadata": {},
   "outputs": [],
   "source": [
    "from pandas import read_csv\n",
    "\n",
    "class_df = read_csv(\"results\\\\Iteration13_classes_results_resized.csv\")\n",
    "class_df"
   ]
  }
 ],
 "metadata": {
  "kernelspec": {
   "display_name": "Python 3",
   "language": "python",
   "name": "python3"
  },
  "language_info": {
   "codemirror_mode": {
    "name": "ipython",
    "version": 3
   },
   "file_extension": ".py",
   "mimetype": "text/x-python",
   "name": "python",
   "nbconvert_exporter": "python",
   "pygments_lexer": "ipython3",
   "version": "3.9.21"
  }
 },
 "nbformat": 4,
 "nbformat_minor": 2
}
